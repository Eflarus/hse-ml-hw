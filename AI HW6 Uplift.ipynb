{
 "cells": [
  {
   "cell_type": "markdown",
   "metadata": {
    "id": "view-in-github",
    "colab_type": "text"
   },
   "source": [
    "<a href=\"https://colab.research.google.com/github/Murcha1990/ML_AI24/blob/main/Hometasks/Pro/AI_HW6_uplift.ipynb\" target=\"_parent\"><img src=\"https://colab.research.google.com/assets/colab-badge.svg\" alt=\"Open In Colab\"/></a>"
   ]
  },
  {
   "cell_type": "markdown",
   "metadata": {
    "id": "5UxZHx_r25YA"
   },
   "source": [
    "<h1> Задание по Uplift-моделированию </h1>"
   ]
  },
  {
   "cell_type": "markdown",
   "metadata": {
    "id": "r1LJ_Q4k25YB"
   },
   "source": [
    "<h2>Введение</h2>"
   ]
  },
  {
   "cell_type": "markdown",
   "metadata": {
    "id": "EiEmEZgQ25YC"
   },
   "source": [
    "Перед вами типичная задача, возникающая при работе с моделями кампейнинга в банке: заказчик запустил несколько пилотов по взаимодействию с клиентами с помощью разных каналов: push в мобильном приложении, sms, баннеры в мобильном приложении и реклама в других приложениях экосистемы. Заказчик хотел бы понимать, какой канал взаимодействия с клиентом наиболее эффективен для каждого клиента из клиентской базы. Кампании планируются и запускаются в ежемесячном режиме. Иными словами, заказчик хотел бы в идеале ежемесячно получать список клиентов, которым необходимо отправить коммуникацию с указанием канала и прироста вероятности покупки в случае, если клиенту отправят коммуникацию по сравнению с тем случаем, когда клиенту коммуникацию не отправят."
   ]
  },
  {
   "cell_type": "markdown",
   "metadata": {
    "id": "aLgfZIiN25YC"
   },
   "source": [
    "<b>Таким образом: </b>\n",
    "1.\tУ нас есть база клиентов (клиенты, имеющие id в банке). По данной базе осуществляется рассылка тех или иных стимулирующих коммуникаций по различным продуктам, каналам (например SMS, Push, баннеры в мобильном приложении и т.д.) и сегментам клиентов\n",
    "2.\tПризнаковое описание клиента состоит из различных агрегатов действий клиента за месяц или его объективных характеристик: например, средняя сумма средств на депозитах за месяц, среднее число кликов клиента в день за месяц в разделе \"инвестиции\" в мобильном приложении или возраст клиента\n",
    "3.\tПри формировании обучающей/тестовой выборки допускается, что один и тот же клиент за разные месяцы — это разные объекты. То есть допускается, что клиент в феврале и клиент в марте — это разные клиенты (то есть мы можем оперировать с ними как с разными сущностями).\n",
    "4.\tАгрегаты действий клиента за месяц появляются примерно 10 числа следующего месяца. То есть, например, агрегаты за декабрь появляются 10 января. В свою очередь списки клиентов, которым необходимо осуществить рассылку должны быть сформированы ориентировочно 20 числа предыдущего месяца. Таким образом, <b> модель должна быть обучена делать предсказания с лагом в два месяца </b>, то есть должна делать предсказание на март по клиентским агрегатам за январь. Обязательно учтите это при обучении модели (в противном случае можно получить лик таргета, так как часто величину, которую мы предсказываем уже есть в клиентских агрегатах, но смещенная на два месяца).\n"
   ]
  },
  {
   "cell_type": "markdown",
   "source": [
    "## Оценивание задания:\n",
    "\n",
    "Всего за задание можно получить 50 первичных баллов, которые затем переводятся в 10-балльную шкалу делением не 5."
   ],
   "metadata": {
    "id": "r5VaIQxhMkn_"
   }
  },
  {
   "cell_type": "markdown",
   "source": [
    "Скачаем архив с данными по ссылке и разархивируем."
   ],
   "metadata": {
    "id": "D5LqU8fw76ML"
   }
  },
  {
   "cell_type": "code",
   "source": [
    "!pip install gdown -q\n",
    "!pip uninstall -y scikit-learn numpy scipy  causalml scikit-image\n",
    "!pip install scikit-learn==1.2.2 numpy==1.23.5 scipy causalml scikit-uplift optuna"
   ],
   "metadata": {
    "id": "XwBqYVxY6tY-",
    "ExecuteTime": {
     "end_time": "2025-03-21T13:17:03.635505Z",
     "start_time": "2025-03-21T13:16:56.576977Z"
    }
   },
   "outputs": [
    {
     "name": "stdout",
     "output_type": "stream",
     "text": [
      "Found existing installation: scikit-learn 1.2.2\r\n",
      "Uninstalling scikit-learn-1.2.2:\r\n",
      "  Successfully uninstalled scikit-learn-1.2.2\r\n",
      "Found existing installation: numpy 1.23.5\r\n",
      "Uninstalling numpy-1.23.5:\r\n",
      "  Successfully uninstalled numpy-1.23.5\r\n",
      "Found existing installation: scipy 1.15.2\r\n",
      "Uninstalling scipy-1.15.2:\r\n",
      "  Successfully uninstalled scipy-1.15.2\r\n",
      "Found existing installation: causalml 0.15.2\r\n",
      "Uninstalling causalml-0.15.2:\r\n",
      "  Successfully uninstalled causalml-0.15.2\r\n",
      "\u001B[33mWARNING: Skipping scikit-image as it is not installed.\u001B[0m\u001B[33m\r\n",
      "\u001B[0mCollecting scikit-learn==1.2.2\r\n",
      "  Using cached scikit_learn-1.2.2-cp310-cp310-macosx_12_0_arm64.whl.metadata (11 kB)\r\n",
      "Collecting numpy==1.23.5\r\n",
      "  Using cached numpy-1.23.5-cp310-cp310-macosx_11_0_arm64.whl.metadata (2.3 kB)\r\n",
      "Collecting scipy\r\n",
      "  Using cached scipy-1.15.2-cp310-cp310-macosx_14_0_arm64.whl.metadata (61 kB)\r\n",
      "Collecting causalml\r\n",
      "  Using cached causalml-0.15.3-cp310-cp310-macosx_11_0_arm64.whl.metadata (10 kB)\r\n",
      "Requirement already satisfied: scikit-uplift in /Users/duke/miniconda3/envs/HSE-AI-HW102/lib/python3.10/site-packages (0.5.1)\r\n",
      "Requirement already satisfied: optuna in /Users/duke/miniconda3/envs/HSE-AI-HW102/lib/python3.10/site-packages (4.2.1)\r\n",
      "Requirement already satisfied: joblib>=1.1.1 in /Users/duke/miniconda3/envs/HSE-AI-HW102/lib/python3.10/site-packages (from scikit-learn==1.2.2) (1.4.2)\r\n",
      "Requirement already satisfied: threadpoolctl>=2.0.0 in /Users/duke/miniconda3/envs/HSE-AI-HW102/lib/python3.10/site-packages (from scikit-learn==1.2.2) (3.5.0)\r\n",
      "Requirement already satisfied: forestci==0.6 in /Users/duke/miniconda3/envs/HSE-AI-HW102/lib/python3.10/site-packages (from causalml) (0.6)\r\n",
      "Requirement already satisfied: pathos==0.2.9 in /Users/duke/miniconda3/envs/HSE-AI-HW102/lib/python3.10/site-packages (from causalml) (0.2.9)\r\n",
      "Requirement already satisfied: pip>=10.0 in /Users/duke/miniconda3/envs/HSE-AI-HW102/lib/python3.10/site-packages (from causalml) (25.0)\r\n",
      "Requirement already satisfied: matplotlib in /Users/duke/miniconda3/envs/HSE-AI-HW102/lib/python3.10/site-packages (from causalml) (3.10.0)\r\n",
      "Requirement already satisfied: pandas>=0.24.1 in /Users/duke/miniconda3/envs/HSE-AI-HW102/lib/python3.10/site-packages (from causalml) (2.2.3)\r\n",
      "INFO: pip is looking at multiple versions of causalml to determine which version is compatible with other requirements. This could take a while.\r\n",
      "  Using cached causalml-0.15.2-cp310-cp310-macosx_11_0_arm64.whl.metadata (10 kB)\r\n",
      "Requirement already satisfied: statsmodels>=0.9.0 in /Users/duke/miniconda3/envs/HSE-AI-HW102/lib/python3.10/site-packages (from causalml) (0.14.4)\r\n",
      "Requirement already satisfied: Cython<=0.29.34 in /Users/duke/miniconda3/envs/HSE-AI-HW102/lib/python3.10/site-packages (from causalml) (0.29.34)\r\n",
      "Requirement already satisfied: seaborn in /Users/duke/miniconda3/envs/HSE-AI-HW102/lib/python3.10/site-packages (from causalml) (0.13.2)\r\n",
      "Requirement already satisfied: xgboost in /Users/duke/miniconda3/envs/HSE-AI-HW102/lib/python3.10/site-packages (from causalml) (3.0.0)\r\n",
      "Requirement already satisfied: pydotplus in /Users/duke/miniconda3/envs/HSE-AI-HW102/lib/python3.10/site-packages (from causalml) (2.0.2)\r\n",
      "Requirement already satisfied: tqdm in /Users/duke/miniconda3/envs/HSE-AI-HW102/lib/python3.10/site-packages (from causalml) (4.67.1)\r\n",
      "Requirement already satisfied: shap in /Users/duke/miniconda3/envs/HSE-AI-HW102/lib/python3.10/site-packages (from causalml) (0.47.0)\r\n",
      "Requirement already satisfied: dill in /Users/duke/miniconda3/envs/HSE-AI-HW102/lib/python3.10/site-packages (from causalml) (0.3.9)\r\n",
      "Requirement already satisfied: lightgbm in /Users/duke/miniconda3/envs/HSE-AI-HW102/lib/python3.10/site-packages (from causalml) (4.6.0)\r\n",
      "Requirement already satisfied: pygam in /Users/duke/miniconda3/envs/HSE-AI-HW102/lib/python3.10/site-packages (from causalml) (0.8.0)\r\n",
      "Requirement already satisfied: packaging in /Users/duke/miniconda3/envs/HSE-AI-HW102/lib/python3.10/site-packages (from causalml) (24.2)\r\n",
      "Requirement already satisfied: graphviz in /Users/duke/miniconda3/envs/HSE-AI-HW102/lib/python3.10/site-packages (from causalml) (0.20.3)\r\n",
      "Requirement already satisfied: ppft>=1.7.6.5 in /Users/duke/miniconda3/envs/HSE-AI-HW102/lib/python3.10/site-packages (from pathos==0.2.9->causalml) (1.7.6.9)\r\n",
      "Requirement already satisfied: pox>=0.3.1 in /Users/duke/miniconda3/envs/HSE-AI-HW102/lib/python3.10/site-packages (from pathos==0.2.9->causalml) (0.3.5)\r\n",
      "Requirement already satisfied: multiprocess>=0.70.13 in /Users/duke/miniconda3/envs/HSE-AI-HW102/lib/python3.10/site-packages (from pathos==0.2.9->causalml) (0.70.17)\r\n",
      "Requirement already satisfied: requests in /Users/duke/miniconda3/envs/HSE-AI-HW102/lib/python3.10/site-packages (from scikit-uplift) (2.32.3)\r\n",
      "Requirement already satisfied: alembic>=1.5.0 in /Users/duke/miniconda3/envs/HSE-AI-HW102/lib/python3.10/site-packages (from optuna) (1.15.1)\r\n",
      "Requirement already satisfied: colorlog in /Users/duke/miniconda3/envs/HSE-AI-HW102/lib/python3.10/site-packages (from optuna) (6.9.0)\r\n",
      "Requirement already satisfied: sqlalchemy>=1.4.2 in /Users/duke/miniconda3/envs/HSE-AI-HW102/lib/python3.10/site-packages (from optuna) (2.0.39)\r\n",
      "Requirement already satisfied: PyYAML in /Users/duke/miniconda3/envs/HSE-AI-HW102/lib/python3.10/site-packages (from optuna) (6.0.2)\r\n",
      "Requirement already satisfied: Mako in /Users/duke/miniconda3/envs/HSE-AI-HW102/lib/python3.10/site-packages (from alembic>=1.5.0->optuna) (1.3.9)\r\n",
      "Requirement already satisfied: typing-extensions>=4.12 in /Users/duke/miniconda3/envs/HSE-AI-HW102/lib/python3.10/site-packages (from alembic>=1.5.0->optuna) (4.12.2)\r\n",
      "Requirement already satisfied: python-dateutil>=2.8.2 in /Users/duke/miniconda3/envs/HSE-AI-HW102/lib/python3.10/site-packages (from pandas>=0.24.1->causalml) (2.9.0.post0)\r\n",
      "Requirement already satisfied: pytz>=2020.1 in /Users/duke/miniconda3/envs/HSE-AI-HW102/lib/python3.10/site-packages (from pandas>=0.24.1->causalml) (2024.1)\r\n",
      "Requirement already satisfied: tzdata>=2022.7 in /Users/duke/miniconda3/envs/HSE-AI-HW102/lib/python3.10/site-packages (from pandas>=0.24.1->causalml) (2023.3)\r\n",
      "Requirement already satisfied: patsy>=0.5.6 in /Users/duke/miniconda3/envs/HSE-AI-HW102/lib/python3.10/site-packages (from statsmodels>=0.9.0->causalml) (1.0.1)\r\n",
      "Requirement already satisfied: contourpy>=1.0.1 in /Users/duke/miniconda3/envs/HSE-AI-HW102/lib/python3.10/site-packages (from matplotlib->causalml) (1.3.1)\r\n",
      "Requirement already satisfied: cycler>=0.10 in /Users/duke/miniconda3/envs/HSE-AI-HW102/lib/python3.10/site-packages (from matplotlib->causalml) (0.11.0)\r\n",
      "Requirement already satisfied: fonttools>=4.22.0 in /Users/duke/miniconda3/envs/HSE-AI-HW102/lib/python3.10/site-packages (from matplotlib->causalml) (4.55.3)\r\n",
      "Requirement already satisfied: kiwisolver>=1.3.1 in /Users/duke/miniconda3/envs/HSE-AI-HW102/lib/python3.10/site-packages (from matplotlib->causalml) (1.4.8)\r\n",
      "Requirement already satisfied: pillow>=8 in /Users/duke/miniconda3/envs/HSE-AI-HW102/lib/python3.10/site-packages (from matplotlib->causalml) (11.1.0)\r\n",
      "Requirement already satisfied: pyparsing>=2.3.1 in /Users/duke/miniconda3/envs/HSE-AI-HW102/lib/python3.10/site-packages (from matplotlib->causalml) (3.2.0)\r\n",
      "Requirement already satisfied: future in /Users/duke/miniconda3/envs/HSE-AI-HW102/lib/python3.10/site-packages (from pygam->causalml) (1.0.0)\r\n",
      "Requirement already satisfied: progressbar2 in /Users/duke/miniconda3/envs/HSE-AI-HW102/lib/python3.10/site-packages (from pygam->causalml) (4.5.0)\r\n",
      "Requirement already satisfied: charset-normalizer<4,>=2 in /Users/duke/miniconda3/envs/HSE-AI-HW102/lib/python3.10/site-packages (from requests->scikit-uplift) (3.4.1)\r\n",
      "Requirement already satisfied: idna<4,>=2.5 in /Users/duke/miniconda3/envs/HSE-AI-HW102/lib/python3.10/site-packages (from requests->scikit-uplift) (3.10)\r\n",
      "Requirement already satisfied: urllib3<3,>=1.21.1 in /Users/duke/miniconda3/envs/HSE-AI-HW102/lib/python3.10/site-packages (from requests->scikit-uplift) (2.3.0)\r\n",
      "Requirement already satisfied: certifi>=2017.4.17 in /Users/duke/miniconda3/envs/HSE-AI-HW102/lib/python3.10/site-packages (from requests->scikit-uplift) (2025.1.31)\r\n",
      "Requirement already satisfied: slicer==0.0.8 in /Users/duke/miniconda3/envs/HSE-AI-HW102/lib/python3.10/site-packages (from shap->causalml) (0.0.8)\r\n",
      "Requirement already satisfied: numba>=0.54 in /Users/duke/miniconda3/envs/HSE-AI-HW102/lib/python3.10/site-packages (from shap->causalml) (0.60.0)\r\n",
      "Requirement already satisfied: cloudpickle in /Users/duke/miniconda3/envs/HSE-AI-HW102/lib/python3.10/site-packages (from shap->causalml) (3.1.1)\r\n",
      "Requirement already satisfied: llvmlite<0.44,>=0.43.0dev0 in /Users/duke/miniconda3/envs/HSE-AI-HW102/lib/python3.10/site-packages (from numba>=0.54->shap->causalml) (0.43.0)\r\n",
      "Requirement already satisfied: six>=1.5 in /Users/duke/miniconda3/envs/HSE-AI-HW102/lib/python3.10/site-packages (from python-dateutil>=2.8.2->pandas>=0.24.1->causalml) (1.16.0)\r\n",
      "Requirement already satisfied: MarkupSafe>=0.9.2 in /Users/duke/miniconda3/envs/HSE-AI-HW102/lib/python3.10/site-packages (from Mako->alembic>=1.5.0->optuna) (3.0.2)\r\n",
      "Requirement already satisfied: python-utils>=3.8.1 in /Users/duke/miniconda3/envs/HSE-AI-HW102/lib/python3.10/site-packages (from progressbar2->pygam->causalml) (3.9.1)\r\n",
      "Using cached scikit_learn-1.2.2-cp310-cp310-macosx_12_0_arm64.whl (8.5 MB)\r\n",
      "Using cached numpy-1.23.5-cp310-cp310-macosx_11_0_arm64.whl (13.4 MB)\r\n",
      "Using cached scipy-1.15.2-cp310-cp310-macosx_14_0_arm64.whl (22.4 MB)\r\n",
      "Using cached causalml-0.15.2-cp310-cp310-macosx_11_0_arm64.whl (2.3 MB)\r\n",
      "Installing collected packages: numpy, scipy, scikit-learn, causalml\r\n",
      "Successfully installed causalml-0.15.2 numpy-1.23.5 scikit-learn-1.2.2 scipy-1.15.2\r\n"
     ]
    }
   ],
   "execution_count": 3
  },
  {
   "metadata": {
    "ExecuteTime": {
     "end_time": "2025-03-21T11:43:32.244416Z",
     "start_time": "2025-03-21T11:43:31.649658Z"
    }
   },
   "cell_type": "code",
   "source": "from scipy.stats import ttest_ind",
   "outputs": [],
   "execution_count": 131
  },
  {
   "cell_type": "code",
   "source": [
    "import gdown\n",
    "\n",
    "url = 'https://drive.google.com/uc?id=19nKGaxm3RwHxh2UWPo537_-MDx21AkHO'\n",
    "output = 'Data.zip'\n",
    "gdown.download(url, output, quiet=False)"
   ],
   "metadata": {
    "id": "yBGQKvlF6vU3",
    "ExecuteTime": {
     "end_time": "2025-03-21T09:27:05.953363Z",
     "start_time": "2025-03-21T09:26:37.308001Z"
    }
   },
   "outputs": [
    {
     "name": "stderr",
     "output_type": "stream",
     "text": [
      "Downloading...\n",
      "From (original): https://drive.google.com/uc?id=19nKGaxm3RwHxh2UWPo537_-MDx21AkHO\n",
      "From (redirected): https://drive.google.com/uc?id=19nKGaxm3RwHxh2UWPo537_-MDx21AkHO&confirm=t&uuid=bc66632f-c2c7-4725-824c-634402607454\n",
      "To: /Users/duke/PycharmProjects/HSE-AI-HW/Data.zip\n",
      "100%|██████████| 289M/289M [00:26<00:00, 10.9MB/s] \n"
     ]
    },
    {
     "data": {
      "text/plain": [
       "'Data.zip'"
      ]
     },
     "execution_count": 4,
     "metadata": {},
     "output_type": "execute_result"
    }
   ],
   "execution_count": 4
  },
  {
   "metadata": {
    "ExecuteTime": {
     "end_time": "2025-03-21T11:14:36.770742Z",
     "start_time": "2025-03-21T11:14:36.764927Z"
    }
   },
   "cell_type": "code",
   "source": "import matplotlib.pyplot as plt",
   "outputs": [],
   "execution_count": 108
  },
  {
   "cell_type": "code",
   "source": [
    "import zipfile\n",
    "\n",
    "with zipfile.ZipFile('Data.zip', 'r') as zip_ref:\n",
    "    zip_ref.extractall('data/')"
   ],
   "metadata": {
    "id": "I-5it8TG7ayV",
    "ExecuteTime": {
     "end_time": "2025-03-21T09:27:29.169734Z",
     "start_time": "2025-03-21T09:27:24.263369Z"
    }
   },
   "outputs": [],
   "execution_count": 7
  },
  {
   "cell_type": "markdown",
   "metadata": {
    "id": "l9G5oeYo25YD"
   },
   "source": [
    "<h2>Описание данных</h2>"
   ]
  },
  {
   "cell_type": "markdown",
   "metadata": {
    "id": "LfuaYa-y25YD"
   },
   "source": [
    "Перед вами несколько наборов данных, на основе которых вам будет необходимо обучить Uplift модели, сделать прогноз на нужный месяц и решить, кому из клиентов отправлять коммуникацию, а кому коммуникацию отправлять не следует."
   ]
  },
  {
   "cell_type": "markdown",
   "metadata": {
    "id": "DRjowlnH25YD"
   },
   "source": [
    "<h3>Features </h3> Признаки клиентов, клиентские агрегаты, которые описывают поведение клиентов <br>\n",
    "\n",
    "1. user_id - id клиента\n",
    "2. report_dt - месяц, на который актуальны признаки\n",
    "3. city - город, в котором живет клиент\n",
    "4. age - возраст клиента\n",
    "5. x1 – x9 - числовые признаки клиента, характеризующие поведение клиента\n",
    "\n",
    "Первичный ключ таблицы - user_id + report_dt"
   ]
  },
  {
   "cell_type": "markdown",
   "metadata": {
    "id": "2rJL_Hku25YD"
   },
   "source": [
    "<h3> Contracts </h3> Таблица с покупками продуктов.\n",
    "\n",
    "1. contract_id - id покупки\n",
    "2. user_id - id пользователя, который совершил покупку\n",
    "3. product_id - id продукта, который был куплен\n",
    "4. contract_ts – дата момента, когда была совершена покупка\n",
    "\n",
    "Первичный ключ - contract_id\n"
   ]
  },
  {
   "cell_type": "markdown",
   "metadata": {
    "id": "2TqZalUD25YE"
   },
   "source": [
    "<h3> Campaings </h3> Кампании, которые проводились (под кампанией мы понимаем рассылку sms, push и т.д).\n",
    "\n",
    "1. campaing_id - id кампании, первичный ключ таблицы\n",
    "2. product_id - продукт, по которому проводилась кампания (считаем, что продукты не конкурируют друг с другом)\n",
    "3. channel - канал, в котором проводилась кампания\n"
   ]
  },
  {
   "cell_type": "markdown",
   "metadata": {
    "id": "np7t4WiP25YE"
   },
   "source": [
    "<h3> People_in_campaings </h3> Люди, которые принимали участие в кампаниях.\n",
    "\n",
    "1. campaing_id - id кампании\n",
    "2. user_id - id пользователя, который попал в кампанию\n",
    "3. флаг целевой (1) и контрольной (0) группы (целевая группа - это те, кто получил коммуникацию, а контрольная - те, кто нет)\n",
    "4. delivery_ts - timestamp, когда клиенту фактически была доставлена коммуникация (для контрольной группы nan, подумайте почему)\n",
    "\n",
    "Первичный ключ данной таблицы - user_id + campaing_id\n"
   ]
  },
  {
   "cell_type": "markdown",
   "metadata": {
    "id": "C03ITf9d25YE"
   },
   "source": [
    "<h3> Contracts </h3> Таблица с покупками продуктов\n",
    "\n",
    "1. contract_id - id покупки\n",
    "2. user_id - id пользователя, который совершил покупку\n",
    "3. product_id - id продукта, который был куплен\n",
    "4. contract_ts – дата момента, когда была совершена покупка\n",
    "\n",
    "Первичный ключ - contract_id\n"
   ]
  },
  {
   "cell_type": "markdown",
   "metadata": {
    "id": "X13DQ-BZ25YE"
   },
   "source": [
    "<h1> Постановка задачи </h1> В ноябре 2024 проводилось несколько кампаний по продукту с id 0001 (фактически клиенту рассылалось одно и тоже сообщение, но в разных каналах). Вам необходимо по данным кампаниям построить модель, которая будет определять лучший канал коммуникации каждого клиента и определить, кому из клиентов в марте 2025 отправить какую коммуникацию, а кому коммуникацию вообще отправлять не следует.\n",
    "Ответ нужно представить в следующем виде (report_dt – дата фичей):"
   ]
  },
  {
   "cell_type": "markdown",
   "metadata": {
    "id": "PARzVwDJ25YE"
   },
   "source": [
    "<table>\n",
    "  <thead>\n",
    "    <tr>\n",
    "      <th>user_id</th>\n",
    "      <th>report_dt</th>\n",
    "      <th>channel</th>\n",
    "      <th>uplift</th>\n",
    "    </tr>\n",
    "  </thead>\n",
    "  <tbody>\n",
    "    <tr>\n",
    "      <td>10045</td>\n",
    "      <td>2025-01-31</td>\n",
    "      <td>banner</td>\n",
    "      <td>0.07</td>\n",
    "    </tr>\n",
    "    <tr>\n",
    "      <td>10046</td>\n",
    "      <td>2025-01-31</td>\n",
    "      <td>no_comm</td>\n",
    "      <td>0.00</td>\n",
    "    </tr>\n",
    "    <tr>\n",
    "      <td>10047</td>\n",
    "      <td>2025-01-31</td>\n",
    "      <td>sms</td>\n",
    "      <td>0.23</td>\n",
    "    </tr>\n",
    "    <tr>\n",
    "      <td>10048</td>\n",
    "      <td>2025-01-31</td>\n",
    "      <td>push</td>\n",
    "      <td>0.19</td>\n",
    "    </tr>\n",
    "  </tbody>\n",
    "</table>"
   ]
  },
  {
   "cell_type": "markdown",
   "metadata": {
    "id": "m88lnhDN25YE"
   },
   "source": [
    "<h1> Декомпозиция задачи </h1>"
   ]
  },
  {
   "cell_type": "markdown",
   "metadata": {
    "id": "9NIZb-Ln25YE"
   },
   "source": [
    "<h2> 1.\tСбор и анализ таргета (18 баллов)</h2>"
   ]
  },
  {
   "cell_type": "markdown",
   "metadata": {
    "id": "rh9PtKOB25YF"
   },
   "source": [
    "Прежде всего, вам необходимо собрать целевое событие, которое вы собираетесь прогнозировать. В данном случае целевое событие - это покупка продукта 0001 пользователем, участвовавшем в кампании. Обратите внимание, что не все пользователи получают коммуникацию одновременно (delivery_ts в таблице People_in_campaings). Согласно правилу, согласованному с заказчиком, <b> человек из целевой группы купил продукт после коммуникации - это значит, что он купил его в течение 2х недель после получения сообщения, а человек из контрольной - в течение 3х недель с момента старта кампании (старт кампании - начало месяца). </b> То есть для определенной кампании, для каждого клиента, попавшего в кампанию, вам надо будет найти его покупки данного продукта, а потом основываяся на данном правиле превратить покупки в 0 или 1. <br> На выходе у вас должен появиться таблица с целевым действием для каждого канала (колонки client_id, report_dt,  target), где таргет - это бинарная переменная (0 или 1). Колонка report_dt вам нужна как техническая колонка для дальнейших джоинов.<br><br>\n",
    "\n",
    "Проведите анализ полученных данных (до присоединения клиентских агрегатов). Какие проблемы и сложности в данных вы обнаружили? Что с ними можно сделать? Какая из кампаний наиболее эффективная? Подготовьте выводы по полученным инсайтам.\n"
   ]
  },
  {
   "cell_type": "markdown",
   "source": [
    "**Комментарий по заданиям и оцениванию:**\n",
    "\n",
    "* Вы должны самостоятельно сделать join нескольких таблиц, самостоятельно собрать целевое действие\n",
    "\n",
    "* Представлены 4 различных канала, за таргет по каждому из каналов можно получить **максимум 2 балла**:\n",
    "    * 1 балл за то, что просчитано целевое действие для целевой группы (покупка в\n",
    "течение одной-двух недель с момента получения коммуникации)\n",
    "    * 1 балл за то, что просчитано целевое действие для контрольной группы (покупка в течение двух-трех недель с момента старта кампании) и сделана таблица в требуемом формате\n",
    "\n",
    "* Обратите внимание, что не во всех кампаниях содержатся корректные данные для проведения моделирования, и вам необходимо провести анализ данных и в случае выявленных некорректностей - описать их, и не проводить моделирование для \"сломанной\" кампании  \n",
    "    * За данный анализ можно получить **8 баллов**\n",
    "\n",
    "* Вы должны оценить эффективность кампаний по uplift (cреднее значение таргета в целевой минус среднее значение таргета в контрольной группе)\n",
    "    * За данный анализ можно получить **2 балла**"
   ],
   "metadata": {
    "id": "tSZt8rI5DQFu"
   }
  },
  {
   "cell_type": "code",
   "source": [
    "import os\n",
    "\n",
    "files = os.listdir('data/hw6')\n",
    "files"
   ],
   "metadata": {
    "id": "oPa4XRte3_58",
    "ExecuteTime": {
     "end_time": "2025-03-21T09:29:36.691314Z",
     "start_time": "2025-03-21T09:29:36.678713Z"
    }
   },
   "outputs": [
    {
     "data": {
      "text/plain": [
       "['CONTRACTS_FINAL.csv',\n",
       " 'PEOPLE_IN_CAMPAINGS_FINAL.csv',\n",
       " 'CAMPAINGS.csv',\n",
       " 'AGGS_FINAL.csv']"
      ]
     },
     "execution_count": 8,
     "metadata": {},
     "output_type": "execute_result"
    }
   ],
   "execution_count": 8
  },
  {
   "metadata": {
    "ExecuteTime": {
     "end_time": "2025-03-21T09:31:24.083085Z",
     "start_time": "2025-03-21T09:31:18.999236Z"
    }
   },
   "cell_type": "code",
   "source": [
    "import pandas as pd\n",
    "from datetime import timedelta\n",
    "\n",
    "campaings = pd.read_csv('data/hw6/CAMPAINGS.csv', delimiter=\",\")\n",
    "aggs = pd.read_csv('data/hw6/AGGS_FINAL.csv', delimiter=\",\")\n",
    "contracts = pd.read_csv('data/hw6/CONTRACTS_FINAL.csv', delimiter=\",\")\n",
    "people_in_campaings = pd.read_csv('data/hw6/PEOPLE_IN_CAMPAINGS_FINAL.csv', delimiter=\",\")\n",
    "campaings.shape, aggs.shape, contracts.shape, people_in_campaings.shape"
   ],
   "outputs": [
    {
     "data": {
      "text/plain": [
       "((4, 4), (2760000, 14), (286316, 5), (520000, 5))"
      ]
     },
     "execution_count": 10,
     "metadata": {},
     "output_type": "execute_result"
    }
   ],
   "execution_count": 10
  },
  {
   "metadata": {
    "ExecuteTime": {
     "end_time": "2025-03-21T09:32:26.939848Z",
     "start_time": "2025-03-21T09:32:26.932949Z"
    }
   },
   "cell_type": "code",
   "source": "campaings.head()",
   "outputs": [
    {
     "data": {
      "text/plain": [
       "   Unnamed: 0 campaing_id  product_id    channel\n",
       "0           0       iddqd           1       push\n",
       "1           1      idclip           1        sms\n",
       "2           2        iddt           1     banner\n",
       "3           3       idkfa           1  other_ads"
      ],
      "text/html": [
       "<div>\n",
       "<style scoped>\n",
       "    .dataframe tbody tr th:only-of-type {\n",
       "        vertical-align: middle;\n",
       "    }\n",
       "\n",
       "    .dataframe tbody tr th {\n",
       "        vertical-align: top;\n",
       "    }\n",
       "\n",
       "    .dataframe thead th {\n",
       "        text-align: right;\n",
       "    }\n",
       "</style>\n",
       "<table border=\"1\" class=\"dataframe\">\n",
       "  <thead>\n",
       "    <tr style=\"text-align: right;\">\n",
       "      <th></th>\n",
       "      <th>Unnamed: 0</th>\n",
       "      <th>campaing_id</th>\n",
       "      <th>product_id</th>\n",
       "      <th>channel</th>\n",
       "    </tr>\n",
       "  </thead>\n",
       "  <tbody>\n",
       "    <tr>\n",
       "      <th>0</th>\n",
       "      <td>0</td>\n",
       "      <td>iddqd</td>\n",
       "      <td>1</td>\n",
       "      <td>push</td>\n",
       "    </tr>\n",
       "    <tr>\n",
       "      <th>1</th>\n",
       "      <td>1</td>\n",
       "      <td>idclip</td>\n",
       "      <td>1</td>\n",
       "      <td>sms</td>\n",
       "    </tr>\n",
       "    <tr>\n",
       "      <th>2</th>\n",
       "      <td>2</td>\n",
       "      <td>iddt</td>\n",
       "      <td>1</td>\n",
       "      <td>banner</td>\n",
       "    </tr>\n",
       "    <tr>\n",
       "      <th>3</th>\n",
       "      <td>3</td>\n",
       "      <td>idkfa</td>\n",
       "      <td>1</td>\n",
       "      <td>other_ads</td>\n",
       "    </tr>\n",
       "  </tbody>\n",
       "</table>\n",
       "</div>"
      ]
     },
     "execution_count": 12,
     "metadata": {},
     "output_type": "execute_result"
    }
   ],
   "execution_count": 12
  },
  {
   "metadata": {
    "ExecuteTime": {
     "end_time": "2025-03-21T09:37:36.784888Z",
     "start_time": "2025-03-21T09:37:36.776155Z"
    }
   },
   "cell_type": "code",
   "source": [
    "try:\n",
    "    campaings.drop(columns=['Unnamed: 0'], axis=1, inplace=True)\n",
    "except:\n",
    "    pass\n",
    "print(campaings.info())\n",
    "print(\"dups:\")\n",
    "print(campaings.duplicated().sum())"
   ],
   "outputs": [
    {
     "name": "stdout",
     "output_type": "stream",
     "text": [
      "<class 'pandas.core.frame.DataFrame'>\n",
      "RangeIndex: 4 entries, 0 to 3\n",
      "Data columns (total 3 columns):\n",
      " #   Column       Non-Null Count  Dtype \n",
      "---  ------       --------------  ----- \n",
      " 0   campaing_id  4 non-null      object\n",
      " 1   product_id   4 non-null      int64 \n",
      " 2   channel      4 non-null      object\n",
      "dtypes: int64(1), object(2)\n",
      "memory usage: 228.0+ bytes\n",
      "None\n",
      "dups:\n",
      "0\n"
     ]
    }
   ],
   "execution_count": 24
  },
  {
   "metadata": {
    "ExecuteTime": {
     "end_time": "2025-03-21T09:36:37.380982Z",
     "start_time": "2025-03-21T09:36:37.366177Z"
    }
   },
   "cell_type": "code",
   "source": "aggs",
   "outputs": [
    {
     "data": {
      "text/plain": [
       "         Unnamed: 0        x1        x2        x3        x4        x5  \\\n",
       "0            104548  0.654343 -1.439286 -0.011475  2.039457  0.843580   \n",
       "1             38396  2.583579  1.755569  3.360186 -1.122864  0.034201   \n",
       "2            227077  0.296030 -0.937075  1.073280  1.874636 -0.981216   \n",
       "3            304649  2.329328 -1.345159  0.345066  0.755373 -0.082842   \n",
       "4            239518  0.167643  1.587099  0.165357  0.289758 -1.108840   \n",
       "...             ...       ...       ...       ...       ...       ...   \n",
       "2759995      100191  0.311284 -0.232406 -0.208223  1.006051 -1.498279   \n",
       "2759996      342943 -1.970020  1.180142 -0.572525  1.052022 -0.654687   \n",
       "2759997      186830  0.403995 -0.350153 -0.584462  0.123843 -1.015746   \n",
       "2759998       76230  2.218275 -0.344427  1.281239  3.781907  3.658907   \n",
       "2759999      454256  0.289840  1.089333 -1.081154  0.259124 -1.985497   \n",
       "\n",
       "               x6        x7        x8        x9   report_dt  user_id  age  \\\n",
       "0       -0.977480 -0.768019 -1.044127  0.025673  2025-01-31  1066338   26   \n",
       "1       -0.269607 -1.503646  1.040289 -1.691606  2024-11-30    13900   35   \n",
       "2       -1.100187 -0.331181 -1.575637  0.474965  2025-03-31  4063636   28   \n",
       "3        0.028439  0.919211  0.808793 -0.560004  2025-03-31  1025488   27   \n",
       "4       -1.501819  0.615588  1.631203 -0.208419  2025-02-28  4040555   37   \n",
       "...           ...       ...       ...       ...         ...      ...  ...   \n",
       "2759995  0.306518  1.135627  1.169791 -0.106392  2025-02-28    61957   38   \n",
       "2759996  0.744590 -2.342623 -0.136155  0.582400  2025-01-31   132172   40   \n",
       "2759997  0.922963  1.549083  1.210031 -0.706992  2025-03-31  4028256   34   \n",
       "2759998  1.282129  0.324350  0.982721  2.046261  2025-02-28  1097844   40   \n",
       "2759999  1.429450 -2.007802 -0.091926  1.052896  2025-01-31  2059711   45   \n",
       "\n",
       "             city  \n",
       "0             Ufa  \n",
       "1             Ufa  \n",
       "2             Ufa  \n",
       "3          Moscow  \n",
       "4          Moscow  \n",
       "...           ...  \n",
       "2759995       Ufa  \n",
       "2759996    Moscow  \n",
       "2759997  Smolensk  \n",
       "2759998  Smolensk  \n",
       "2759999    Moscow  \n",
       "\n",
       "[2760000 rows x 14 columns]"
      ],
      "text/html": [
       "<div>\n",
       "<style scoped>\n",
       "    .dataframe tbody tr th:only-of-type {\n",
       "        vertical-align: middle;\n",
       "    }\n",
       "\n",
       "    .dataframe tbody tr th {\n",
       "        vertical-align: top;\n",
       "    }\n",
       "\n",
       "    .dataframe thead th {\n",
       "        text-align: right;\n",
       "    }\n",
       "</style>\n",
       "<table border=\"1\" class=\"dataframe\">\n",
       "  <thead>\n",
       "    <tr style=\"text-align: right;\">\n",
       "      <th></th>\n",
       "      <th>Unnamed: 0</th>\n",
       "      <th>x1</th>\n",
       "      <th>x2</th>\n",
       "      <th>x3</th>\n",
       "      <th>x4</th>\n",
       "      <th>x5</th>\n",
       "      <th>x6</th>\n",
       "      <th>x7</th>\n",
       "      <th>x8</th>\n",
       "      <th>x9</th>\n",
       "      <th>report_dt</th>\n",
       "      <th>user_id</th>\n",
       "      <th>age</th>\n",
       "      <th>city</th>\n",
       "    </tr>\n",
       "  </thead>\n",
       "  <tbody>\n",
       "    <tr>\n",
       "      <th>0</th>\n",
       "      <td>104548</td>\n",
       "      <td>0.654343</td>\n",
       "      <td>-1.439286</td>\n",
       "      <td>-0.011475</td>\n",
       "      <td>2.039457</td>\n",
       "      <td>0.843580</td>\n",
       "      <td>-0.977480</td>\n",
       "      <td>-0.768019</td>\n",
       "      <td>-1.044127</td>\n",
       "      <td>0.025673</td>\n",
       "      <td>2025-01-31</td>\n",
       "      <td>1066338</td>\n",
       "      <td>26</td>\n",
       "      <td>Ufa</td>\n",
       "    </tr>\n",
       "    <tr>\n",
       "      <th>1</th>\n",
       "      <td>38396</td>\n",
       "      <td>2.583579</td>\n",
       "      <td>1.755569</td>\n",
       "      <td>3.360186</td>\n",
       "      <td>-1.122864</td>\n",
       "      <td>0.034201</td>\n",
       "      <td>-0.269607</td>\n",
       "      <td>-1.503646</td>\n",
       "      <td>1.040289</td>\n",
       "      <td>-1.691606</td>\n",
       "      <td>2024-11-30</td>\n",
       "      <td>13900</td>\n",
       "      <td>35</td>\n",
       "      <td>Ufa</td>\n",
       "    </tr>\n",
       "    <tr>\n",
       "      <th>2</th>\n",
       "      <td>227077</td>\n",
       "      <td>0.296030</td>\n",
       "      <td>-0.937075</td>\n",
       "      <td>1.073280</td>\n",
       "      <td>1.874636</td>\n",
       "      <td>-0.981216</td>\n",
       "      <td>-1.100187</td>\n",
       "      <td>-0.331181</td>\n",
       "      <td>-1.575637</td>\n",
       "      <td>0.474965</td>\n",
       "      <td>2025-03-31</td>\n",
       "      <td>4063636</td>\n",
       "      <td>28</td>\n",
       "      <td>Ufa</td>\n",
       "    </tr>\n",
       "    <tr>\n",
       "      <th>3</th>\n",
       "      <td>304649</td>\n",
       "      <td>2.329328</td>\n",
       "      <td>-1.345159</td>\n",
       "      <td>0.345066</td>\n",
       "      <td>0.755373</td>\n",
       "      <td>-0.082842</td>\n",
       "      <td>0.028439</td>\n",
       "      <td>0.919211</td>\n",
       "      <td>0.808793</td>\n",
       "      <td>-0.560004</td>\n",
       "      <td>2025-03-31</td>\n",
       "      <td>1025488</td>\n",
       "      <td>27</td>\n",
       "      <td>Moscow</td>\n",
       "    </tr>\n",
       "    <tr>\n",
       "      <th>4</th>\n",
       "      <td>239518</td>\n",
       "      <td>0.167643</td>\n",
       "      <td>1.587099</td>\n",
       "      <td>0.165357</td>\n",
       "      <td>0.289758</td>\n",
       "      <td>-1.108840</td>\n",
       "      <td>-1.501819</td>\n",
       "      <td>0.615588</td>\n",
       "      <td>1.631203</td>\n",
       "      <td>-0.208419</td>\n",
       "      <td>2025-02-28</td>\n",
       "      <td>4040555</td>\n",
       "      <td>37</td>\n",
       "      <td>Moscow</td>\n",
       "    </tr>\n",
       "    <tr>\n",
       "      <th>...</th>\n",
       "      <td>...</td>\n",
       "      <td>...</td>\n",
       "      <td>...</td>\n",
       "      <td>...</td>\n",
       "      <td>...</td>\n",
       "      <td>...</td>\n",
       "      <td>...</td>\n",
       "      <td>...</td>\n",
       "      <td>...</td>\n",
       "      <td>...</td>\n",
       "      <td>...</td>\n",
       "      <td>...</td>\n",
       "      <td>...</td>\n",
       "      <td>...</td>\n",
       "    </tr>\n",
       "    <tr>\n",
       "      <th>2759995</th>\n",
       "      <td>100191</td>\n",
       "      <td>0.311284</td>\n",
       "      <td>-0.232406</td>\n",
       "      <td>-0.208223</td>\n",
       "      <td>1.006051</td>\n",
       "      <td>-1.498279</td>\n",
       "      <td>0.306518</td>\n",
       "      <td>1.135627</td>\n",
       "      <td>1.169791</td>\n",
       "      <td>-0.106392</td>\n",
       "      <td>2025-02-28</td>\n",
       "      <td>61957</td>\n",
       "      <td>38</td>\n",
       "      <td>Ufa</td>\n",
       "    </tr>\n",
       "    <tr>\n",
       "      <th>2759996</th>\n",
       "      <td>342943</td>\n",
       "      <td>-1.970020</td>\n",
       "      <td>1.180142</td>\n",
       "      <td>-0.572525</td>\n",
       "      <td>1.052022</td>\n",
       "      <td>-0.654687</td>\n",
       "      <td>0.744590</td>\n",
       "      <td>-2.342623</td>\n",
       "      <td>-0.136155</td>\n",
       "      <td>0.582400</td>\n",
       "      <td>2025-01-31</td>\n",
       "      <td>132172</td>\n",
       "      <td>40</td>\n",
       "      <td>Moscow</td>\n",
       "    </tr>\n",
       "    <tr>\n",
       "      <th>2759997</th>\n",
       "      <td>186830</td>\n",
       "      <td>0.403995</td>\n",
       "      <td>-0.350153</td>\n",
       "      <td>-0.584462</td>\n",
       "      <td>0.123843</td>\n",
       "      <td>-1.015746</td>\n",
       "      <td>0.922963</td>\n",
       "      <td>1.549083</td>\n",
       "      <td>1.210031</td>\n",
       "      <td>-0.706992</td>\n",
       "      <td>2025-03-31</td>\n",
       "      <td>4028256</td>\n",
       "      <td>34</td>\n",
       "      <td>Smolensk</td>\n",
       "    </tr>\n",
       "    <tr>\n",
       "      <th>2759998</th>\n",
       "      <td>76230</td>\n",
       "      <td>2.218275</td>\n",
       "      <td>-0.344427</td>\n",
       "      <td>1.281239</td>\n",
       "      <td>3.781907</td>\n",
       "      <td>3.658907</td>\n",
       "      <td>1.282129</td>\n",
       "      <td>0.324350</td>\n",
       "      <td>0.982721</td>\n",
       "      <td>2.046261</td>\n",
       "      <td>2025-02-28</td>\n",
       "      <td>1097844</td>\n",
       "      <td>40</td>\n",
       "      <td>Smolensk</td>\n",
       "    </tr>\n",
       "    <tr>\n",
       "      <th>2759999</th>\n",
       "      <td>454256</td>\n",
       "      <td>0.289840</td>\n",
       "      <td>1.089333</td>\n",
       "      <td>-1.081154</td>\n",
       "      <td>0.259124</td>\n",
       "      <td>-1.985497</td>\n",
       "      <td>1.429450</td>\n",
       "      <td>-2.007802</td>\n",
       "      <td>-0.091926</td>\n",
       "      <td>1.052896</td>\n",
       "      <td>2025-01-31</td>\n",
       "      <td>2059711</td>\n",
       "      <td>45</td>\n",
       "      <td>Moscow</td>\n",
       "    </tr>\n",
       "  </tbody>\n",
       "</table>\n",
       "<p>2760000 rows × 14 columns</p>\n",
       "</div>"
      ]
     },
     "execution_count": 22,
     "metadata": {},
     "output_type": "execute_result"
    }
   ],
   "execution_count": 22
  },
  {
   "metadata": {
    "ExecuteTime": {
     "end_time": "2025-03-21T09:37:45.165322Z",
     "start_time": "2025-03-21T09:37:40.027953Z"
    }
   },
   "cell_type": "code",
   "source": [
    "try:\n",
    "    aggs.drop(columns=['Unnamed: 0'], axis=1, inplace=True)\n",
    "except:\n",
    "    pass\n",
    "print(aggs.info())\n",
    "print(\"dups:\")\n",
    "print(aggs.duplicated().sum())\n",
    "print(aggs.isna().sum())"
   ],
   "outputs": [
    {
     "name": "stdout",
     "output_type": "stream",
     "text": [
      "<class 'pandas.core.frame.DataFrame'>\n",
      "RangeIndex: 2760000 entries, 0 to 2759999\n",
      "Data columns (total 13 columns):\n",
      " #   Column     Dtype  \n",
      "---  ------     -----  \n",
      " 0   x1         float64\n",
      " 1   x2         float64\n",
      " 2   x3         float64\n",
      " 3   x4         float64\n",
      " 4   x5         float64\n",
      " 5   x6         float64\n",
      " 6   x7         float64\n",
      " 7   x8         float64\n",
      " 8   x9         float64\n",
      " 9   report_dt  object \n",
      " 10  user_id    int64  \n",
      " 11  age        int64  \n",
      " 12  city       object \n",
      "dtypes: float64(9), int64(2), object(2)\n",
      "memory usage: 273.7+ MB\n",
      "None\n",
      "dups:\n",
      "0\n"
     ]
    }
   ],
   "execution_count": 25
  },
  {
   "metadata": {
    "ExecuteTime": {
     "end_time": "2025-03-21T09:40:58.325121Z",
     "start_time": "2025-03-21T09:40:58.301691Z"
    }
   },
   "cell_type": "code",
   "source": [
    "aggs['report_dt'] = pd.to_datetime(aggs['report_dt'])  #fix date type\n",
    "aggs['report_dt'].min(), aggs['report_dt'].max()"
   ],
   "outputs": [
    {
     "data": {
      "text/plain": [
       "(Timestamp('2024-09-30 00:00:00'), Timestamp('2025-03-31 00:00:00'))"
      ]
     },
     "execution_count": 27,
     "metadata": {},
     "output_type": "execute_result"
    }
   ],
   "execution_count": 27
  },
  {
   "metadata": {
    "ExecuteTime": {
     "end_time": "2025-03-21T09:41:12.636658Z",
     "start_time": "2025-03-21T09:41:11.626247Z"
    }
   },
   "cell_type": "code",
   "source": "aggs.describe()",
   "outputs": [
    {
     "data": {
      "text/plain": [
       "                 x1            x2            x3            x4            x5  \\\n",
       "count  2.760000e+06  2.760000e+06  2.760000e+06  2.760000e+06  2.760000e+06   \n",
       "mean   3.988062e-01  2.250623e-01 -1.689064e-01  4.017383e-01 -1.185459e-01   \n",
       "min   -1.113415e+01 -7.068110e+00 -7.680731e+00 -7.798771e+00 -7.404917e+00   \n",
       "25%   -5.565028e-01 -8.239637e-01 -1.309853e+00 -7.114052e-01 -1.116267e+00   \n",
       "50%    4.642901e-01  1.832341e-01 -1.992055e-01  4.617230e-01 -1.478002e-01   \n",
       "75%    1.434725e+00  1.224097e+00  9.581031e-01  1.548457e+00  8.046903e-01   \n",
       "max    7.933699e+00  7.949757e+00  7.459863e+00  9.690141e+00  8.426104e+00   \n",
       "std    1.548803e+00  1.459784e+00  1.611031e+00  1.650905e+00  1.478211e+00   \n",
       "\n",
       "                 x6            x7            x8            x9  \\\n",
       "count  2.760000e+06  2.760000e+06  2.760000e+06  2.760000e+06   \n",
       "mean   4.531061e-04 -3.144252e-01  3.161505e-01  3.093172e-01   \n",
       "min   -5.032543e+00 -5.932835e+00 -5.494686e+00 -9.311553e+00   \n",
       "25%   -6.733207e-01 -1.228148e+00 -6.638271e-01 -4.815961e-01   \n",
       "50%    2.276992e-04 -5.245525e-01  6.067144e-01  3.415832e-01   \n",
       "75%    6.749969e-01  6.159298e-01  1.179249e+00  1.100658e+00   \n",
       "max    5.000049e+00  5.329285e+00  5.905419e+00  6.597772e+00   \n",
       "std    9.991039e-01  1.241153e+00  1.214279e+00  1.268475e+00   \n",
       "\n",
       "                           report_dt       user_id           age  \n",
       "count                        2760000  2.760000e+06  2.760000e+06  \n",
       "mean   2025-01-09 12:00:00.000000256  1.765210e+06  3.250865e+01  \n",
       "min              2024-09-30 00:00:00  1.000000e+00  2.000000e+01  \n",
       "25%              2024-11-30 00:00:00  1.150008e+05  2.600000e+01  \n",
       "50%              2025-01-15 12:00:00  2.010000e+06  3.300000e+01  \n",
       "75%              2025-02-28 00:00:00  4.004999e+06  3.900000e+01  \n",
       "max              2025-03-31 00:00:00  4.119999e+06  4.500000e+01  \n",
       "std                              NaN  1.564329e+06  7.494920e+00  "
      ],
      "text/html": [
       "<div>\n",
       "<style scoped>\n",
       "    .dataframe tbody tr th:only-of-type {\n",
       "        vertical-align: middle;\n",
       "    }\n",
       "\n",
       "    .dataframe tbody tr th {\n",
       "        vertical-align: top;\n",
       "    }\n",
       "\n",
       "    .dataframe thead th {\n",
       "        text-align: right;\n",
       "    }\n",
       "</style>\n",
       "<table border=\"1\" class=\"dataframe\">\n",
       "  <thead>\n",
       "    <tr style=\"text-align: right;\">\n",
       "      <th></th>\n",
       "      <th>x1</th>\n",
       "      <th>x2</th>\n",
       "      <th>x3</th>\n",
       "      <th>x4</th>\n",
       "      <th>x5</th>\n",
       "      <th>x6</th>\n",
       "      <th>x7</th>\n",
       "      <th>x8</th>\n",
       "      <th>x9</th>\n",
       "      <th>report_dt</th>\n",
       "      <th>user_id</th>\n",
       "      <th>age</th>\n",
       "    </tr>\n",
       "  </thead>\n",
       "  <tbody>\n",
       "    <tr>\n",
       "      <th>count</th>\n",
       "      <td>2.760000e+06</td>\n",
       "      <td>2.760000e+06</td>\n",
       "      <td>2.760000e+06</td>\n",
       "      <td>2.760000e+06</td>\n",
       "      <td>2.760000e+06</td>\n",
       "      <td>2.760000e+06</td>\n",
       "      <td>2.760000e+06</td>\n",
       "      <td>2.760000e+06</td>\n",
       "      <td>2.760000e+06</td>\n",
       "      <td>2760000</td>\n",
       "      <td>2.760000e+06</td>\n",
       "      <td>2.760000e+06</td>\n",
       "    </tr>\n",
       "    <tr>\n",
       "      <th>mean</th>\n",
       "      <td>3.988062e-01</td>\n",
       "      <td>2.250623e-01</td>\n",
       "      <td>-1.689064e-01</td>\n",
       "      <td>4.017383e-01</td>\n",
       "      <td>-1.185459e-01</td>\n",
       "      <td>4.531061e-04</td>\n",
       "      <td>-3.144252e-01</td>\n",
       "      <td>3.161505e-01</td>\n",
       "      <td>3.093172e-01</td>\n",
       "      <td>2025-01-09 12:00:00.000000256</td>\n",
       "      <td>1.765210e+06</td>\n",
       "      <td>3.250865e+01</td>\n",
       "    </tr>\n",
       "    <tr>\n",
       "      <th>min</th>\n",
       "      <td>-1.113415e+01</td>\n",
       "      <td>-7.068110e+00</td>\n",
       "      <td>-7.680731e+00</td>\n",
       "      <td>-7.798771e+00</td>\n",
       "      <td>-7.404917e+00</td>\n",
       "      <td>-5.032543e+00</td>\n",
       "      <td>-5.932835e+00</td>\n",
       "      <td>-5.494686e+00</td>\n",
       "      <td>-9.311553e+00</td>\n",
       "      <td>2024-09-30 00:00:00</td>\n",
       "      <td>1.000000e+00</td>\n",
       "      <td>2.000000e+01</td>\n",
       "    </tr>\n",
       "    <tr>\n",
       "      <th>25%</th>\n",
       "      <td>-5.565028e-01</td>\n",
       "      <td>-8.239637e-01</td>\n",
       "      <td>-1.309853e+00</td>\n",
       "      <td>-7.114052e-01</td>\n",
       "      <td>-1.116267e+00</td>\n",
       "      <td>-6.733207e-01</td>\n",
       "      <td>-1.228148e+00</td>\n",
       "      <td>-6.638271e-01</td>\n",
       "      <td>-4.815961e-01</td>\n",
       "      <td>2024-11-30 00:00:00</td>\n",
       "      <td>1.150008e+05</td>\n",
       "      <td>2.600000e+01</td>\n",
       "    </tr>\n",
       "    <tr>\n",
       "      <th>50%</th>\n",
       "      <td>4.642901e-01</td>\n",
       "      <td>1.832341e-01</td>\n",
       "      <td>-1.992055e-01</td>\n",
       "      <td>4.617230e-01</td>\n",
       "      <td>-1.478002e-01</td>\n",
       "      <td>2.276992e-04</td>\n",
       "      <td>-5.245525e-01</td>\n",
       "      <td>6.067144e-01</td>\n",
       "      <td>3.415832e-01</td>\n",
       "      <td>2025-01-15 12:00:00</td>\n",
       "      <td>2.010000e+06</td>\n",
       "      <td>3.300000e+01</td>\n",
       "    </tr>\n",
       "    <tr>\n",
       "      <th>75%</th>\n",
       "      <td>1.434725e+00</td>\n",
       "      <td>1.224097e+00</td>\n",
       "      <td>9.581031e-01</td>\n",
       "      <td>1.548457e+00</td>\n",
       "      <td>8.046903e-01</td>\n",
       "      <td>6.749969e-01</td>\n",
       "      <td>6.159298e-01</td>\n",
       "      <td>1.179249e+00</td>\n",
       "      <td>1.100658e+00</td>\n",
       "      <td>2025-02-28 00:00:00</td>\n",
       "      <td>4.004999e+06</td>\n",
       "      <td>3.900000e+01</td>\n",
       "    </tr>\n",
       "    <tr>\n",
       "      <th>max</th>\n",
       "      <td>7.933699e+00</td>\n",
       "      <td>7.949757e+00</td>\n",
       "      <td>7.459863e+00</td>\n",
       "      <td>9.690141e+00</td>\n",
       "      <td>8.426104e+00</td>\n",
       "      <td>5.000049e+00</td>\n",
       "      <td>5.329285e+00</td>\n",
       "      <td>5.905419e+00</td>\n",
       "      <td>6.597772e+00</td>\n",
       "      <td>2025-03-31 00:00:00</td>\n",
       "      <td>4.119999e+06</td>\n",
       "      <td>4.500000e+01</td>\n",
       "    </tr>\n",
       "    <tr>\n",
       "      <th>std</th>\n",
       "      <td>1.548803e+00</td>\n",
       "      <td>1.459784e+00</td>\n",
       "      <td>1.611031e+00</td>\n",
       "      <td>1.650905e+00</td>\n",
       "      <td>1.478211e+00</td>\n",
       "      <td>9.991039e-01</td>\n",
       "      <td>1.241153e+00</td>\n",
       "      <td>1.214279e+00</td>\n",
       "      <td>1.268475e+00</td>\n",
       "      <td>NaN</td>\n",
       "      <td>1.564329e+06</td>\n",
       "      <td>7.494920e+00</td>\n",
       "    </tr>\n",
       "  </tbody>\n",
       "</table>\n",
       "</div>"
      ]
     },
     "execution_count": 28,
     "metadata": {},
     "output_type": "execute_result"
    }
   ],
   "execution_count": 28
  },
  {
   "metadata": {},
   "cell_type": "markdown",
   "source": [
    "\n",
    "- x1-x9 - Нормализованные признаки (mean ≈ 0, std ≈ 1). Отрицательные значения в x3, x5, x7 могут указывать на негативные аспекты поведения клиентов\n",
    "\n",
    "- report_dt - Период с сентября 2024 по март 2025, равномерное распределение по месяцам\n",
    "\n",
    "- user_id - Диапазон 1-4119999, неравномерное распределение (возможны пробелы в нумерации или данные из разных источников)\n",
    "\n",
    "- age-  Диапазон 20-45 лет, avg age = 32.5, распределение близко к нормальному"
   ]
  },
  {
   "metadata": {
    "ExecuteTime": {
     "end_time": "2025-03-21T09:45:35.559723Z",
     "start_time": "2025-03-21T09:45:35.543160Z"
    }
   },
   "cell_type": "code",
   "source": "contracts.head()",
   "outputs": [
    {
     "data": {
      "text/plain": [
       "   Unnamed: 0  user_id contract_date  product_id              contract_id\n",
       "0       39735  4008279    2024-11-03           1  0001_2024-11-03_4008279\n",
       "1       44062  2079035    2024-11-08           1  0001_2024-11-08_2079035\n",
       "2        9286   103088    2024-11-13           1   0001_2024-11-13_103088\n",
       "3       45573  2026788    2024-11-02           1  0001_2024-11-02_2026788\n",
       "4      150378    52269    2024-11-17           1    0001_2024-11-17_52269"
      ],
      "text/html": [
       "<div>\n",
       "<style scoped>\n",
       "    .dataframe tbody tr th:only-of-type {\n",
       "        vertical-align: middle;\n",
       "    }\n",
       "\n",
       "    .dataframe tbody tr th {\n",
       "        vertical-align: top;\n",
       "    }\n",
       "\n",
       "    .dataframe thead th {\n",
       "        text-align: right;\n",
       "    }\n",
       "</style>\n",
       "<table border=\"1\" class=\"dataframe\">\n",
       "  <thead>\n",
       "    <tr style=\"text-align: right;\">\n",
       "      <th></th>\n",
       "      <th>Unnamed: 0</th>\n",
       "      <th>user_id</th>\n",
       "      <th>contract_date</th>\n",
       "      <th>product_id</th>\n",
       "      <th>contract_id</th>\n",
       "    </tr>\n",
       "  </thead>\n",
       "  <tbody>\n",
       "    <tr>\n",
       "      <th>0</th>\n",
       "      <td>39735</td>\n",
       "      <td>4008279</td>\n",
       "      <td>2024-11-03</td>\n",
       "      <td>1</td>\n",
       "      <td>0001_2024-11-03_4008279</td>\n",
       "    </tr>\n",
       "    <tr>\n",
       "      <th>1</th>\n",
       "      <td>44062</td>\n",
       "      <td>2079035</td>\n",
       "      <td>2024-11-08</td>\n",
       "      <td>1</td>\n",
       "      <td>0001_2024-11-08_2079035</td>\n",
       "    </tr>\n",
       "    <tr>\n",
       "      <th>2</th>\n",
       "      <td>9286</td>\n",
       "      <td>103088</td>\n",
       "      <td>2024-11-13</td>\n",
       "      <td>1</td>\n",
       "      <td>0001_2024-11-13_103088</td>\n",
       "    </tr>\n",
       "    <tr>\n",
       "      <th>3</th>\n",
       "      <td>45573</td>\n",
       "      <td>2026788</td>\n",
       "      <td>2024-11-02</td>\n",
       "      <td>1</td>\n",
       "      <td>0001_2024-11-02_2026788</td>\n",
       "    </tr>\n",
       "    <tr>\n",
       "      <th>4</th>\n",
       "      <td>150378</td>\n",
       "      <td>52269</td>\n",
       "      <td>2024-11-17</td>\n",
       "      <td>1</td>\n",
       "      <td>0001_2024-11-17_52269</td>\n",
       "    </tr>\n",
       "  </tbody>\n",
       "</table>\n",
       "</div>"
      ]
     },
     "execution_count": 29,
     "metadata": {},
     "output_type": "execute_result"
    }
   ],
   "execution_count": 29
  },
  {
   "metadata": {
    "ExecuteTime": {
     "end_time": "2025-03-21T09:46:23.164486Z",
     "start_time": "2025-03-21T09:46:23.040547Z"
    }
   },
   "cell_type": "code",
   "source": [
    "try:\n",
    "    contracts.drop(columns=['Unnamed: 0'], axis=1, inplace=True)\n",
    "except:\n",
    "    pass\n",
    "print(contracts.info())\n",
    "print(\"dups:\")\n",
    "print(contracts.duplicated().sum())\n",
    "print(contracts.isna().sum())"
   ],
   "outputs": [
    {
     "name": "stdout",
     "output_type": "stream",
     "text": [
      "<class 'pandas.core.frame.DataFrame'>\n",
      "RangeIndex: 286316 entries, 0 to 286315\n",
      "Data columns (total 4 columns):\n",
      " #   Column         Non-Null Count   Dtype \n",
      "---  ------         --------------   ----- \n",
      " 0   user_id        286316 non-null  int64 \n",
      " 1   contract_date  286316 non-null  object\n",
      " 2   product_id     286316 non-null  int64 \n",
      " 3   contract_id    286316 non-null  object\n",
      "dtypes: int64(2), object(2)\n",
      "memory usage: 8.7+ MB\n",
      "None\n",
      "dups:\n",
      "0\n",
      "user_id          0\n",
      "contract_date    0\n",
      "product_id       0\n",
      "contract_id      0\n",
      "dtype: int64\n"
     ]
    }
   ],
   "execution_count": 30
  },
  {
   "metadata": {
    "ExecuteTime": {
     "end_time": "2025-03-21T09:47:27.575852Z",
     "start_time": "2025-03-21T09:47:27.547205Z"
    }
   },
   "cell_type": "code",
   "source": [
    "contracts['contract_date'] = pd.to_datetime(contracts['contract_date'])  #fix date type\n",
    "contracts['contract_date'].min(), contracts['contract_date'].max()"
   ],
   "outputs": [
    {
     "data": {
      "text/plain": [
       "(Timestamp('2024-11-01 00:00:00'), Timestamp('2024-11-28 00:00:00'))"
      ]
     },
     "execution_count": 31,
     "metadata": {},
     "output_type": "execute_result"
    }
   ],
   "execution_count": 31
  },
  {
   "metadata": {
    "ExecuteTime": {
     "end_time": "2025-03-21T09:48:28.689753Z",
     "start_time": "2025-03-21T09:48:28.652761Z"
    }
   },
   "cell_type": "code",
   "source": "contracts['user_id'].value_counts().unique()  # клиенты с несколькими покупками - похоже таких нет",
   "outputs": [
    {
     "data": {
      "text/plain": [
       "array([1])"
      ]
     },
     "execution_count": 32,
     "metadata": {},
     "output_type": "execute_result"
    }
   ],
   "execution_count": 32
  },
  {
   "metadata": {
    "ExecuteTime": {
     "end_time": "2025-03-21T09:48:47.685774Z",
     "start_time": "2025-03-21T09:48:47.679716Z"
    }
   },
   "cell_type": "code",
   "source": "people_in_campaings.head()",
   "outputs": [
    {
     "data": {
      "text/plain": [
       "   Unnamed: 0 campaing_id  user_id  t_flag delivery_date\n",
       "0       29299      idclip  1099975       1    2024-11-06\n",
       "1       36627       iddqd     1162       1    2024-11-08\n",
       "2      134015       iddqd    42991       1    2024-11-07\n",
       "3       57441      idclip   142343       0       unknown\n",
       "4       48671       iddqd    24623       0       unknown"
      ],
      "text/html": [
       "<div>\n",
       "<style scoped>\n",
       "    .dataframe tbody tr th:only-of-type {\n",
       "        vertical-align: middle;\n",
       "    }\n",
       "\n",
       "    .dataframe tbody tr th {\n",
       "        vertical-align: top;\n",
       "    }\n",
       "\n",
       "    .dataframe thead th {\n",
       "        text-align: right;\n",
       "    }\n",
       "</style>\n",
       "<table border=\"1\" class=\"dataframe\">\n",
       "  <thead>\n",
       "    <tr style=\"text-align: right;\">\n",
       "      <th></th>\n",
       "      <th>Unnamed: 0</th>\n",
       "      <th>campaing_id</th>\n",
       "      <th>user_id</th>\n",
       "      <th>t_flag</th>\n",
       "      <th>delivery_date</th>\n",
       "    </tr>\n",
       "  </thead>\n",
       "  <tbody>\n",
       "    <tr>\n",
       "      <th>0</th>\n",
       "      <td>29299</td>\n",
       "      <td>idclip</td>\n",
       "      <td>1099975</td>\n",
       "      <td>1</td>\n",
       "      <td>2024-11-06</td>\n",
       "    </tr>\n",
       "    <tr>\n",
       "      <th>1</th>\n",
       "      <td>36627</td>\n",
       "      <td>iddqd</td>\n",
       "      <td>1162</td>\n",
       "      <td>1</td>\n",
       "      <td>2024-11-08</td>\n",
       "    </tr>\n",
       "    <tr>\n",
       "      <th>2</th>\n",
       "      <td>134015</td>\n",
       "      <td>iddqd</td>\n",
       "      <td>42991</td>\n",
       "      <td>1</td>\n",
       "      <td>2024-11-07</td>\n",
       "    </tr>\n",
       "    <tr>\n",
       "      <th>3</th>\n",
       "      <td>57441</td>\n",
       "      <td>idclip</td>\n",
       "      <td>142343</td>\n",
       "      <td>0</td>\n",
       "      <td>unknown</td>\n",
       "    </tr>\n",
       "    <tr>\n",
       "      <th>4</th>\n",
       "      <td>48671</td>\n",
       "      <td>iddqd</td>\n",
       "      <td>24623</td>\n",
       "      <td>0</td>\n",
       "      <td>unknown</td>\n",
       "    </tr>\n",
       "  </tbody>\n",
       "</table>\n",
       "</div>"
      ]
     },
     "execution_count": 33,
     "metadata": {},
     "output_type": "execute_result"
    }
   ],
   "execution_count": 33
  },
  {
   "metadata": {
    "ExecuteTime": {
     "end_time": "2025-03-21T09:49:21.487530Z",
     "start_time": "2025-03-21T09:49:21.341094Z"
    }
   },
   "cell_type": "code",
   "source": [
    "try:\n",
    "    people_in_campaings.drop(columns=['Unnamed: 0'], axis=1, inplace=True)\n",
    "except:\n",
    "    pass\n",
    "print(people_in_campaings.info())\n",
    "print(\"dups:\")\n",
    "print(people_in_campaings.duplicated().sum())\n",
    "print(people_in_campaings.isna().sum())"
   ],
   "outputs": [
    {
     "name": "stdout",
     "output_type": "stream",
     "text": [
      "<class 'pandas.core.frame.DataFrame'>\n",
      "RangeIndex: 520000 entries, 0 to 519999\n",
      "Data columns (total 4 columns):\n",
      " #   Column         Non-Null Count   Dtype \n",
      "---  ------         --------------   ----- \n",
      " 0   campaing_id    520000 non-null  object\n",
      " 1   user_id        520000 non-null  int64 \n",
      " 2   t_flag         520000 non-null  int64 \n",
      " 3   delivery_date  520000 non-null  object\n",
      "dtypes: int64(2), object(2)\n",
      "memory usage: 15.9+ MB\n",
      "None\n",
      "dups:\n",
      "0\n",
      "campaing_id      0\n",
      "user_id          0\n",
      "t_flag           0\n",
      "delivery_date    0\n",
      "dtype: int64\n"
     ]
    }
   ],
   "execution_count": 34
  },
  {
   "metadata": {
    "ExecuteTime": {
     "end_time": "2025-03-21T09:50:35.300626Z",
     "start_time": "2025-03-21T09:50:35.220054Z"
    }
   },
   "cell_type": "code",
   "source": [
    "people_in_campaings['delivery_date'] = people_in_campaings['delivery_date'].replace('unknown', pd.NaT)\n",
    "people_in_campaings['delivery_date'] = pd.to_datetime(people_in_campaings['delivery_date'])  #fix date type\n",
    "people_in_campaings['delivery_date'].min(), people_in_campaings['delivery_date'].max()"
   ],
   "outputs": [
    {
     "data": {
      "text/plain": [
       "(Timestamp('2024-11-04 00:00:00'), Timestamp('2024-11-08 00:00:00'))"
      ]
     },
     "execution_count": 36,
     "metadata": {},
     "output_type": "execute_result"
    }
   ],
   "execution_count": 36
  },
  {
   "metadata": {
    "ExecuteTime": {
     "end_time": "2025-03-21T09:52:07.814596Z",
     "start_time": "2025-03-21T09:52:07.808752Z"
    }
   },
   "cell_type": "code",
   "source": [
    "contracts[~contracts['product_id'].isin(campaings['product_id'])][\n",
    "    'product_id'].nunique()  # продукты в contracts, которых нет в campaings"
   ],
   "outputs": [
    {
     "data": {
      "text/plain": [
       "0"
      ]
     },
     "execution_count": 38,
     "metadata": {},
     "output_type": "execute_result"
    }
   ],
   "execution_count": 38
  },
  {
   "metadata": {
    "ExecuteTime": {
     "end_time": "2025-03-21T09:51:42.659391Z",
     "start_time": "2025-03-21T09:51:42.608992Z"
    }
   },
   "cell_type": "code",
   "source": [
    "people_in_campaings[~people_in_campaings['user_id'].isin(aggs['user_id'])][\n",
    "    'user_id'].nunique()  # клиенты в people_in_campaings, которых нет в aggs - похоже таких нет"
   ],
   "outputs": [
    {
     "data": {
      "text/plain": [
       "0"
      ]
     },
     "execution_count": 37,
     "metadata": {},
     "output_type": "execute_result"
    }
   ],
   "execution_count": 37
  },
  {
   "metadata": {
    "ExecuteTime": {
     "end_time": "2025-03-21T09:53:10.850629Z",
     "start_time": "2025-03-21T09:53:10.845767Z"
    }
   },
   "cell_type": "code",
   "source": "people_in_campaings['t_flag'].value_counts()  # в people_in_campaings группы клиентов сбалансированы",
   "outputs": [
    {
     "data": {
      "text/plain": [
       "t_flag\n",
       "1    260000\n",
       "0    260000\n",
       "Name: count, dtype: int64"
      ]
     },
     "execution_count": 43,
     "metadata": {},
     "output_type": "execute_result"
    }
   ],
   "execution_count": 43
  },
  {
   "metadata": {
    "ExecuteTime": {
     "end_time": "2025-03-21T09:54:03.765642Z",
     "start_time": "2025-03-21T09:54:03.739516Z"
    }
   },
   "cell_type": "code",
   "source": [
    "set(campaings['campaing_id']) == set(\n",
    "    people_in_campaings['campaing_id'])  # кампании в people_in_campaings совпадают с campaings"
   ],
   "outputs": [
    {
     "data": {
      "text/plain": [
       "True"
      ]
     },
     "execution_count": 44,
     "metadata": {},
     "output_type": "execute_result"
    }
   ],
   "execution_count": 44
  },
  {
   "metadata": {
    "ExecuteTime": {
     "end_time": "2025-03-21T09:54:37.627868Z",
     "start_time": "2025-03-21T09:54:37.499495Z"
    }
   },
   "cell_type": "code",
   "source": [
    "set(contracts['user_id']) == set(\n",
    "    people_in_campaings['user_id'])  # клиенты в people_in_campaings  не совпадают с contracts"
   ],
   "outputs": [
    {
     "data": {
      "text/plain": [
       "False"
      ]
     },
     "execution_count": 46,
     "metadata": {},
     "output_type": "execute_result"
    }
   ],
   "execution_count": 46
  },
  {
   "metadata": {
    "ExecuteTime": {
     "end_time": "2025-03-21T10:03:03.381711Z",
     "start_time": "2025-03-21T10:03:03.122606Z"
    }
   },
   "cell_type": "code",
   "source": [
    "print(\n",
    "    f\"{len(set(contracts['user_id']))}  {len(set(people_in_campaings['user_id']))}\")  # контрактов меньше чем клиентов в people_in_campaings\n",
    "users_in_campaigns = set(people_in_campaings['user_id'])\n",
    "users_in_contracts = set(contracts['user_id'])\n",
    "\n",
    "print(f\"users_in_campaigns len -  {len(users_in_campaigns)}\")\n",
    "print(f\"users_in_contracts len - {len(users_in_contracts)}\")\n",
    "\n",
    "print(f\"clients in campaings & contracts - {len(users_in_campaigns & users_in_contracts)}\")\n",
    "print(f\"campaings only - {len(users_in_campaigns - users_in_contracts)}\")\n",
    "print(f\"contracts only - {len(users_in_contracts - users_in_campaigns)}\")"
   ],
   "outputs": [
    {
     "name": "stdout",
     "output_type": "stream",
     "text": [
      "286316  460000\n",
      "users_in_campaigns len -  460000\n",
      "users_in_contracts len - 286316\n",
      "clients in campaings & contracts - 286316\n",
      "campaings only - 173684\n",
      "contracts only - 0\n"
     ]
    }
   ],
   "execution_count": 52
  },
  {
   "metadata": {},
   "cell_type": "markdown",
   "source": [
    "- add `campaign_month`\n",
    "- group by user_id and calculate compaings count compaings throw months to `multi_campaign_users`\n",
    "- `same_month` calc users which compaings only in 1 month\n",
    "- `different_months` calc users which compaings in 2+ month"
   ]
  },
  {
   "metadata": {
    "ExecuteTime": {
     "end_time": "2025-03-21T10:24:15.880734Z",
     "start_time": "2025-03-21T10:24:15.769574Z"
    }
   },
   "cell_type": "code",
   "source": [
    "people_in_campaings['campaign_month'] = people_in_campaings['delivery_date'].dt.to_period('M')\n",
    "multi_campaign_users = people_in_campaings.groupby('user_id')['campaign_month'].nunique()\n",
    "same_month = (multi_campaign_users == 1).sum()\n",
    "different_months = (multi_campaign_users > 1).sum()\n",
    "print(f\"Same month - {same_month}, Different months - {different_months}\")"
   ],
   "outputs": [
    {
     "name": "stdout",
     "output_type": "stream",
     "text": [
      "Same month - 260000, Different months - 0\n"
     ]
    }
   ],
   "execution_count": 57
  },
  {
   "metadata": {
    "ExecuteTime": {
     "end_time": "2025-03-21T10:26:29.076593Z",
     "start_time": "2025-03-21T10:26:28.953603Z"
    }
   },
   "cell_type": "code",
   "source": [
    "multi_campaing_users_in_month = people_in_campaings.groupby('user_id')['campaing_id'].nunique()\n",
    "print(f\"Пользователей, участвовавших в нескольких кампаниях: {(multi_campaing_users_in_month > 1).sum()}\")\n",
    "print(multi_campaing_users_in_month.value_counts())"
   ],
   "outputs": [
    {
     "name": "stdout",
     "output_type": "stream",
     "text": [
      "Пользователей, участвовавших в нескольких кампаниях: 60000\n",
      "campaing_id\n",
      "1    400000\n",
      "2     60000\n",
      "Name: count, dtype: int64\n"
     ]
    }
   ],
   "execution_count": 63
  },
  {
   "metadata": {},
   "cell_type": "markdown",
   "source": "юзер сталкивается с кампаниями только в пределах 1 месяца за датасет и 6000 пользователей столкнулись 2 раза с кампаниями"
  },
  {
   "metadata": {
    "ExecuteTime": {
     "end_time": "2025-03-21T10:32:19.950965Z",
     "start_time": "2025-03-21T10:32:19.915141Z"
    }
   },
   "cell_type": "code",
   "source": [
    "people_in_campaings = people_in_campaings[['user_id', 'campaing_id', 'delivery_date', 't_flag']]\n",
    "contracts = contracts[['user_id', 'contract_date']]"
   ],
   "outputs": [],
   "execution_count": 64
  },
  {
   "metadata": {
    "ExecuteTime": {
     "end_time": "2025-03-21T10:32:33.118351Z",
     "start_time": "2025-03-21T10:32:33.106982Z"
    }
   },
   "cell_type": "code",
   "source": "people_in_campaings",
   "outputs": [
    {
     "data": {
      "text/plain": [
       "        user_id campaing_id delivery_date  t_flag\n",
       "0       1099975      idclip    2024-11-06       1\n",
       "1          1162       iddqd    2024-11-08       1\n",
       "2         42991       iddqd    2024-11-07       1\n",
       "3        142343      idclip           NaT       0\n",
       "4         24623       iddqd           NaT       0\n",
       "...         ...         ...           ...     ...\n",
       "519995  4108275        iddt    2024-11-04       1\n",
       "519996   131927       iddqd    2024-11-06       1\n",
       "519997  1074765      idclip    2024-11-05       1\n",
       "519998    73995       iddqd           NaT       0\n",
       "519999    85450       iddqd    2024-11-04       1\n",
       "\n",
       "[520000 rows x 4 columns]"
      ],
      "text/html": [
       "<div>\n",
       "<style scoped>\n",
       "    .dataframe tbody tr th:only-of-type {\n",
       "        vertical-align: middle;\n",
       "    }\n",
       "\n",
       "    .dataframe tbody tr th {\n",
       "        vertical-align: top;\n",
       "    }\n",
       "\n",
       "    .dataframe thead th {\n",
       "        text-align: right;\n",
       "    }\n",
       "</style>\n",
       "<table border=\"1\" class=\"dataframe\">\n",
       "  <thead>\n",
       "    <tr style=\"text-align: right;\">\n",
       "      <th></th>\n",
       "      <th>user_id</th>\n",
       "      <th>campaing_id</th>\n",
       "      <th>delivery_date</th>\n",
       "      <th>t_flag</th>\n",
       "    </tr>\n",
       "  </thead>\n",
       "  <tbody>\n",
       "    <tr>\n",
       "      <th>0</th>\n",
       "      <td>1099975</td>\n",
       "      <td>idclip</td>\n",
       "      <td>2024-11-06</td>\n",
       "      <td>1</td>\n",
       "    </tr>\n",
       "    <tr>\n",
       "      <th>1</th>\n",
       "      <td>1162</td>\n",
       "      <td>iddqd</td>\n",
       "      <td>2024-11-08</td>\n",
       "      <td>1</td>\n",
       "    </tr>\n",
       "    <tr>\n",
       "      <th>2</th>\n",
       "      <td>42991</td>\n",
       "      <td>iddqd</td>\n",
       "      <td>2024-11-07</td>\n",
       "      <td>1</td>\n",
       "    </tr>\n",
       "    <tr>\n",
       "      <th>3</th>\n",
       "      <td>142343</td>\n",
       "      <td>idclip</td>\n",
       "      <td>NaT</td>\n",
       "      <td>0</td>\n",
       "    </tr>\n",
       "    <tr>\n",
       "      <th>4</th>\n",
       "      <td>24623</td>\n",
       "      <td>iddqd</td>\n",
       "      <td>NaT</td>\n",
       "      <td>0</td>\n",
       "    </tr>\n",
       "    <tr>\n",
       "      <th>...</th>\n",
       "      <td>...</td>\n",
       "      <td>...</td>\n",
       "      <td>...</td>\n",
       "      <td>...</td>\n",
       "    </tr>\n",
       "    <tr>\n",
       "      <th>519995</th>\n",
       "      <td>4108275</td>\n",
       "      <td>iddt</td>\n",
       "      <td>2024-11-04</td>\n",
       "      <td>1</td>\n",
       "    </tr>\n",
       "    <tr>\n",
       "      <th>519996</th>\n",
       "      <td>131927</td>\n",
       "      <td>iddqd</td>\n",
       "      <td>2024-11-06</td>\n",
       "      <td>1</td>\n",
       "    </tr>\n",
       "    <tr>\n",
       "      <th>519997</th>\n",
       "      <td>1074765</td>\n",
       "      <td>idclip</td>\n",
       "      <td>2024-11-05</td>\n",
       "      <td>1</td>\n",
       "    </tr>\n",
       "    <tr>\n",
       "      <th>519998</th>\n",
       "      <td>73995</td>\n",
       "      <td>iddqd</td>\n",
       "      <td>NaT</td>\n",
       "      <td>0</td>\n",
       "    </tr>\n",
       "    <tr>\n",
       "      <th>519999</th>\n",
       "      <td>85450</td>\n",
       "      <td>iddqd</td>\n",
       "      <td>2024-11-04</td>\n",
       "      <td>1</td>\n",
       "    </tr>\n",
       "  </tbody>\n",
       "</table>\n",
       "<p>520000 rows × 4 columns</p>\n",
       "</div>"
      ]
     },
     "execution_count": 65,
     "metadata": {},
     "output_type": "execute_result"
    }
   ],
   "execution_count": 65
  },
  {
   "metadata": {
    "ExecuteTime": {
     "end_time": "2025-03-21T10:32:43.437077Z",
     "start_time": "2025-03-21T10:32:43.431669Z"
    }
   },
   "cell_type": "code",
   "source": "contracts",
   "outputs": [
    {
     "data": {
      "text/plain": [
       "        user_id contract_date\n",
       "0       4008279    2024-11-03\n",
       "1       2079035    2024-11-08\n",
       "2        103088    2024-11-13\n",
       "3       2026788    2024-11-02\n",
       "4         52269    2024-11-17\n",
       "...         ...           ...\n",
       "286311  1117397    2024-11-28\n",
       "286312  2071348    2024-11-12\n",
       "286313  4061197    2024-11-07\n",
       "286314  1139038    2024-11-02\n",
       "286315  2023661    2024-11-02\n",
       "\n",
       "[286316 rows x 2 columns]"
      ],
      "text/html": [
       "<div>\n",
       "<style scoped>\n",
       "    .dataframe tbody tr th:only-of-type {\n",
       "        vertical-align: middle;\n",
       "    }\n",
       "\n",
       "    .dataframe tbody tr th {\n",
       "        vertical-align: top;\n",
       "    }\n",
       "\n",
       "    .dataframe thead th {\n",
       "        text-align: right;\n",
       "    }\n",
       "</style>\n",
       "<table border=\"1\" class=\"dataframe\">\n",
       "  <thead>\n",
       "    <tr style=\"text-align: right;\">\n",
       "      <th></th>\n",
       "      <th>user_id</th>\n",
       "      <th>contract_date</th>\n",
       "    </tr>\n",
       "  </thead>\n",
       "  <tbody>\n",
       "    <tr>\n",
       "      <th>0</th>\n",
       "      <td>4008279</td>\n",
       "      <td>2024-11-03</td>\n",
       "    </tr>\n",
       "    <tr>\n",
       "      <th>1</th>\n",
       "      <td>2079035</td>\n",
       "      <td>2024-11-08</td>\n",
       "    </tr>\n",
       "    <tr>\n",
       "      <th>2</th>\n",
       "      <td>103088</td>\n",
       "      <td>2024-11-13</td>\n",
       "    </tr>\n",
       "    <tr>\n",
       "      <th>3</th>\n",
       "      <td>2026788</td>\n",
       "      <td>2024-11-02</td>\n",
       "    </tr>\n",
       "    <tr>\n",
       "      <th>4</th>\n",
       "      <td>52269</td>\n",
       "      <td>2024-11-17</td>\n",
       "    </tr>\n",
       "    <tr>\n",
       "      <th>...</th>\n",
       "      <td>...</td>\n",
       "      <td>...</td>\n",
       "    </tr>\n",
       "    <tr>\n",
       "      <th>286311</th>\n",
       "      <td>1117397</td>\n",
       "      <td>2024-11-28</td>\n",
       "    </tr>\n",
       "    <tr>\n",
       "      <th>286312</th>\n",
       "      <td>2071348</td>\n",
       "      <td>2024-11-12</td>\n",
       "    </tr>\n",
       "    <tr>\n",
       "      <th>286313</th>\n",
       "      <td>4061197</td>\n",
       "      <td>2024-11-07</td>\n",
       "    </tr>\n",
       "    <tr>\n",
       "      <th>286314</th>\n",
       "      <td>1139038</td>\n",
       "      <td>2024-11-02</td>\n",
       "    </tr>\n",
       "    <tr>\n",
       "      <th>286315</th>\n",
       "      <td>2023661</td>\n",
       "      <td>2024-11-02</td>\n",
       "    </tr>\n",
       "  </tbody>\n",
       "</table>\n",
       "<p>286316 rows × 2 columns</p>\n",
       "</div>"
      ]
     },
     "execution_count": 66,
     "metadata": {},
     "output_type": "execute_result"
    }
   ],
   "execution_count": 66
  },
  {
   "metadata": {},
   "cell_type": "markdown",
   "source": "campaings starts in 2024.11, so lets merge from 2024.11.01"
  },
  {
   "metadata": {},
   "cell_type": "markdown",
   "source": [
    "по условию\n",
    "- целевая группа (flag = 1) с `delivery_date` должны иметь длительность окна 14дней (2 недели)\n",
    "- контрольная группа (flag = 0) с `start_date = 2024-11-01` имеет окно 21 день (3 недели)\n",
    "\n"
   ]
  },
  {
   "metadata": {
    "ExecuteTime": {
     "end_time": "2025-03-21T10:40:44.344928Z",
     "start_time": "2025-03-21T10:40:44.332872Z"
    }
   },
   "cell_type": "code",
   "source": "people_in_campaings.loc[:, 'campaign_start'] = pd.to_datetime(\"2024-11-01\")",
   "outputs": [],
   "execution_count": 67
  },
  {
   "metadata": {
    "ExecuteTime": {
     "end_time": "2025-03-21T10:42:03.843145Z",
     "start_time": "2025-03-21T10:42:03.811760Z"
    }
   },
   "cell_type": "code",
   "source": [
    "people_in_campaings.loc[:, 'target_window_start'] = (people_in_campaings['delivery_date']\n",
    "                                                     .where(people_in_campaings['t_flag'] == 1,\n",
    "                                                            people_in_campaings['campaign_start']))\n",
    "\n",
    "people_in_campaings.loc[:, 'target_window_end'] = (people_in_campaings['target_window_start']\n",
    "                                                   + people_in_campaings['t_flag']\n",
    "                                                   .map({1: timedelta(days=14), 0: timedelta(days=21)})\n",
    "                                                   )"
   ],
   "outputs": [],
   "execution_count": 68
  },
  {
   "metadata": {
    "ExecuteTime": {
     "end_time": "2025-03-21T10:42:19.006404Z",
     "start_time": "2025-03-21T10:42:18.998772Z"
    }
   },
   "cell_type": "code",
   "source": "people_in_campaings",
   "outputs": [
    {
     "data": {
      "text/plain": [
       "        user_id campaing_id delivery_date  t_flag campaign_start  \\\n",
       "0       1099975      idclip    2024-11-06       1     2024-11-01   \n",
       "1          1162       iddqd    2024-11-08       1     2024-11-01   \n",
       "2         42991       iddqd    2024-11-07       1     2024-11-01   \n",
       "3        142343      idclip           NaT       0     2024-11-01   \n",
       "4         24623       iddqd           NaT       0     2024-11-01   \n",
       "...         ...         ...           ...     ...            ...   \n",
       "519995  4108275        iddt    2024-11-04       1     2024-11-01   \n",
       "519996   131927       iddqd    2024-11-06       1     2024-11-01   \n",
       "519997  1074765      idclip    2024-11-05       1     2024-11-01   \n",
       "519998    73995       iddqd           NaT       0     2024-11-01   \n",
       "519999    85450       iddqd    2024-11-04       1     2024-11-01   \n",
       "\n",
       "       target_window_start target_window_end  \n",
       "0               2024-11-06        2024-11-20  \n",
       "1               2024-11-08        2024-11-22  \n",
       "2               2024-11-07        2024-11-21  \n",
       "3               2024-11-01        2024-11-22  \n",
       "4               2024-11-01        2024-11-22  \n",
       "...                    ...               ...  \n",
       "519995          2024-11-04        2024-11-18  \n",
       "519996          2024-11-06        2024-11-20  \n",
       "519997          2024-11-05        2024-11-19  \n",
       "519998          2024-11-01        2024-11-22  \n",
       "519999          2024-11-04        2024-11-18  \n",
       "\n",
       "[520000 rows x 7 columns]"
      ],
      "text/html": [
       "<div>\n",
       "<style scoped>\n",
       "    .dataframe tbody tr th:only-of-type {\n",
       "        vertical-align: middle;\n",
       "    }\n",
       "\n",
       "    .dataframe tbody tr th {\n",
       "        vertical-align: top;\n",
       "    }\n",
       "\n",
       "    .dataframe thead th {\n",
       "        text-align: right;\n",
       "    }\n",
       "</style>\n",
       "<table border=\"1\" class=\"dataframe\">\n",
       "  <thead>\n",
       "    <tr style=\"text-align: right;\">\n",
       "      <th></th>\n",
       "      <th>user_id</th>\n",
       "      <th>campaing_id</th>\n",
       "      <th>delivery_date</th>\n",
       "      <th>t_flag</th>\n",
       "      <th>campaign_start</th>\n",
       "      <th>target_window_start</th>\n",
       "      <th>target_window_end</th>\n",
       "    </tr>\n",
       "  </thead>\n",
       "  <tbody>\n",
       "    <tr>\n",
       "      <th>0</th>\n",
       "      <td>1099975</td>\n",
       "      <td>idclip</td>\n",
       "      <td>2024-11-06</td>\n",
       "      <td>1</td>\n",
       "      <td>2024-11-01</td>\n",
       "      <td>2024-11-06</td>\n",
       "      <td>2024-11-20</td>\n",
       "    </tr>\n",
       "    <tr>\n",
       "      <th>1</th>\n",
       "      <td>1162</td>\n",
       "      <td>iddqd</td>\n",
       "      <td>2024-11-08</td>\n",
       "      <td>1</td>\n",
       "      <td>2024-11-01</td>\n",
       "      <td>2024-11-08</td>\n",
       "      <td>2024-11-22</td>\n",
       "    </tr>\n",
       "    <tr>\n",
       "      <th>2</th>\n",
       "      <td>42991</td>\n",
       "      <td>iddqd</td>\n",
       "      <td>2024-11-07</td>\n",
       "      <td>1</td>\n",
       "      <td>2024-11-01</td>\n",
       "      <td>2024-11-07</td>\n",
       "      <td>2024-11-21</td>\n",
       "    </tr>\n",
       "    <tr>\n",
       "      <th>3</th>\n",
       "      <td>142343</td>\n",
       "      <td>idclip</td>\n",
       "      <td>NaT</td>\n",
       "      <td>0</td>\n",
       "      <td>2024-11-01</td>\n",
       "      <td>2024-11-01</td>\n",
       "      <td>2024-11-22</td>\n",
       "    </tr>\n",
       "    <tr>\n",
       "      <th>4</th>\n",
       "      <td>24623</td>\n",
       "      <td>iddqd</td>\n",
       "      <td>NaT</td>\n",
       "      <td>0</td>\n",
       "      <td>2024-11-01</td>\n",
       "      <td>2024-11-01</td>\n",
       "      <td>2024-11-22</td>\n",
       "    </tr>\n",
       "    <tr>\n",
       "      <th>...</th>\n",
       "      <td>...</td>\n",
       "      <td>...</td>\n",
       "      <td>...</td>\n",
       "      <td>...</td>\n",
       "      <td>...</td>\n",
       "      <td>...</td>\n",
       "      <td>...</td>\n",
       "    </tr>\n",
       "    <tr>\n",
       "      <th>519995</th>\n",
       "      <td>4108275</td>\n",
       "      <td>iddt</td>\n",
       "      <td>2024-11-04</td>\n",
       "      <td>1</td>\n",
       "      <td>2024-11-01</td>\n",
       "      <td>2024-11-04</td>\n",
       "      <td>2024-11-18</td>\n",
       "    </tr>\n",
       "    <tr>\n",
       "      <th>519996</th>\n",
       "      <td>131927</td>\n",
       "      <td>iddqd</td>\n",
       "      <td>2024-11-06</td>\n",
       "      <td>1</td>\n",
       "      <td>2024-11-01</td>\n",
       "      <td>2024-11-06</td>\n",
       "      <td>2024-11-20</td>\n",
       "    </tr>\n",
       "    <tr>\n",
       "      <th>519997</th>\n",
       "      <td>1074765</td>\n",
       "      <td>idclip</td>\n",
       "      <td>2024-11-05</td>\n",
       "      <td>1</td>\n",
       "      <td>2024-11-01</td>\n",
       "      <td>2024-11-05</td>\n",
       "      <td>2024-11-19</td>\n",
       "    </tr>\n",
       "    <tr>\n",
       "      <th>519998</th>\n",
       "      <td>73995</td>\n",
       "      <td>iddqd</td>\n",
       "      <td>NaT</td>\n",
       "      <td>0</td>\n",
       "      <td>2024-11-01</td>\n",
       "      <td>2024-11-01</td>\n",
       "      <td>2024-11-22</td>\n",
       "    </tr>\n",
       "    <tr>\n",
       "      <th>519999</th>\n",
       "      <td>85450</td>\n",
       "      <td>iddqd</td>\n",
       "      <td>2024-11-04</td>\n",
       "      <td>1</td>\n",
       "      <td>2024-11-01</td>\n",
       "      <td>2024-11-04</td>\n",
       "      <td>2024-11-18</td>\n",
       "    </tr>\n",
       "  </tbody>\n",
       "</table>\n",
       "<p>520000 rows × 7 columns</p>\n",
       "</div>"
      ]
     },
     "execution_count": 69,
     "metadata": {},
     "output_type": "execute_result"
    }
   ],
   "execution_count": 69
  },
  {
   "metadata": {
    "ExecuteTime": {
     "end_time": "2025-03-21T10:42:32.940094Z",
     "start_time": "2025-03-21T10:42:32.825617Z"
    }
   },
   "cell_type": "code",
   "source": [
    "multi_campaign_users = people_in_campaings.groupby('user_id')[\n",
    "    'campaing_id'].nunique()  # Подсчет числа уникальных кампаний для каждого пользователя\n",
    "multi_campaign_users = multi_campaign_users[\n",
    "    multi_campaign_users > 1].index  # Отбор только тех пользователей, которые участвовали более чем в одной кампании"
   ],
   "outputs": [],
   "execution_count": 70
  },
  {
   "metadata": {
    "ExecuteTime": {
     "end_time": "2025-03-21T10:42:48.087750Z",
     "start_time": "2025-03-21T10:42:48.017467Z"
    }
   },
   "cell_type": "code",
   "source": [
    "contracts_filtered = contracts[contracts['user_id'].isin(\n",
    "    multi_campaign_users)]  # Отбираем контракты только тех пользователей, которые участвовали в нескольких кампаниях\n",
    "campaigns_filtered = people_in_campaings[people_in_campaings['user_id'].isin(\n",
    "    multi_campaign_users)]  # Аналогично фильтруем данные о кампаниях для тех же пользователей"
   ],
   "outputs": [],
   "execution_count": 71
  },
  {
   "metadata": {
    "ExecuteTime": {
     "end_time": "2025-03-21T10:44:10.208537Z",
     "start_time": "2025-03-21T10:44:10.140219Z"
    }
   },
   "cell_type": "code",
   "source": [
    "# отфильтровать контракты, заключенные в целевой период кампаний (между датами target_window_start и target_window_end), и для каждого пользователя оставляет только первую такую запись\n",
    "best_campaign = contracts_filtered.merge(campaigns_filtered, on=\"user_id\", how=\"left\")\n",
    "best_campaign = (\n",
    "    best_campaign[\n",
    "        (best_campaign['contract_date'] >= best_campaign['target_window_start']) &\n",
    "        (best_campaign['contract_date'] <= best_campaign['target_window_end'])]\n",
    "    .groupby(\"user_id\").first().reset_index())"
   ],
   "outputs": [],
   "execution_count": 73
  },
  {
   "metadata": {
    "ExecuteTime": {
     "end_time": "2025-03-21T10:50:39.103193Z",
     "start_time": "2025-03-21T10:50:39.000649Z"
    }
   },
   "cell_type": "code",
   "source": [
    "# Обработка пользователей без покупки и формирование итогового датасета\n",
    "no_purchase_users = set(multi_campaign_users) - set(best_campaign[\n",
    "                                                        'user_id'])  # Находим пользователей, участвовавших в нескольких кампаниях, но не совершивших целевую покупку\n",
    "last_campaign = people_in_campaings[\n",
    "    people_in_campaings['user_id'].isin(no_purchase_users)]  # Выбираем строки для пользователей без покупки\n",
    "last_campaign = last_campaign.sort_values(by=['user_id', 'delivery_date']).groupby(\n",
    "    \"user_id\").last().reset_index()  # Оставляем только последнюю кампанию для каждого пользователя без покупки\n",
    "\n",
    "# Объединение данных\n",
    "people_in_campaigns = people_in_campaings[~people_in_campaings['user_id'].isin(\n",
    "    multi_campaign_users)]  # Исключаем пользователей, участвовавших в нескольких кампаниях\n",
    "people_in_campaigns = pd.concat([people_in_campaigns, best_campaign, last_campaign],\n",
    "                                ignore_index=True)  # Объединяем: обычные пользователи + успешные мульти-пользователи + последние кампании неуспешных мульти-пользователей\n",
    "\n",
    "# Слияние с данными о контрактах\n",
    "data = people_in_campaigns.merge(contracts, on='user_id', how='left',\n",
    "                                 suffixes=('', '_drop'))  # Присоединяем данные о контрактах\n",
    "data.drop(columns=['contract_date_drop'], inplace=True)  # Удаляем дублирующую колонку с датой контракта"
   ],
   "outputs": [],
   "execution_count": 80
  },
  {
   "metadata": {
    "ExecuteTime": {
     "end_time": "2025-03-21T10:54:51.044161Z",
     "start_time": "2025-03-21T10:54:51.035963Z"
    }
   },
   "cell_type": "code",
   "source": "data",
   "outputs": [
    {
     "data": {
      "text/plain": [
       "        user_id campaing_id delivery_date  t_flag campaign_start  \\\n",
       "0       1099975      idclip    2024-11-06       1     2024-11-01   \n",
       "1         24623       iddqd           NaT       0     2024-11-01   \n",
       "2       4001330        iddt           NaT       0     2024-11-01   \n",
       "3       2008409       idkfa    2024-11-04       1     2024-11-01   \n",
       "4       4045746        iddt    2024-11-04       1     2024-11-01   \n",
       "...         ...         ...           ...     ...            ...   \n",
       "459995   159974      idclip    2024-11-04       0     2024-11-01   \n",
       "459996   159993      idclip    2024-11-07       0     2024-11-01   \n",
       "459997   159995      idclip    2024-11-07       0     2024-11-01   \n",
       "459998   159997      idclip    2024-11-06       0     2024-11-01   \n",
       "459999   159999      idclip    2024-11-04       0     2024-11-01   \n",
       "\n",
       "       target_window_start target_window_end contract_date  target  \n",
       "0               2024-11-06        2024-11-20           NaT       0  \n",
       "1               2024-11-01        2024-11-22           NaT       0  \n",
       "2               2024-11-01        2024-11-22           NaT       0  \n",
       "3               2024-11-04        2024-11-18           NaT       0  \n",
       "4               2024-11-04        2024-11-18           NaT       0  \n",
       "...                    ...               ...           ...     ...  \n",
       "459995          2024-11-01        2024-11-22           NaT       0  \n",
       "459996          2024-11-01        2024-11-22           NaT       0  \n",
       "459997          2024-11-01        2024-11-22           NaT       0  \n",
       "459998          2024-11-01        2024-11-22           NaT       0  \n",
       "459999          2024-11-01        2024-11-22           NaT       0  \n",
       "\n",
       "[460000 rows x 9 columns]"
      ],
      "text/html": [
       "<div>\n",
       "<style scoped>\n",
       "    .dataframe tbody tr th:only-of-type {\n",
       "        vertical-align: middle;\n",
       "    }\n",
       "\n",
       "    .dataframe tbody tr th {\n",
       "        vertical-align: top;\n",
       "    }\n",
       "\n",
       "    .dataframe thead th {\n",
       "        text-align: right;\n",
       "    }\n",
       "</style>\n",
       "<table border=\"1\" class=\"dataframe\">\n",
       "  <thead>\n",
       "    <tr style=\"text-align: right;\">\n",
       "      <th></th>\n",
       "      <th>user_id</th>\n",
       "      <th>campaing_id</th>\n",
       "      <th>delivery_date</th>\n",
       "      <th>t_flag</th>\n",
       "      <th>campaign_start</th>\n",
       "      <th>target_window_start</th>\n",
       "      <th>target_window_end</th>\n",
       "      <th>contract_date</th>\n",
       "      <th>target</th>\n",
       "    </tr>\n",
       "  </thead>\n",
       "  <tbody>\n",
       "    <tr>\n",
       "      <th>0</th>\n",
       "      <td>1099975</td>\n",
       "      <td>idclip</td>\n",
       "      <td>2024-11-06</td>\n",
       "      <td>1</td>\n",
       "      <td>2024-11-01</td>\n",
       "      <td>2024-11-06</td>\n",
       "      <td>2024-11-20</td>\n",
       "      <td>NaT</td>\n",
       "      <td>0</td>\n",
       "    </tr>\n",
       "    <tr>\n",
       "      <th>1</th>\n",
       "      <td>24623</td>\n",
       "      <td>iddqd</td>\n",
       "      <td>NaT</td>\n",
       "      <td>0</td>\n",
       "      <td>2024-11-01</td>\n",
       "      <td>2024-11-01</td>\n",
       "      <td>2024-11-22</td>\n",
       "      <td>NaT</td>\n",
       "      <td>0</td>\n",
       "    </tr>\n",
       "    <tr>\n",
       "      <th>2</th>\n",
       "      <td>4001330</td>\n",
       "      <td>iddt</td>\n",
       "      <td>NaT</td>\n",
       "      <td>0</td>\n",
       "      <td>2024-11-01</td>\n",
       "      <td>2024-11-01</td>\n",
       "      <td>2024-11-22</td>\n",
       "      <td>NaT</td>\n",
       "      <td>0</td>\n",
       "    </tr>\n",
       "    <tr>\n",
       "      <th>3</th>\n",
       "      <td>2008409</td>\n",
       "      <td>idkfa</td>\n",
       "      <td>2024-11-04</td>\n",
       "      <td>1</td>\n",
       "      <td>2024-11-01</td>\n",
       "      <td>2024-11-04</td>\n",
       "      <td>2024-11-18</td>\n",
       "      <td>NaT</td>\n",
       "      <td>0</td>\n",
       "    </tr>\n",
       "    <tr>\n",
       "      <th>4</th>\n",
       "      <td>4045746</td>\n",
       "      <td>iddt</td>\n",
       "      <td>2024-11-04</td>\n",
       "      <td>1</td>\n",
       "      <td>2024-11-01</td>\n",
       "      <td>2024-11-04</td>\n",
       "      <td>2024-11-18</td>\n",
       "      <td>NaT</td>\n",
       "      <td>0</td>\n",
       "    </tr>\n",
       "    <tr>\n",
       "      <th>...</th>\n",
       "      <td>...</td>\n",
       "      <td>...</td>\n",
       "      <td>...</td>\n",
       "      <td>...</td>\n",
       "      <td>...</td>\n",
       "      <td>...</td>\n",
       "      <td>...</td>\n",
       "      <td>...</td>\n",
       "      <td>...</td>\n",
       "    </tr>\n",
       "    <tr>\n",
       "      <th>459995</th>\n",
       "      <td>159974</td>\n",
       "      <td>idclip</td>\n",
       "      <td>2024-11-04</td>\n",
       "      <td>0</td>\n",
       "      <td>2024-11-01</td>\n",
       "      <td>2024-11-01</td>\n",
       "      <td>2024-11-22</td>\n",
       "      <td>NaT</td>\n",
       "      <td>0</td>\n",
       "    </tr>\n",
       "    <tr>\n",
       "      <th>459996</th>\n",
       "      <td>159993</td>\n",
       "      <td>idclip</td>\n",
       "      <td>2024-11-07</td>\n",
       "      <td>0</td>\n",
       "      <td>2024-11-01</td>\n",
       "      <td>2024-11-01</td>\n",
       "      <td>2024-11-22</td>\n",
       "      <td>NaT</td>\n",
       "      <td>0</td>\n",
       "    </tr>\n",
       "    <tr>\n",
       "      <th>459997</th>\n",
       "      <td>159995</td>\n",
       "      <td>idclip</td>\n",
       "      <td>2024-11-07</td>\n",
       "      <td>0</td>\n",
       "      <td>2024-11-01</td>\n",
       "      <td>2024-11-01</td>\n",
       "      <td>2024-11-22</td>\n",
       "      <td>NaT</td>\n",
       "      <td>0</td>\n",
       "    </tr>\n",
       "    <tr>\n",
       "      <th>459998</th>\n",
       "      <td>159997</td>\n",
       "      <td>idclip</td>\n",
       "      <td>2024-11-06</td>\n",
       "      <td>0</td>\n",
       "      <td>2024-11-01</td>\n",
       "      <td>2024-11-01</td>\n",
       "      <td>2024-11-22</td>\n",
       "      <td>NaT</td>\n",
       "      <td>0</td>\n",
       "    </tr>\n",
       "    <tr>\n",
       "      <th>459999</th>\n",
       "      <td>159999</td>\n",
       "      <td>idclip</td>\n",
       "      <td>2024-11-04</td>\n",
       "      <td>0</td>\n",
       "      <td>2024-11-01</td>\n",
       "      <td>2024-11-01</td>\n",
       "      <td>2024-11-22</td>\n",
       "      <td>NaT</td>\n",
       "      <td>0</td>\n",
       "    </tr>\n",
       "  </tbody>\n",
       "</table>\n",
       "<p>460000 rows × 9 columns</p>\n",
       "</div>"
      ]
     },
     "execution_count": 85,
     "metadata": {},
     "output_type": "execute_result"
    }
   ],
   "execution_count": 85
  },
  {
   "metadata": {
    "ExecuteTime": {
     "end_time": "2025-03-21T10:58:38.127922Z",
     "start_time": "2025-03-21T10:58:37.491735Z"
    }
   },
   "cell_type": "code",
   "source": [
    "# Создание целевой переменной\n",
    "data['target'] = 0  # Изначально все значения target равны 0\n",
    "\n",
    "# Для группы тестовых пользователей (t_flag=1): устанавливаем target=1, если контракт заключен после доставки и до конца целевого окна\n",
    "data.loc[\n",
    "    (data['t_flag'] == 1) &\n",
    "    (data['contract_date'] >= data['delivery_date']) &\n",
    "    (data['contract_date'] <= data['target_window_end']),\n",
    "    'target'\n",
    "] = 1\n",
    "\n",
    "# Для группы контрольных пользователей (t_flag=0): устанавливаем target=1, если контракт заключен после начала кампании и до конца целевого окна\n",
    "data.loc[\n",
    "    (data['t_flag'] == 0) &\n",
    "    (data['contract_date'] >= data['campaign_start']) &\n",
    "    (data['contract_date'] <= data['target_window_end']),\n",
    "    'target'\n",
    "] = 1\n",
    "\n",
    "# Формируем итоговый датафрейм с целевой переменной, оставляя только необходимые столбцы\n",
    "res_target = data[['user_id', 'campaing_id', 'target_window_start', 't_flag', 'target']]\n",
    "res_target = res_target.rename(columns={'target_window_start': 'report_dt'})\n",
    "res_target.to_csv(\"res_target.csv\", index=False)"
   ],
   "outputs": [],
   "execution_count": 89
  },
  {
   "metadata": {
    "ExecuteTime": {
     "end_time": "2025-03-21T10:58:42.622987Z",
     "start_time": "2025-03-21T10:58:42.612886Z"
    }
   },
   "cell_type": "code",
   "source": "res_target",
   "outputs": [
    {
     "data": {
      "text/plain": [
       "        user_id campaing_id  report_dt  t_flag  target\n",
       "0       1099975      idclip 2024-11-06       1       0\n",
       "1         24623       iddqd 2024-11-01       0       0\n",
       "2       4001330        iddt 2024-11-01       0       0\n",
       "3       2008409       idkfa 2024-11-04       1       0\n",
       "4       4045746        iddt 2024-11-04       1       0\n",
       "...         ...         ...        ...     ...     ...\n",
       "459995   159974      idclip 2024-11-01       0       0\n",
       "459996   159993      idclip 2024-11-01       0       0\n",
       "459997   159995      idclip 2024-11-01       0       0\n",
       "459998   159997      idclip 2024-11-01       0       0\n",
       "459999   159999      idclip 2024-11-01       0       0\n",
       "\n",
       "[460000 rows x 5 columns]"
      ],
      "text/html": [
       "<div>\n",
       "<style scoped>\n",
       "    .dataframe tbody tr th:only-of-type {\n",
       "        vertical-align: middle;\n",
       "    }\n",
       "\n",
       "    .dataframe tbody tr th {\n",
       "        vertical-align: top;\n",
       "    }\n",
       "\n",
       "    .dataframe thead th {\n",
       "        text-align: right;\n",
       "    }\n",
       "</style>\n",
       "<table border=\"1\" class=\"dataframe\">\n",
       "  <thead>\n",
       "    <tr style=\"text-align: right;\">\n",
       "      <th></th>\n",
       "      <th>user_id</th>\n",
       "      <th>campaing_id</th>\n",
       "      <th>report_dt</th>\n",
       "      <th>t_flag</th>\n",
       "      <th>target</th>\n",
       "    </tr>\n",
       "  </thead>\n",
       "  <tbody>\n",
       "    <tr>\n",
       "      <th>0</th>\n",
       "      <td>1099975</td>\n",
       "      <td>idclip</td>\n",
       "      <td>2024-11-06</td>\n",
       "      <td>1</td>\n",
       "      <td>0</td>\n",
       "    </tr>\n",
       "    <tr>\n",
       "      <th>1</th>\n",
       "      <td>24623</td>\n",
       "      <td>iddqd</td>\n",
       "      <td>2024-11-01</td>\n",
       "      <td>0</td>\n",
       "      <td>0</td>\n",
       "    </tr>\n",
       "    <tr>\n",
       "      <th>2</th>\n",
       "      <td>4001330</td>\n",
       "      <td>iddt</td>\n",
       "      <td>2024-11-01</td>\n",
       "      <td>0</td>\n",
       "      <td>0</td>\n",
       "    </tr>\n",
       "    <tr>\n",
       "      <th>3</th>\n",
       "      <td>2008409</td>\n",
       "      <td>idkfa</td>\n",
       "      <td>2024-11-04</td>\n",
       "      <td>1</td>\n",
       "      <td>0</td>\n",
       "    </tr>\n",
       "    <tr>\n",
       "      <th>4</th>\n",
       "      <td>4045746</td>\n",
       "      <td>iddt</td>\n",
       "      <td>2024-11-04</td>\n",
       "      <td>1</td>\n",
       "      <td>0</td>\n",
       "    </tr>\n",
       "    <tr>\n",
       "      <th>...</th>\n",
       "      <td>...</td>\n",
       "      <td>...</td>\n",
       "      <td>...</td>\n",
       "      <td>...</td>\n",
       "      <td>...</td>\n",
       "    </tr>\n",
       "    <tr>\n",
       "      <th>459995</th>\n",
       "      <td>159974</td>\n",
       "      <td>idclip</td>\n",
       "      <td>2024-11-01</td>\n",
       "      <td>0</td>\n",
       "      <td>0</td>\n",
       "    </tr>\n",
       "    <tr>\n",
       "      <th>459996</th>\n",
       "      <td>159993</td>\n",
       "      <td>idclip</td>\n",
       "      <td>2024-11-01</td>\n",
       "      <td>0</td>\n",
       "      <td>0</td>\n",
       "    </tr>\n",
       "    <tr>\n",
       "      <th>459997</th>\n",
       "      <td>159995</td>\n",
       "      <td>idclip</td>\n",
       "      <td>2024-11-01</td>\n",
       "      <td>0</td>\n",
       "      <td>0</td>\n",
       "    </tr>\n",
       "    <tr>\n",
       "      <th>459998</th>\n",
       "      <td>159997</td>\n",
       "      <td>idclip</td>\n",
       "      <td>2024-11-01</td>\n",
       "      <td>0</td>\n",
       "      <td>0</td>\n",
       "    </tr>\n",
       "    <tr>\n",
       "      <th>459999</th>\n",
       "      <td>159999</td>\n",
       "      <td>idclip</td>\n",
       "      <td>2024-11-01</td>\n",
       "      <td>0</td>\n",
       "      <td>0</td>\n",
       "    </tr>\n",
       "  </tbody>\n",
       "</table>\n",
       "<p>460000 rows × 5 columns</p>\n",
       "</div>"
      ]
     },
     "execution_count": 90,
     "metadata": {},
     "output_type": "execute_result"
    }
   ],
   "execution_count": 90
  },
  {
   "metadata": {
    "ExecuteTime": {
     "end_time": "2025-03-21T11:19:10.449585Z",
     "start_time": "2025-03-21T11:19:09.845919Z"
    }
   },
   "cell_type": "code",
   "source": "res_target.to_csv('data/hw6/target.csv', index=False)",
   "outputs": [],
   "execution_count": 115
  },
  {
   "metadata": {
    "ExecuteTime": {
     "end_time": "2025-03-21T11:02:52.026750Z",
     "start_time": "2025-03-21T11:02:52.019315Z"
    }
   },
   "cell_type": "code",
   "source": [
    "target_counts = res_target['target'].value_counts()\n",
    "ratio = target_counts[1] / target_counts[0]\n",
    "print(target_counts)\n",
    "print(f\"conversion {ratio:.4f}\")"
   ],
   "outputs": [
    {
     "name": "stdout",
     "output_type": "stream",
     "text": [
      "target\n",
      "0    418905\n",
      "1     41095\n",
      "Name: count, dtype: int64\n",
      "conversion 0.0981\n"
     ]
    }
   ],
   "execution_count": 95
  },
  {
   "metadata": {},
   "cell_type": "markdown",
   "source": "конверсия получилась почти 10% - достаточно высокая"
  },
  {
   "metadata": {
    "ExecuteTime": {
     "end_time": "2025-03-21T11:12:21.405104Z",
     "start_time": "2025-03-21T11:12:21.381977Z"
    }
   },
   "cell_type": "code",
   "source": "print(res_target['campaing_id'].value_counts())",
   "outputs": [
    {
     "name": "stdout",
     "output_type": "stream",
     "text": [
      "campaing_id\n",
      "iddt      120000\n",
      "idkfa     120000\n",
      "iddqd     118036\n",
      "idclip    101964\n",
      "Name: count, dtype: int64\n"
     ]
    }
   ],
   "execution_count": 105
  },
  {
   "metadata": {
    "ExecuteTime": {
     "end_time": "2025-03-21T11:12:22.417707Z",
     "start_time": "2025-03-21T11:12:22.390780Z"
    }
   },
   "cell_type": "code",
   "source": [
    "unique_comp = res_target['campaing_id'].nunique()\n",
    "print(f\"{unique_comp=}\")\n",
    "print(f\"{people_in_campaigns['delivery_date'].min()=}\")\n",
    "print(f\"{people_in_campaigns['delivery_date'].max()=}\")"
   ],
   "outputs": [
    {
     "name": "stdout",
     "output_type": "stream",
     "text": [
      "unique_comp=4\n",
      "people_in_campaigns['delivery_date'].min()=Timestamp('2024-11-04 00:00:00')\n",
      "people_in_campaigns['delivery_date'].max()=Timestamp('2024-11-08 00:00:00')\n"
     ]
    }
   ],
   "execution_count": 106
  },
  {
   "metadata": {
    "ExecuteTime": {
     "end_time": "2025-03-21T11:12:23.075698Z",
     "start_time": "2025-03-21T11:12:23.046280Z"
    }
   },
   "cell_type": "code",
   "source": [
    "camp_without_res = res_target.groupby(\"campaing_id\")['target'].mean()\n",
    "broken_campaigns = camp_without_res[camp_without_res == 0].index.tolist()\n",
    "print(f\"{broken_campaigns=}\")"
   ],
   "outputs": [
    {
     "name": "stdout",
     "output_type": "stream",
     "text": [
      "broken_campaigns=['iddt', 'idkfa']\n"
     ]
    }
   ],
   "execution_count": 107
  },
  {
   "metadata": {
    "ExecuteTime": {
     "end_time": "2025-03-21T11:25:20.167533Z",
     "start_time": "2025-03-21T11:25:20.044034Z"
    }
   },
   "cell_type": "code",
   "source": [
    "# Расчет эффективности кампаний через uplift\n",
    "uplift_data = res_target.groupby([\"campaing_id\", \"t_flag\"])[\n",
    "    \"target\"].mean().unstack()  # Группировка по ID кампании и флагу тестовой группы, расчет среднего значения целевой переменной\n",
    "uplift_data['uplift'] = uplift_data[1] - uplift_data[\n",
    "    0]  # Вычисление uplift как разницы между конверсией в тестовой (1) и контрольной (0) группах\n",
    "\n",
    "# Отображение топ-5 кампаний с наибольшим uplift\n",
    "print(uplift_data.sort_values(\"uplift\", ascending=False).head(5))\n",
    "\n",
    "# Визуализация uplift для всех кампаний\n",
    "uplift_data['uplift'].sort_values().plot(kind='barh', figsize=(10, 6),\n",
    "                                         color='royalblue')  # Горизонтальная столбчатая диаграмма с сортировкой по возрастанию uplift\n",
    "plt.xlabel(\"Uplift conversion div\")\n",
    "plt.ylabel(\"campaings\")\n",
    "plt.title(\"camp efficincy (uplift)\")\n",
    "plt.show()"
   ],
   "outputs": [
    {
     "name": "stdout",
     "output_type": "stream",
     "text": [
      "t_flag              0         1    uplift\n",
      "campaing_id                              \n",
      "iddqd        0.000000  0.474182  0.474182\n",
      "iddt         0.000000  0.000000  0.000000\n",
      "idkfa        0.000000  0.000000  0.000000\n",
      "idclip       0.549495  0.000000 -0.549495\n"
     ]
    },
    {
     "data": {
      "text/plain": [
       "<Figure size 1000x600 with 1 Axes>"
      ],
      "image/png": "[encoded data removed]"
     },
     "metadata": {},
     "output_type": "display_data"
    }
   ],
   "execution_count": 116
  },
  {
   "cell_type": "markdown",
   "source": [
    "### выводы\n",
    "- iddqd - эффективна (uplift 0.474182), контрольная группа 0.0 те никто ничего не купил\n",
    "- iddt и idkfa - сломаны или провалены (0 на тесте и контроле)\n",
    "- idclip - плохой результат видимо, тк аплифт -0.549495 для контроля (там покупали) и никто не купил в целевой группе (0). Кампания странная, видимо отпугивала"
   ],
   "metadata": {
    "id": "b9Wtw00t4A_k"
   }
  },
  {
   "cell_type": "markdown",
   "metadata": {
    "id": "Es_paHiL25YF"
   },
   "source": [
    "<h2> 2. Клиентские агрегаты (12 баллов)</h2>\n",
    "\n",
    "Присоедините клиентские агрегаты (будьте внимательны, присоедините агрегаты за корректный месяц) и изучите полученные данные."
   ]
  },
  {
   "cell_type": "markdown",
   "source": [
    "**Комментарий по заданиям и оцениванию:**\n",
    "\n",
    "* Вы должны корректно присоединить клиентские агрегаты со смещением на два месяца, чтобы не было лика таргета. За данное действие можно получить **4 балла**\n",
    "\n",
    "* Далее вы должен сделать UPLIFT EDA, которые обсуждались на лекции и показывались в практических ноутбуках. В ходе анализа вы должны проверить корректность данных по рекламным кампаниям и решить, что делать со \"сломанными\" кампаниями. По итогам анализа подготовьте выводы. За данное действие можно получить **8 баллов**"
   ],
   "metadata": {
    "id": "Mi5DjQXfKv0n"
   }
  },
  {
   "cell_type": "code",
   "source": [
    "df = pd.read_csv('data/hw6/target.csv', delimiter=\",\")\n",
    "df['report_dt'] = pd.to_datetime(df['report_dt'])\n",
    "df[\"report_dt_for_agggs\"] = df[\"report_dt\"] - pd.DateOffset(months=2)\n",
    "df[\"report_dt_for_agggs\"] = df[\"report_dt_for_agggs\"].dt.to_period(\"M\").dt.to_timestamp() + pd.offsets.MonthEnd(0)\n",
    "df"
   ],
   "metadata": {
    "id": "EnnTRvck4I1n",
    "ExecuteTime": {
     "end_time": "2025-03-21T11:33:10.011007Z",
     "start_time": "2025-03-21T11:33:09.747952Z"
    }
   },
   "outputs": [
    {
     "data": {
      "text/plain": [
       "        user_id campaing_id  report_dt  t_flag  target report_dt_for_agggs\n",
       "0       1099975      idclip 2024-11-06       1       0          2024-09-30\n",
       "1         24623       iddqd 2024-11-01       0       0          2024-09-30\n",
       "2       4001330        iddt 2024-11-01       0       0          2024-09-30\n",
       "3       2008409       idkfa 2024-11-04       1       0          2024-09-30\n",
       "4       4045746        iddt 2024-11-04       1       0          2024-09-30\n",
       "...         ...         ...        ...     ...     ...                 ...\n",
       "459995   159974      idclip 2024-11-01       0       0          2024-09-30\n",
       "459996   159993      idclip 2024-11-01       0       0          2024-09-30\n",
       "459997   159995      idclip 2024-11-01       0       0          2024-09-30\n",
       "459998   159997      idclip 2024-11-01       0       0          2024-09-30\n",
       "459999   159999      idclip 2024-11-01       0       0          2024-09-30\n",
       "\n",
       "[460000 rows x 6 columns]"
      ],
      "text/html": [
       "<div>\n",
       "<style scoped>\n",
       "    .dataframe tbody tr th:only-of-type {\n",
       "        vertical-align: middle;\n",
       "    }\n",
       "\n",
       "    .dataframe tbody tr th {\n",
       "        vertical-align: top;\n",
       "    }\n",
       "\n",
       "    .dataframe thead th {\n",
       "        text-align: right;\n",
       "    }\n",
       "</style>\n",
       "<table border=\"1\" class=\"dataframe\">\n",
       "  <thead>\n",
       "    <tr style=\"text-align: right;\">\n",
       "      <th></th>\n",
       "      <th>user_id</th>\n",
       "      <th>campaing_id</th>\n",
       "      <th>report_dt</th>\n",
       "      <th>t_flag</th>\n",
       "      <th>target</th>\n",
       "      <th>report_dt_for_agggs</th>\n",
       "    </tr>\n",
       "  </thead>\n",
       "  <tbody>\n",
       "    <tr>\n",
       "      <th>0</th>\n",
       "      <td>1099975</td>\n",
       "      <td>idclip</td>\n",
       "      <td>2024-11-06</td>\n",
       "      <td>1</td>\n",
       "      <td>0</td>\n",
       "      <td>2024-09-30</td>\n",
       "    </tr>\n",
       "    <tr>\n",
       "      <th>1</th>\n",
       "      <td>24623</td>\n",
       "      <td>iddqd</td>\n",
       "      <td>2024-11-01</td>\n",
       "      <td>0</td>\n",
       "      <td>0</td>\n",
       "      <td>2024-09-30</td>\n",
       "    </tr>\n",
       "    <tr>\n",
       "      <th>2</th>\n",
       "      <td>4001330</td>\n",
       "      <td>iddt</td>\n",
       "      <td>2024-11-01</td>\n",
       "      <td>0</td>\n",
       "      <td>0</td>\n",
       "      <td>2024-09-30</td>\n",
       "    </tr>\n",
       "    <tr>\n",
       "      <th>3</th>\n",
       "      <td>2008409</td>\n",
       "      <td>idkfa</td>\n",
       "      <td>2024-11-04</td>\n",
       "      <td>1</td>\n",
       "      <td>0</td>\n",
       "      <td>2024-09-30</td>\n",
       "    </tr>\n",
       "    <tr>\n",
       "      <th>4</th>\n",
       "      <td>4045746</td>\n",
       "      <td>iddt</td>\n",
       "      <td>2024-11-04</td>\n",
       "      <td>1</td>\n",
       "      <td>0</td>\n",
       "      <td>2024-09-30</td>\n",
       "    </tr>\n",
       "    <tr>\n",
       "      <th>...</th>\n",
       "      <td>...</td>\n",
       "      <td>...</td>\n",
       "      <td>...</td>\n",
       "      <td>...</td>\n",
       "      <td>...</td>\n",
       "      <td>...</td>\n",
       "    </tr>\n",
       "    <tr>\n",
       "      <th>459995</th>\n",
       "      <td>159974</td>\n",
       "      <td>idclip</td>\n",
       "      <td>2024-11-01</td>\n",
       "      <td>0</td>\n",
       "      <td>0</td>\n",
       "      <td>2024-09-30</td>\n",
       "    </tr>\n",
       "    <tr>\n",
       "      <th>459996</th>\n",
       "      <td>159993</td>\n",
       "      <td>idclip</td>\n",
       "      <td>2024-11-01</td>\n",
       "      <td>0</td>\n",
       "      <td>0</td>\n",
       "      <td>2024-09-30</td>\n",
       "    </tr>\n",
       "    <tr>\n",
       "      <th>459997</th>\n",
       "      <td>159995</td>\n",
       "      <td>idclip</td>\n",
       "      <td>2024-11-01</td>\n",
       "      <td>0</td>\n",
       "      <td>0</td>\n",
       "      <td>2024-09-30</td>\n",
       "    </tr>\n",
       "    <tr>\n",
       "      <th>459998</th>\n",
       "      <td>159997</td>\n",
       "      <td>idclip</td>\n",
       "      <td>2024-11-01</td>\n",
       "      <td>0</td>\n",
       "      <td>0</td>\n",
       "      <td>2024-09-30</td>\n",
       "    </tr>\n",
       "    <tr>\n",
       "      <th>459999</th>\n",
       "      <td>159999</td>\n",
       "      <td>idclip</td>\n",
       "      <td>2024-11-01</td>\n",
       "      <td>0</td>\n",
       "      <td>0</td>\n",
       "      <td>2024-09-30</td>\n",
       "    </tr>\n",
       "  </tbody>\n",
       "</table>\n",
       "<p>460000 rows × 6 columns</p>\n",
       "</div>"
      ]
     },
     "execution_count": 118,
     "metadata": {},
     "output_type": "execute_result"
    }
   ],
   "execution_count": 118
  },
  {
   "metadata": {
    "ExecuteTime": {
     "end_time": "2025-03-21T11:34:51.809564Z",
     "start_time": "2025-03-21T11:34:51.325482Z"
    }
   },
   "cell_type": "code",
   "source": [
    "aggs_with_df = df.merge(\n",
    "    aggs,\n",
    "    how=\"left\",\n",
    "    left_on=[\"user_id\", \"report_dt_for_agggs\"],\n",
    "    right_on=[\"user_id\", \"report_dt\"],\n",
    "    suffixes=(\"\", \"_agggs\")\n",
    ")\n",
    "aggs_with_df"
   ],
   "outputs": [
    {
     "data": {
      "text/plain": [
       "        user_id campaing_id  report_dt  t_flag  target report_dt_for_agggs  \\\n",
       "0       1099975      idclip 2024-11-06       1       0          2024-09-30   \n",
       "1         24623       iddqd 2024-11-01       0       0          2024-09-30   \n",
       "2       4001330        iddt 2024-11-01       0       0          2024-09-30   \n",
       "3       2008409       idkfa 2024-11-04       1       0          2024-09-30   \n",
       "4       4045746        iddt 2024-11-04       1       0          2024-09-30   \n",
       "...         ...         ...        ...     ...     ...                 ...   \n",
       "459995   159974      idclip 2024-11-01       0       0          2024-09-30   \n",
       "459996   159993      idclip 2024-11-01       0       0          2024-09-30   \n",
       "459997   159995      idclip 2024-11-01       0       0          2024-09-30   \n",
       "459998   159997      idclip 2024-11-01       0       0          2024-09-30   \n",
       "459999   159999      idclip 2024-11-01       0       0          2024-09-30   \n",
       "\n",
       "              x1        x2        x3        x4        x5        x6        x7  \\\n",
       "0       0.822461  1.233201 -1.000185  2.585873 -0.584520 -0.268274 -0.727814   \n",
       "1       2.281651 -0.354332  1.288191 -2.754188  0.202581  0.831745 -0.002779   \n",
       "2      -1.821441 -0.847392  1.020568 -1.611153  0.933913  0.236984  0.933495   \n",
       "3      -1.952636 -0.479671  1.067760 -1.521329 -0.687298  0.327018  1.052708   \n",
       "4       1.768029 -1.560275  0.533826 -1.815031 -0.456184  0.274609  0.077484   \n",
       "...          ...       ...       ...       ...       ...       ...       ...   \n",
       "459995  1.710690  0.139903  2.300344 -0.983370  1.386517  0.681411  1.499215   \n",
       "459996  1.436845  1.795722  1.836652 -1.811271  3.406144 -0.292144  0.563129   \n",
       "459997  2.889450 -0.877957  1.763199 -2.423527  2.500322 -0.560601  1.610348   \n",
       "459998  0.925286  0.620039  1.685855 -2.097477  1.010336 -0.109139  0.635583   \n",
       "459999  1.030939  0.093441  2.134514 -2.266315  1.130643 -1.435042  0.019245   \n",
       "\n",
       "              x8        x9 report_dt_agggs  age      city  \n",
       "0       1.606372  1.814158      2024-09-30   42    Moscow  \n",
       "1      -1.463527  1.976755      2024-09-30   39       Ufa  \n",
       "2       0.795683 -0.812175      2024-09-30   30  Smolensk  \n",
       "3       1.244605 -0.886796      2024-09-30   25    Moscow  \n",
       "4       0.452296 -0.224605      2024-09-30   21       Ufa  \n",
       "...          ...       ...             ...  ...       ...  \n",
       "459995 -0.767443  0.292852      2024-09-30   41       Ufa  \n",
       "459996 -1.056622  0.797376      2024-09-30   22    Moscow  \n",
       "459997 -0.745781  1.224924      2024-09-30   43  Smolensk  \n",
       "459998 -1.300016  0.297277      2024-09-30   43       Ufa  \n",
       "459999 -1.318046  0.876936      2024-09-30   41       Ufa  \n",
       "\n",
       "[460000 rows x 18 columns]"
      ],
      "text/html": [
       "<div>\n",
       "<style scoped>\n",
       "    .dataframe tbody tr th:only-of-type {\n",
       "        vertical-align: middle;\n",
       "    }\n",
       "\n",
       "    .dataframe tbody tr th {\n",
       "        vertical-align: top;\n",
       "    }\n",
       "\n",
       "    .dataframe thead th {\n",
       "        text-align: right;\n",
       "    }\n",
       "</style>\n",
       "<table border=\"1\" class=\"dataframe\">\n",
       "  <thead>\n",
       "    <tr style=\"text-align: right;\">\n",
       "      <th></th>\n",
       "      <th>user_id</th>\n",
       "      <th>campaing_id</th>\n",
       "      <th>report_dt</th>\n",
       "      <th>t_flag</th>\n",
       "      <th>target</th>\n",
       "      <th>report_dt_for_agggs</th>\n",
       "      <th>x1</th>\n",
       "      <th>x2</th>\n",
       "      <th>x3</th>\n",
       "      <th>x4</th>\n",
       "      <th>x5</th>\n",
       "      <th>x6</th>\n",
       "      <th>x7</th>\n",
       "      <th>x8</th>\n",
       "      <th>x9</th>\n",
       "      <th>report_dt_agggs</th>\n",
       "      <th>age</th>\n",
       "      <th>city</th>\n",
       "    </tr>\n",
       "  </thead>\n",
       "  <tbody>\n",
       "    <tr>\n",
       "      <th>0</th>\n",
       "      <td>1099975</td>\n",
       "      <td>idclip</td>\n",
       "      <td>2024-11-06</td>\n",
       "      <td>1</td>\n",
       "      <td>0</td>\n",
       "      <td>2024-09-30</td>\n",
       "      <td>0.822461</td>\n",
       "      <td>1.233201</td>\n",
       "      <td>-1.000185</td>\n",
       "      <td>2.585873</td>\n",
       "      <td>-0.584520</td>\n",
       "      <td>-0.268274</td>\n",
       "      <td>-0.727814</td>\n",
       "      <td>1.606372</td>\n",
       "      <td>1.814158</td>\n",
       "      <td>2024-09-30</td>\n",
       "      <td>42</td>\n",
       "      <td>Moscow</td>\n",
       "    </tr>\n",
       "    <tr>\n",
       "      <th>1</th>\n",
       "      <td>24623</td>\n",
       "      <td>iddqd</td>\n",
       "      <td>2024-11-01</td>\n",
       "      <td>0</td>\n",
       "      <td>0</td>\n",
       "      <td>2024-09-30</td>\n",
       "      <td>2.281651</td>\n",
       "      <td>-0.354332</td>\n",
       "      <td>1.288191</td>\n",
       "      <td>-2.754188</td>\n",
       "      <td>0.202581</td>\n",
       "      <td>0.831745</td>\n",
       "      <td>-0.002779</td>\n",
       "      <td>-1.463527</td>\n",
       "      <td>1.976755</td>\n",
       "      <td>2024-09-30</td>\n",
       "      <td>39</td>\n",
       "      <td>Ufa</td>\n",
       "    </tr>\n",
       "    <tr>\n",
       "      <th>2</th>\n",
       "      <td>4001330</td>\n",
       "      <td>iddt</td>\n",
       "      <td>2024-11-01</td>\n",
       "      <td>0</td>\n",
       "      <td>0</td>\n",
       "      <td>2024-09-30</td>\n",
       "      <td>-1.821441</td>\n",
       "      <td>-0.847392</td>\n",
       "      <td>1.020568</td>\n",
       "      <td>-1.611153</td>\n",
       "      <td>0.933913</td>\n",
       "      <td>0.236984</td>\n",
       "      <td>0.933495</td>\n",
       "      <td>0.795683</td>\n",
       "      <td>-0.812175</td>\n",
       "      <td>2024-09-30</td>\n",
       "      <td>30</td>\n",
       "      <td>Smolensk</td>\n",
       "    </tr>\n",
       "    <tr>\n",
       "      <th>3</th>\n",
       "      <td>2008409</td>\n",
       "      <td>idkfa</td>\n",
       "      <td>2024-11-04</td>\n",
       "      <td>1</td>\n",
       "      <td>0</td>\n",
       "      <td>2024-09-30</td>\n",
       "      <td>-1.952636</td>\n",
       "      <td>-0.479671</td>\n",
       "      <td>1.067760</td>\n",
       "      <td>-1.521329</td>\n",
       "      <td>-0.687298</td>\n",
       "      <td>0.327018</td>\n",
       "      <td>1.052708</td>\n",
       "      <td>1.244605</td>\n",
       "      <td>-0.886796</td>\n",
       "      <td>2024-09-30</td>\n",
       "      <td>25</td>\n",
       "      <td>Moscow</td>\n",
       "    </tr>\n",
       "    <tr>\n",
       "      <th>4</th>\n",
       "      <td>4045746</td>\n",
       "      <td>iddt</td>\n",
       "      <td>2024-11-04</td>\n",
       "      <td>1</td>\n",
       "      <td>0</td>\n",
       "      <td>2024-09-30</td>\n",
       "      <td>1.768029</td>\n",
       "      <td>-1.560275</td>\n",
       "      <td>0.533826</td>\n",
       "      <td>-1.815031</td>\n",
       "      <td>-0.456184</td>\n",
       "      <td>0.274609</td>\n",
       "      <td>0.077484</td>\n",
       "      <td>0.452296</td>\n",
       "      <td>-0.224605</td>\n",
       "      <td>2024-09-30</td>\n",
       "      <td>21</td>\n",
       "      <td>Ufa</td>\n",
       "    </tr>\n",
       "    <tr>\n",
       "      <th>...</th>\n",
       "      <td>...</td>\n",
       "      <td>...</td>\n",
       "      <td>...</td>\n",
       "      <td>...</td>\n",
       "      <td>...</td>\n",
       "      <td>...</td>\n",
       "      <td>...</td>\n",
       "      <td>...</td>\n",
       "      <td>...</td>\n",
       "      <td>...</td>\n",
       "      <td>...</td>\n",
       "      <td>...</td>\n",
       "      <td>...</td>\n",
       "      <td>...</td>\n",
       "      <td>...</td>\n",
       "      <td>...</td>\n",
       "      <td>...</td>\n",
       "      <td>...</td>\n",
       "    </tr>\n",
       "    <tr>\n",
       "      <th>459995</th>\n",
       "      <td>159974</td>\n",
       "      <td>idclip</td>\n",
       "      <td>2024-11-01</td>\n",
       "      <td>0</td>\n",
       "      <td>0</td>\n",
       "      <td>2024-09-30</td>\n",
       "      <td>1.710690</td>\n",
       "      <td>0.139903</td>\n",
       "      <td>2.300344</td>\n",
       "      <td>-0.983370</td>\n",
       "      <td>1.386517</td>\n",
       "      <td>0.681411</td>\n",
       "      <td>1.499215</td>\n",
       "      <td>-0.767443</td>\n",
       "      <td>0.292852</td>\n",
       "      <td>2024-09-30</td>\n",
       "      <td>41</td>\n",
       "      <td>Ufa</td>\n",
       "    </tr>\n",
       "    <tr>\n",
       "      <th>459996</th>\n",
       "      <td>159993</td>\n",
       "      <td>idclip</td>\n",
       "      <td>2024-11-01</td>\n",
       "      <td>0</td>\n",
       "      <td>0</td>\n",
       "      <td>2024-09-30</td>\n",
       "      <td>1.436845</td>\n",
       "      <td>1.795722</td>\n",
       "      <td>1.836652</td>\n",
       "      <td>-1.811271</td>\n",
       "      <td>3.406144</td>\n",
       "      <td>-0.292144</td>\n",
       "      <td>0.563129</td>\n",
       "      <td>-1.056622</td>\n",
       "      <td>0.797376</td>\n",
       "      <td>2024-09-30</td>\n",
       "      <td>22</td>\n",
       "      <td>Moscow</td>\n",
       "    </tr>\n",
       "    <tr>\n",
       "      <th>459997</th>\n",
       "      <td>159995</td>\n",
       "      <td>idclip</td>\n",
       "      <td>2024-11-01</td>\n",
       "      <td>0</td>\n",
       "      <td>0</td>\n",
       "      <td>2024-09-30</td>\n",
       "      <td>2.889450</td>\n",
       "      <td>-0.877957</td>\n",
       "      <td>1.763199</td>\n",
       "      <td>-2.423527</td>\n",
       "      <td>2.500322</td>\n",
       "      <td>-0.560601</td>\n",
       "      <td>1.610348</td>\n",
       "      <td>-0.745781</td>\n",
       "      <td>1.224924</td>\n",
       "      <td>2024-09-30</td>\n",
       "      <td>43</td>\n",
       "      <td>Smolensk</td>\n",
       "    </tr>\n",
       "    <tr>\n",
       "      <th>459998</th>\n",
       "      <td>159997</td>\n",
       "      <td>idclip</td>\n",
       "      <td>2024-11-01</td>\n",
       "      <td>0</td>\n",
       "      <td>0</td>\n",
       "      <td>2024-09-30</td>\n",
       "      <td>0.925286</td>\n",
       "      <td>0.620039</td>\n",
       "      <td>1.685855</td>\n",
       "      <td>-2.097477</td>\n",
       "      <td>1.010336</td>\n",
       "      <td>-0.109139</td>\n",
       "      <td>0.635583</td>\n",
       "      <td>-1.300016</td>\n",
       "      <td>0.297277</td>\n",
       "      <td>2024-09-30</td>\n",
       "      <td>43</td>\n",
       "      <td>Ufa</td>\n",
       "    </tr>\n",
       "    <tr>\n",
       "      <th>459999</th>\n",
       "      <td>159999</td>\n",
       "      <td>idclip</td>\n",
       "      <td>2024-11-01</td>\n",
       "      <td>0</td>\n",
       "      <td>0</td>\n",
       "      <td>2024-09-30</td>\n",
       "      <td>1.030939</td>\n",
       "      <td>0.093441</td>\n",
       "      <td>2.134514</td>\n",
       "      <td>-2.266315</td>\n",
       "      <td>1.130643</td>\n",
       "      <td>-1.435042</td>\n",
       "      <td>0.019245</td>\n",
       "      <td>-1.318046</td>\n",
       "      <td>0.876936</td>\n",
       "      <td>2024-09-30</td>\n",
       "      <td>41</td>\n",
       "      <td>Ufa</td>\n",
       "    </tr>\n",
       "  </tbody>\n",
       "</table>\n",
       "<p>460000 rows × 18 columns</p>\n",
       "</div>"
      ]
     },
     "execution_count": 120,
     "metadata": {},
     "output_type": "execute_result"
    }
   ],
   "execution_count": 120
  },
  {
   "metadata": {
    "ExecuteTime": {
     "end_time": "2025-03-21T11:38:03.068100Z",
     "start_time": "2025-03-21T11:38:02.747251Z"
    }
   },
   "cell_type": "code",
   "source": [
    "print(aggs_with_df.isna().sum())  # start eda\n",
    "print(f\"{aggs_with_df.duplicated().sum()=}\")\n",
    "print(f\"{aggs_with_df.dtypes=}\")"
   ],
   "outputs": [
    {
     "name": "stdout",
     "output_type": "stream",
     "text": [
      "user_id                0\n",
      "campaing_id            0\n",
      "report_dt              0\n",
      "t_flag                 0\n",
      "target                 0\n",
      "report_dt_for_agggs    0\n",
      "x1                     0\n",
      "x2                     0\n",
      "x3                     0\n",
      "x4                     0\n",
      "x5                     0\n",
      "x6                     0\n",
      "x7                     0\n",
      "x8                     0\n",
      "x9                     0\n",
      "report_dt_agggs        0\n",
      "age                    0\n",
      "city                   0\n",
      "dtype: int64\n",
      "aggs_with_df.duplicated().sum()=0\n",
      "aggs_with_df.dtypes=user_id                         int64\n",
      "campaing_id                    object\n",
      "report_dt              datetime64[ns]\n",
      "t_flag                          int64\n",
      "target                          int64\n",
      "report_dt_for_agggs    datetime64[ns]\n",
      "x1                            float64\n",
      "x2                            float64\n",
      "x3                            float64\n",
      "x4                            float64\n",
      "x5                            float64\n",
      "x6                            float64\n",
      "x7                            float64\n",
      "x8                            float64\n",
      "x9                            float64\n",
      "report_dt_agggs        datetime64[ns]\n",
      "age                             int64\n",
      "city                           object\n",
      "dtype: object\n"
     ]
    }
   ],
   "execution_count": 126
  },
  {
   "metadata": {
    "ExecuteTime": {
     "end_time": "2025-03-21T11:40:40.870269Z",
     "start_time": "2025-03-21T11:40:40.790279Z"
    }
   },
   "cell_type": "code",
   "source": [
    "# Выявление и удаление кампаний с нулевой конверсией\n",
    "camp_without_res = aggs_with_df.groupby(\"campaing_id\")['target'].mean()  # Расчет средней конверсии по каждой кампании\n",
    "broken_campaigns = camp_without_res[camp_without_res == 0].index.tolist()  # Определение кампаний с нулевой конверсией\n",
    "print(f\"{broken_campaigns=} - drop them\")  # Вывод списка кампаний для удаления\n",
    "\n",
    "# Фильтрация данных, исключая проблемные кампании\n",
    "aggs_with_df = aggs_with_df[\n",
    "    ~aggs_with_df['campaing_id'].isin(broken_campaigns)]  # Удаление строк с кампаниями, имеющими нулевую конверсию\n",
    "print(f\"{aggs_with_df.shape=}\")  # Вывод размерности отфильтрованного датасета"
   ],
   "outputs": [
    {
     "name": "stdout",
     "output_type": "stream",
     "text": [
      "broken_campaigns=['iddt', 'idkfa'] - drop them\n",
      "aggs_with_df.shape=(220000, 18)\n"
     ]
    }
   ],
   "execution_count": 129
  },
  {
   "metadata": {
    "ExecuteTime": {
     "end_time": "2025-03-21T11:41:50.380866Z",
     "start_time": "2025-03-21T11:41:50.367614Z"
    }
   },
   "cell_type": "code",
   "source": "print(aggs_with_df[\"t_flag\"].value_counts(normalize=True))  # группы достаточно сбалансированы",
   "outputs": [
    {
     "name": "stdout",
     "output_type": "stream",
     "text": [
      "t_flag\n",
      "0    0.554382\n",
      "1    0.445618\n",
      "Name: proportion, dtype: float64\n"
     ]
    }
   ],
   "execution_count": 130
  },
  {
   "metadata": {
    "ExecuteTime": {
     "end_time": "2025-03-21T11:44:15.513368Z",
     "start_time": "2025-03-21T11:44:15.463694Z"
    }
   },
   "cell_type": "code",
   "source": [
    "# Проверка сбалансированности групп по возрасту\n",
    "control_age = aggs_with_df[aggs_with_df[\"t_flag\"] == 0][\"age\"]  # Выделяем возраст в контрольной группе\n",
    "t_age = aggs_with_df[aggs_with_df[\"t_flag\"] == 1][\"age\"]  # Выделяем возраст в тестовой группе\n",
    "t_stat, p_value = ttest_ind(control_age, t_age)  # Выполняем двухвыборочный t-тест для независимых выборок\n",
    "print(f\"age t-test p-value = {p_value:.3f}\")"
   ],
   "outputs": [
    {
     "name": "stdout",
     "output_type": "stream",
     "text": [
      "age t-test p-value = 0.949\n"
     ]
    }
   ],
   "execution_count": 132
  },
  {
   "metadata": {},
   "cell_type": "markdown",
   "source": "- P-значение t-теста для возраста (0.949) значительно превышает стандартный порог 0.05, что указывает на отсутствие статистически значимых различий в возрасте между контрольной и тестовой группами. Это очень хороший результат, подтверждающий качественную рандомизацию - группы хорошо сбалансированы по возрасту, что исключает этот фактор как возможную причину различий в конверсии между группами. Такая сбалансированность повышает валидность результатов A/B-теста и позволяет с большей уверенностью утверждать, что наблюдаемые эффекты действительно вызваны маркетинговыми воздействиями, а не различиями в составе групп."
  },
  {
   "metadata": {
    "ExecuteTime": {
     "end_time": "2025-03-21T11:48:40.009149Z",
     "start_time": "2025-03-21T11:48:39.988660Z"
    }
   },
   "cell_type": "code",
   "source": [
    "# Анализ распределения городов в контрольной и тестовой группах\n",
    "city_crosstab = pd.crosstab(aggs_with_df[\"t_flag\"],\n",
    "                            aggs_with_df[\"city\"])  # Создание кросс-таблицы: строки - t_flag (0/1), столбцы - города\n",
    "print(f\"{city_crosstab=}\")"
   ],
   "outputs": [
    {
     "name": "stdout",
     "output_type": "stream",
     "text": [
      "city_crosstab=city    Moscow  Smolensk    Ufa\n",
      "t_flag                         \n",
      "0        40615     40471  40878\n",
      "1        32657     32495  32884\n"
     ]
    }
   ],
   "execution_count": 134
  },
  {
   "metadata": {
    "ExecuteTime": {
     "end_time": "2025-03-21T11:54:30.965209Z",
     "start_time": "2025-03-21T11:54:30.937648Z"
    }
   },
   "cell_type": "code",
   "source": [
    "# Анализ статистики по пользователям и покупкам в разрезе кампаний и групп\n",
    "camp_stats = aggs_with_df.groupby([\"campaing_id\", \"t_flag\"]).agg(total_users=(\"user_id\", \"count\"),  # Подсчет пользователей\n",
    "                                                                purchases=(\"target\", \"sum\")).reset_index()  # Подсчет покупок\n",
    "print(camp_stats)  # Вывод агрегированной статистики\n",
    "\n",
    "# Детальный анализ покупок в каждой кампании по группам (контрольная/тестовая)\n",
    "campaigns = aggs_with_df[\"campaing_id\"].unique()  # Получение списка уникальных ID кампаний\n",
    "for campaign in campaigns:\n",
    "   campaign_data = camp_stats[camp_stats[\"campaing_id\"] == campaign]  # Фильтрация данных для текущей кампании\n",
    "\n",
    "   # Извлечение числа покупок в контрольной группе\n",
    "   control_purch = campaign_data[campaign_data[\"t_flag\"] == 0][\"purchases\"].values[0]\n",
    "\n",
    "   # Извлечение числа покупок в тестовой группе\n",
    "   treatment_purch = campaign_data[campaign_data[\"t_flag\"] == 1][\"purchases\"].values[0]\n",
    "\n",
    "   # Вывод информации о наличии/отсутствии покупок в контрольной группе\n",
    "   print(\n",
    "       f\"{campaign=}: no purch in control group\" if control_purch == 0 else f\"{campaign=}: have purch in control group\")\n",
    "\n",
    "   # Вывод информации о наличии/отсутствии покупок в тестовой группе\n",
    "   print(\n",
    "       f\"{campaign=}: no purch in treatment group\" if treatment_purch == 0 else f\"{campaign=}: have purch in treatment group\")"
   ],
   "outputs": [
    {
     "name": "stdout",
     "output_type": "stream",
     "text": [
      "  campaing_id  t_flag  total_users  purchases\n",
      "0      idclip       0        41964      23059\n",
      "1      idclip       1        60000          0\n",
      "2       iddqd       0        80000          0\n",
      "3       iddqd       1        38036      18036\n",
      "campaign='idclip': have purch in control group\n",
      "campaign='idclip': no purch in treatment group\n",
      "campaign='iddqd': no purch in control group\n",
      "campaign='iddqd': have purch in treatment group\n"
     ]
    }
   ],
   "execution_count": 137
  },
  {
   "metadata": {
    "ExecuteTime": {
     "end_time": "2025-03-21T11:55:46.793663Z",
     "start_time": "2025-03-21T11:55:44.702468Z"
    }
   },
   "cell_type": "code",
   "source": "aggs_with_df.to_csv('data/hw6/target_eda.csv', index=False)",
   "outputs": [],
   "execution_count": 139
  },
  {
   "cell_type": "markdown",
   "source": [
    "\n",
    "### выводы\n",
    "- iddt и idkfa удалены из-за отсутствия покупок в обеих группах => Размер данных уменьшился 460000 -> 220000 строк (47%)\n",
    "- Соотношение контрольной и целевой групп достаточно сбалансировано (55% vs 45%)\n",
    "- T-тест подтвердил отсутствие значимых различий в возрасте между группами (p=0.949)\n",
    "- Кампания iddqd продемонстрировала положительный uplift. B контрольной группе 0, в целевой - 18k, кампания iddqd успешна и рекомендуется для дальнейшего анализа и моделирования\n",
    "- Кампания idclip показала отрицательный uplift. Вероятно Она отпугивает покупателей или ошибка в выборе целевой группы"
   ],
   "metadata": {
    "id": "pp5bzCfq5AKs"
   }
  },
  {
   "cell_type": "markdown",
   "metadata": {
    "id": "UhrSiFL325YF"
   },
   "source": [
    "<h2> 3. Построение моделей и оценка их качества (14 баллов)</h2>\n",
    "\n",
    "Постройте Uplift модели по собранным кампаниям, проведите тюнинг гиперпараметров и оцените их качество (qini score). Для каждой модели также постройте qini-curve."
   ]
  },
  {
   "cell_type": "markdown",
   "source": [
    "**Комментарий по заданиям и оцениванию:**\n",
    "\n",
    "* Реализован только подход Solomodel без дополнительных библиотек и калибровок  - **1 балл**\n",
    "\n",
    "* Реализован Solomodel или Twomodel через Sklift или CausalML - **2 балла**\n",
    "\n",
    "* Учтена калибровка Metalearner'ах - **2 балла**\n",
    "\n",
    "* Корректно реализован ClassTransformation - **2 балла**\n",
    "\n",
    "* Реализован UpliftRandomForest - **4 балла**\n",
    "\n",
    "* Использованы пайплайны в Sklift - **2 балла**\n",
    "\n",
    "* Реализован тюнинг ( Gridsearch \\ Optuna ) - **1 балл**"
   ],
   "metadata": {
    "id": "RfDQkfmaLeE-"
   }
  },
  {
   "cell_type": "code",
   "source": [
    "import pandas as pd\n",
    "import numpy as np\n",
    "import seaborn as sns\n",
    "import matplotlib.pyplot as plt\n",
    "\n",
    "from sklearn.preprocessing import MinMaxScaler\n",
    "from sklearn.pipeline import Pipeline\n",
    "from sklearn.model_selection import train_test_split, GridSearchCV\n",
    "from sklearn.linear_model import LogisticRegression\n",
    "from sklearn.calibration import CalibratedClassifierCV\n",
    "from sklearn.ensemble import RandomForestClassifier\n",
    "\n",
    "from sklift.models import SoloModel, TwoModels, ClassTransformation\n",
    "from sklift.metrics import qini_auc_score\n",
    "from sklift.viz import plot_qini_curve\n",
    "\n",
    "# from causalml.inference.tree import UpliftRandomForestClassifier\n",
    "import optuna\n",
    "df = pd.read_csv('data/hw6/target_eda.csv', sep=',')\n",
    "df['report_dt'] = pd.to_datetime(df['report_dt'])\n",
    "df['report_dt_for_agggs'] = pd.to_datetime(df['report_dt_for_agggs'])\n",
    "df['report_dt_agggs'] = pd.to_datetime(df['report_dt_agggs'])\n",
    "df"
   ],
   "metadata": {
    "id": "RkbXxg8i4SkR",
    "ExecuteTime": {
     "end_time": "2025-03-21T13:19:13.562389Z",
     "start_time": "2025-03-21T13:19:13.497850Z"
    }
   },
   "outputs": [
    {
     "ename": "ValueError",
     "evalue": "numpy.dtype size changed, may indicate binary incompatibility. Expected 96 from C header, got 88 from PyObject",
     "output_type": "error",
     "traceback": [
      "\u001B[0;31m---------------------------------------------------------------------------\u001B[0m",
      "\u001B[0;31mValueError\u001B[0m                                Traceback (most recent call last)",
      "Cell \u001B[0;32mIn[9], line 6\u001B[0m\n\u001B[1;32m      3\u001B[0m \u001B[38;5;28;01mimport\u001B[39;00m\u001B[38;5;250m \u001B[39m\u001B[38;5;21;01mseaborn\u001B[39;00m\u001B[38;5;250m \u001B[39m\u001B[38;5;28;01mas\u001B[39;00m\u001B[38;5;250m \u001B[39m\u001B[38;5;21;01msns\u001B[39;00m\n\u001B[1;32m      4\u001B[0m \u001B[38;5;28;01mimport\u001B[39;00m\u001B[38;5;250m \u001B[39m\u001B[38;5;21;01mmatplotlib\u001B[39;00m\u001B[38;5;21;01m.\u001B[39;00m\u001B[38;5;21;01mpyplot\u001B[39;00m\u001B[38;5;250m \u001B[39m\u001B[38;5;28;01mas\u001B[39;00m\u001B[38;5;250m \u001B[39m\u001B[38;5;21;01mplt\u001B[39;00m\n\u001B[0;32m----> 6\u001B[0m \u001B[38;5;28;01mfrom\u001B[39;00m\u001B[38;5;250m \u001B[39m\u001B[38;5;21;01msklearn\u001B[39;00m\u001B[38;5;21;01m.\u001B[39;00m\u001B[38;5;21;01mpreprocessing\u001B[39;00m\u001B[38;5;250m \u001B[39m\u001B[38;5;28;01mimport\u001B[39;00m MinMaxScaler\n\u001B[1;32m      7\u001B[0m \u001B[38;5;28;01mfrom\u001B[39;00m\u001B[38;5;250m \u001B[39m\u001B[38;5;21;01msklearn\u001B[39;00m\u001B[38;5;21;01m.\u001B[39;00m\u001B[38;5;21;01mpipeline\u001B[39;00m\u001B[38;5;250m \u001B[39m\u001B[38;5;28;01mimport\u001B[39;00m Pipeline\n\u001B[1;32m      8\u001B[0m \u001B[38;5;28;01mfrom\u001B[39;00m\u001B[38;5;250m \u001B[39m\u001B[38;5;21;01msklearn\u001B[39;00m\u001B[38;5;21;01m.\u001B[39;00m\u001B[38;5;21;01mmodel_selection\u001B[39;00m\u001B[38;5;250m \u001B[39m\u001B[38;5;28;01mimport\u001B[39;00m train_test_split, GridSearchCV\n",
      "File \u001B[0;32m~/miniconda3/envs/HSE-AI-HW102/lib/python3.10/site-packages/sklearn/__init__.py:82\u001B[0m\n\u001B[1;32m     80\u001B[0m \u001B[38;5;28;01mfrom\u001B[39;00m\u001B[38;5;250m \u001B[39m\u001B[38;5;21;01m.\u001B[39;00m\u001B[38;5;250m \u001B[39m\u001B[38;5;28;01mimport\u001B[39;00m _distributor_init  \u001B[38;5;66;03m# noqa: F401\u001B[39;00m\n\u001B[1;32m     81\u001B[0m \u001B[38;5;28;01mfrom\u001B[39;00m\u001B[38;5;250m \u001B[39m\u001B[38;5;21;01m.\u001B[39;00m\u001B[38;5;250m \u001B[39m\u001B[38;5;28;01mimport\u001B[39;00m __check_build  \u001B[38;5;66;03m# noqa: F401\u001B[39;00m\n\u001B[0;32m---> 82\u001B[0m \u001B[38;5;28;01mfrom\u001B[39;00m\u001B[38;5;250m \u001B[39m\u001B[38;5;21;01m.\u001B[39;00m\u001B[38;5;21;01mbase\u001B[39;00m\u001B[38;5;250m \u001B[39m\u001B[38;5;28;01mimport\u001B[39;00m clone\n\u001B[1;32m     83\u001B[0m \u001B[38;5;28;01mfrom\u001B[39;00m\u001B[38;5;250m \u001B[39m\u001B[38;5;21;01m.\u001B[39;00m\u001B[38;5;21;01mutils\u001B[39;00m\u001B[38;5;21;01m.\u001B[39;00m\u001B[38;5;21;01m_show_versions\u001B[39;00m\u001B[38;5;250m \u001B[39m\u001B[38;5;28;01mimport\u001B[39;00m show_versions\n\u001B[1;32m     85\u001B[0m __all__ \u001B[38;5;241m=\u001B[39m [\n\u001B[1;32m     86\u001B[0m     \u001B[38;5;124m\"\u001B[39m\u001B[38;5;124mcalibration\u001B[39m\u001B[38;5;124m\"\u001B[39m,\n\u001B[1;32m     87\u001B[0m     \u001B[38;5;124m\"\u001B[39m\u001B[38;5;124mcluster\u001B[39m\u001B[38;5;124m\"\u001B[39m,\n\u001B[0;32m   (...)\u001B[0m\n\u001B[1;32m    128\u001B[0m     \u001B[38;5;124m\"\u001B[39m\u001B[38;5;124mshow_versions\u001B[39m\u001B[38;5;124m\"\u001B[39m,\n\u001B[1;32m    129\u001B[0m ]\n",
      "File \u001B[0;32m~/miniconda3/envs/HSE-AI-HW102/lib/python3.10/site-packages/sklearn/base.py:17\u001B[0m\n\u001B[1;32m     15\u001B[0m \u001B[38;5;28;01mfrom\u001B[39;00m\u001B[38;5;250m \u001B[39m\u001B[38;5;21;01m.\u001B[39;00m\u001B[38;5;250m \u001B[39m\u001B[38;5;28;01mimport\u001B[39;00m __version__\n\u001B[1;32m     16\u001B[0m \u001B[38;5;28;01mfrom\u001B[39;00m\u001B[38;5;250m \u001B[39m\u001B[38;5;21;01m.\u001B[39;00m\u001B[38;5;21;01m_config\u001B[39;00m\u001B[38;5;250m \u001B[39m\u001B[38;5;28;01mimport\u001B[39;00m get_config\n\u001B[0;32m---> 17\u001B[0m \u001B[38;5;28;01mfrom\u001B[39;00m\u001B[38;5;250m \u001B[39m\u001B[38;5;21;01m.\u001B[39;00m\u001B[38;5;21;01mutils\u001B[39;00m\u001B[38;5;250m \u001B[39m\u001B[38;5;28;01mimport\u001B[39;00m _IS_32BIT\n\u001B[1;32m     18\u001B[0m \u001B[38;5;28;01mfrom\u001B[39;00m\u001B[38;5;250m \u001B[39m\u001B[38;5;21;01m.\u001B[39;00m\u001B[38;5;21;01mutils\u001B[39;00m\u001B[38;5;21;01m.\u001B[39;00m\u001B[38;5;21;01m_set_output\u001B[39;00m\u001B[38;5;250m \u001B[39m\u001B[38;5;28;01mimport\u001B[39;00m _SetOutputMixin\n\u001B[1;32m     19\u001B[0m \u001B[38;5;28;01mfrom\u001B[39;00m\u001B[38;5;250m \u001B[39m\u001B[38;5;21;01m.\u001B[39;00m\u001B[38;5;21;01mutils\u001B[39;00m\u001B[38;5;21;01m.\u001B[39;00m\u001B[38;5;21;01m_tags\u001B[39;00m\u001B[38;5;250m \u001B[39m\u001B[38;5;28;01mimport\u001B[39;00m (\n\u001B[1;32m     20\u001B[0m     _DEFAULT_TAGS,\n\u001B[1;32m     21\u001B[0m )\n",
      "File \u001B[0;32m~/miniconda3/envs/HSE-AI-HW102/lib/python3.10/site-packages/sklearn/utils/__init__.py:19\u001B[0m\n\u001B[1;32m     16\u001B[0m \u001B[38;5;28;01mimport\u001B[39;00m\u001B[38;5;250m \u001B[39m\u001B[38;5;21;01mnumpy\u001B[39;00m\u001B[38;5;250m \u001B[39m\u001B[38;5;28;01mas\u001B[39;00m\u001B[38;5;250m \u001B[39m\u001B[38;5;21;01mnp\u001B[39;00m\n\u001B[1;32m     17\u001B[0m \u001B[38;5;28;01mfrom\u001B[39;00m\u001B[38;5;250m \u001B[39m\u001B[38;5;21;01mscipy\u001B[39;00m\u001B[38;5;21;01m.\u001B[39;00m\u001B[38;5;21;01msparse\u001B[39;00m\u001B[38;5;250m \u001B[39m\u001B[38;5;28;01mimport\u001B[39;00m issparse\n\u001B[0;32m---> 19\u001B[0m \u001B[38;5;28;01mfrom\u001B[39;00m\u001B[38;5;250m \u001B[39m\u001B[38;5;21;01m.\u001B[39;00m\u001B[38;5;21;01mmurmurhash\u001B[39;00m\u001B[38;5;250m \u001B[39m\u001B[38;5;28;01mimport\u001B[39;00m murmurhash3_32\n\u001B[1;32m     20\u001B[0m \u001B[38;5;28;01mfrom\u001B[39;00m\u001B[38;5;250m \u001B[39m\u001B[38;5;21;01m.\u001B[39;00m\u001B[38;5;21;01mclass_weight\u001B[39;00m\u001B[38;5;250m \u001B[39m\u001B[38;5;28;01mimport\u001B[39;00m compute_class_weight, compute_sample_weight\n\u001B[1;32m     21\u001B[0m \u001B[38;5;28;01mfrom\u001B[39;00m\u001B[38;5;250m \u001B[39m\u001B[38;5;21;01m.\u001B[39;00m\u001B[38;5;250m \u001B[39m\u001B[38;5;28;01mimport\u001B[39;00m _joblib\n",
      "File \u001B[0;32msklearn/utils/murmurhash.pyx:1\u001B[0m, in \u001B[0;36minit sklearn.utils.murmurhash\u001B[0;34m()\u001B[0m\n",
      "\u001B[0;31mValueError\u001B[0m: numpy.dtype size changed, may indicate binary incompatibility. Expected 96 from C header, got 88 from PyObject"
     ]
    }
   ],
   "execution_count": 9
  },
  {
   "metadata": {
    "ExecuteTime": {
     "end_time": "2025-03-21T12:15:49.376813Z",
     "start_time": "2025-03-21T12:15:49.301092Z"
    }
   },
   "cell_type": "code",
   "source": [
    "df['m'] = df['report_dt'].dt.month # add month\n",
    "df['dow'] = df['report_dt'].dt.dayofweek\n",
    "df['d_diff'] = (df['report_dt'] - df['report_dt_for_agggs']).dt.days\n",
    "df"
   ],
   "outputs": [
    {
     "data": {
      "text/plain": [
       "        user_id campaing_id  report_dt  t_flag  target report_dt_for_agggs  \\\n",
       "0       1099975      idclip 2024-11-06       1       0          2024-09-30   \n",
       "1         24623       iddqd 2024-11-01       0       0          2024-09-30   \n",
       "2       1106346      idclip 2024-11-05       1       0          2024-09-30   \n",
       "3        116064       iddqd 2024-11-01       0       0          2024-09-30   \n",
       "4        139714       iddqd 2024-11-01       0       0          2024-09-30   \n",
       "...         ...         ...        ...     ...     ...                 ...   \n",
       "219995   159974      idclip 2024-11-01       0       0          2024-09-30   \n",
       "219996   159993      idclip 2024-11-01       0       0          2024-09-30   \n",
       "219997   159995      idclip 2024-11-01       0       0          2024-09-30   \n",
       "219998   159997      idclip 2024-11-01       0       0          2024-09-30   \n",
       "219999   159999      idclip 2024-11-01       0       0          2024-09-30   \n",
       "\n",
       "              x1        x2        x3        x4  ...        x6        x7  \\\n",
       "0       0.822461  1.233201 -1.000185  2.585873  ... -0.268274 -0.727814   \n",
       "1       2.281651 -0.354332  1.288191 -2.754188  ...  0.831745 -0.002779   \n",
       "2      -1.902137  0.322546  2.759591 -0.705195  ...  0.205020 -0.647572   \n",
       "3      -0.773911  1.877601  0.582218  1.699295  ... -0.018505  0.337289   \n",
       "4       0.457746  1.407223  0.803963 -2.002316  ... -1.389908 -1.823737   \n",
       "...          ...       ...       ...       ...  ...       ...       ...   \n",
       "219995  1.710690  0.139903  2.300344 -0.983370  ...  0.681411  1.499215   \n",
       "219996  1.436845  1.795722  1.836652 -1.811271  ... -0.292144  0.563129   \n",
       "219997  2.889450 -0.877957  1.763199 -2.423527  ... -0.560601  1.610348   \n",
       "219998  0.925286  0.620039  1.685855 -2.097477  ... -0.109139  0.635583   \n",
       "219999  1.030939  0.093441  2.134514 -2.266315  ... -1.435042  0.019245   \n",
       "\n",
       "              x8        x9  report_dt_agggs age      city   m  dow  d_diff  \n",
       "0       1.606372  1.814158       2024-09-30  42    Moscow  11    2      37  \n",
       "1      -1.463527  1.976755       2024-09-30  39       Ufa  11    4      32  \n",
       "2       1.405190 -1.614184       2024-09-30  32    Moscow  11    1      36  \n",
       "3      -1.101638 -0.936927       2024-09-30  33       Ufa  11    4      32  \n",
       "4      -0.512010  1.840791       2024-09-30  27       Ufa  11    4      32  \n",
       "...          ...       ...              ...  ..       ...  ..  ...     ...  \n",
       "219995 -0.767443  0.292852       2024-09-30  41       Ufa  11    4      32  \n",
       "219996 -1.056622  0.797376       2024-09-30  22    Moscow  11    4      32  \n",
       "219997 -0.745781  1.224924       2024-09-30  43  Smolensk  11    4      32  \n",
       "219998 -1.300016  0.297277       2024-09-30  43       Ufa  11    4      32  \n",
       "219999 -1.318046  0.876936       2024-09-30  41       Ufa  11    4      32  \n",
       "\n",
       "[220000 rows x 21 columns]"
      ],
      "text/html": [
       "<div>\n",
       "<style scoped>\n",
       "    .dataframe tbody tr th:only-of-type {\n",
       "        vertical-align: middle;\n",
       "    }\n",
       "\n",
       "    .dataframe tbody tr th {\n",
       "        vertical-align: top;\n",
       "    }\n",
       "\n",
       "    .dataframe thead th {\n",
       "        text-align: right;\n",
       "    }\n",
       "</style>\n",
       "<table border=\"1\" class=\"dataframe\">\n",
       "  <thead>\n",
       "    <tr style=\"text-align: right;\">\n",
       "      <th></th>\n",
       "      <th>user_id</th>\n",
       "      <th>campaing_id</th>\n",
       "      <th>report_dt</th>\n",
       "      <th>t_flag</th>\n",
       "      <th>target</th>\n",
       "      <th>report_dt_for_agggs</th>\n",
       "      <th>x1</th>\n",
       "      <th>x2</th>\n",
       "      <th>x3</th>\n",
       "      <th>x4</th>\n",
       "      <th>...</th>\n",
       "      <th>x6</th>\n",
       "      <th>x7</th>\n",
       "      <th>x8</th>\n",
       "      <th>x9</th>\n",
       "      <th>report_dt_agggs</th>\n",
       "      <th>age</th>\n",
       "      <th>city</th>\n",
       "      <th>m</th>\n",
       "      <th>dow</th>\n",
       "      <th>d_diff</th>\n",
       "    </tr>\n",
       "  </thead>\n",
       "  <tbody>\n",
       "    <tr>\n",
       "      <th>0</th>\n",
       "      <td>1099975</td>\n",
       "      <td>idclip</td>\n",
       "      <td>2024-11-06</td>\n",
       "      <td>1</td>\n",
       "      <td>0</td>\n",
       "      <td>2024-09-30</td>\n",
       "      <td>0.822461</td>\n",
       "      <td>1.233201</td>\n",
       "      <td>-1.000185</td>\n",
       "      <td>2.585873</td>\n",
       "      <td>...</td>\n",
       "      <td>-0.268274</td>\n",
       "      <td>-0.727814</td>\n",
       "      <td>1.606372</td>\n",
       "      <td>1.814158</td>\n",
       "      <td>2024-09-30</td>\n",
       "      <td>42</td>\n",
       "      <td>Moscow</td>\n",
       "      <td>11</td>\n",
       "      <td>2</td>\n",
       "      <td>37</td>\n",
       "    </tr>\n",
       "    <tr>\n",
       "      <th>1</th>\n",
       "      <td>24623</td>\n",
       "      <td>iddqd</td>\n",
       "      <td>2024-11-01</td>\n",
       "      <td>0</td>\n",
       "      <td>0</td>\n",
       "      <td>2024-09-30</td>\n",
       "      <td>2.281651</td>\n",
       "      <td>-0.354332</td>\n",
       "      <td>1.288191</td>\n",
       "      <td>-2.754188</td>\n",
       "      <td>...</td>\n",
       "      <td>0.831745</td>\n",
       "      <td>-0.002779</td>\n",
       "      <td>-1.463527</td>\n",
       "      <td>1.976755</td>\n",
       "      <td>2024-09-30</td>\n",
       "      <td>39</td>\n",
       "      <td>Ufa</td>\n",
       "      <td>11</td>\n",
       "      <td>4</td>\n",
       "      <td>32</td>\n",
       "    </tr>\n",
       "    <tr>\n",
       "      <th>2</th>\n",
       "      <td>1106346</td>\n",
       "      <td>idclip</td>\n",
       "      <td>2024-11-05</td>\n",
       "      <td>1</td>\n",
       "      <td>0</td>\n",
       "      <td>2024-09-30</td>\n",
       "      <td>-1.902137</td>\n",
       "      <td>0.322546</td>\n",
       "      <td>2.759591</td>\n",
       "      <td>-0.705195</td>\n",
       "      <td>...</td>\n",
       "      <td>0.205020</td>\n",
       "      <td>-0.647572</td>\n",
       "      <td>1.405190</td>\n",
       "      <td>-1.614184</td>\n",
       "      <td>2024-09-30</td>\n",
       "      <td>32</td>\n",
       "      <td>Moscow</td>\n",
       "      <td>11</td>\n",
       "      <td>1</td>\n",
       "      <td>36</td>\n",
       "    </tr>\n",
       "    <tr>\n",
       "      <th>3</th>\n",
       "      <td>116064</td>\n",
       "      <td>iddqd</td>\n",
       "      <td>2024-11-01</td>\n",
       "      <td>0</td>\n",
       "      <td>0</td>\n",
       "      <td>2024-09-30</td>\n",
       "      <td>-0.773911</td>\n",
       "      <td>1.877601</td>\n",
       "      <td>0.582218</td>\n",
       "      <td>1.699295</td>\n",
       "      <td>...</td>\n",
       "      <td>-0.018505</td>\n",
       "      <td>0.337289</td>\n",
       "      <td>-1.101638</td>\n",
       "      <td>-0.936927</td>\n",
       "      <td>2024-09-30</td>\n",
       "      <td>33</td>\n",
       "      <td>Ufa</td>\n",
       "      <td>11</td>\n",
       "      <td>4</td>\n",
       "      <td>32</td>\n",
       "    </tr>\n",
       "    <tr>\n",
       "      <th>4</th>\n",
       "      <td>139714</td>\n",
       "      <td>iddqd</td>\n",
       "      <td>2024-11-01</td>\n",
       "      <td>0</td>\n",
       "      <td>0</td>\n",
       "      <td>2024-09-30</td>\n",
       "      <td>0.457746</td>\n",
       "      <td>1.407223</td>\n",
       "      <td>0.803963</td>\n",
       "      <td>-2.002316</td>\n",
       "      <td>...</td>\n",
       "      <td>-1.389908</td>\n",
       "      <td>-1.823737</td>\n",
       "      <td>-0.512010</td>\n",
       "      <td>1.840791</td>\n",
       "      <td>2024-09-30</td>\n",
       "      <td>27</td>\n",
       "      <td>Ufa</td>\n",
       "      <td>11</td>\n",
       "      <td>4</td>\n",
       "      <td>32</td>\n",
       "    </tr>\n",
       "    <tr>\n",
       "      <th>...</th>\n",
       "      <td>...</td>\n",
       "      <td>...</td>\n",
       "      <td>...</td>\n",
       "      <td>...</td>\n",
       "      <td>...</td>\n",
       "      <td>...</td>\n",
       "      <td>...</td>\n",
       "      <td>...</td>\n",
       "      <td>...</td>\n",
       "      <td>...</td>\n",
       "      <td>...</td>\n",
       "      <td>...</td>\n",
       "      <td>...</td>\n",
       "      <td>...</td>\n",
       "      <td>...</td>\n",
       "      <td>...</td>\n",
       "      <td>...</td>\n",
       "      <td>...</td>\n",
       "      <td>...</td>\n",
       "      <td>...</td>\n",
       "      <td>...</td>\n",
       "    </tr>\n",
       "    <tr>\n",
       "      <th>219995</th>\n",
       "      <td>159974</td>\n",
       "      <td>idclip</td>\n",
       "      <td>2024-11-01</td>\n",
       "      <td>0</td>\n",
       "      <td>0</td>\n",
       "      <td>2024-09-30</td>\n",
       "      <td>1.710690</td>\n",
       "      <td>0.139903</td>\n",
       "      <td>2.300344</td>\n",
       "      <td>-0.983370</td>\n",
       "      <td>...</td>\n",
       "      <td>0.681411</td>\n",
       "      <td>1.499215</td>\n",
       "      <td>-0.767443</td>\n",
       "      <td>0.292852</td>\n",
       "      <td>2024-09-30</td>\n",
       "      <td>41</td>\n",
       "      <td>Ufa</td>\n",
       "      <td>11</td>\n",
       "      <td>4</td>\n",
       "      <td>32</td>\n",
       "    </tr>\n",
       "    <tr>\n",
       "      <th>219996</th>\n",
       "      <td>159993</td>\n",
       "      <td>idclip</td>\n",
       "      <td>2024-11-01</td>\n",
       "      <td>0</td>\n",
       "      <td>0</td>\n",
       "      <td>2024-09-30</td>\n",
       "      <td>1.436845</td>\n",
       "      <td>1.795722</td>\n",
       "      <td>1.836652</td>\n",
       "      <td>-1.811271</td>\n",
       "      <td>...</td>\n",
       "      <td>-0.292144</td>\n",
       "      <td>0.563129</td>\n",
       "      <td>-1.056622</td>\n",
       "      <td>0.797376</td>\n",
       "      <td>2024-09-30</td>\n",
       "      <td>22</td>\n",
       "      <td>Moscow</td>\n",
       "      <td>11</td>\n",
       "      <td>4</td>\n",
       "      <td>32</td>\n",
       "    </tr>\n",
       "    <tr>\n",
       "      <th>219997</th>\n",
       "      <td>159995</td>\n",
       "      <td>idclip</td>\n",
       "      <td>2024-11-01</td>\n",
       "      <td>0</td>\n",
       "      <td>0</td>\n",
       "      <td>2024-09-30</td>\n",
       "      <td>2.889450</td>\n",
       "      <td>-0.877957</td>\n",
       "      <td>1.763199</td>\n",
       "      <td>-2.423527</td>\n",
       "      <td>...</td>\n",
       "      <td>-0.560601</td>\n",
       "      <td>1.610348</td>\n",
       "      <td>-0.745781</td>\n",
       "      <td>1.224924</td>\n",
       "      <td>2024-09-30</td>\n",
       "      <td>43</td>\n",
       "      <td>Smolensk</td>\n",
       "      <td>11</td>\n",
       "      <td>4</td>\n",
       "      <td>32</td>\n",
       "    </tr>\n",
       "    <tr>\n",
       "      <th>219998</th>\n",
       "      <td>159997</td>\n",
       "      <td>idclip</td>\n",
       "      <td>2024-11-01</td>\n",
       "      <td>0</td>\n",
       "      <td>0</td>\n",
       "      <td>2024-09-30</td>\n",
       "      <td>0.925286</td>\n",
       "      <td>0.620039</td>\n",
       "      <td>1.685855</td>\n",
       "      <td>-2.097477</td>\n",
       "      <td>...</td>\n",
       "      <td>-0.109139</td>\n",
       "      <td>0.635583</td>\n",
       "      <td>-1.300016</td>\n",
       "      <td>0.297277</td>\n",
       "      <td>2024-09-30</td>\n",
       "      <td>43</td>\n",
       "      <td>Ufa</td>\n",
       "      <td>11</td>\n",
       "      <td>4</td>\n",
       "      <td>32</td>\n",
       "    </tr>\n",
       "    <tr>\n",
       "      <th>219999</th>\n",
       "      <td>159999</td>\n",
       "      <td>idclip</td>\n",
       "      <td>2024-11-01</td>\n",
       "      <td>0</td>\n",
       "      <td>0</td>\n",
       "      <td>2024-09-30</td>\n",
       "      <td>1.030939</td>\n",
       "      <td>0.093441</td>\n",
       "      <td>2.134514</td>\n",
       "      <td>-2.266315</td>\n",
       "      <td>...</td>\n",
       "      <td>-1.435042</td>\n",
       "      <td>0.019245</td>\n",
       "      <td>-1.318046</td>\n",
       "      <td>0.876936</td>\n",
       "      <td>2024-09-30</td>\n",
       "      <td>41</td>\n",
       "      <td>Ufa</td>\n",
       "      <td>11</td>\n",
       "      <td>4</td>\n",
       "      <td>32</td>\n",
       "    </tr>\n",
       "  </tbody>\n",
       "</table>\n",
       "<p>220000 rows × 21 columns</p>\n",
       "</div>"
      ]
     },
     "execution_count": 159,
     "metadata": {},
     "output_type": "execute_result"
    }
   ],
   "execution_count": 159
  },
  {
   "metadata": {
    "ExecuteTime": {
     "end_time": "2025-03-21T12:15:54.177655Z",
     "start_time": "2025-03-21T12:15:54.112997Z"
    }
   },
   "cell_type": "code",
   "source": [
    "print(df['city'].value_counts()) # ohe this\n",
    "df = pd.get_dummies(df, columns=['campaing_id', 'city'], dtype=float, drop_first=True)\n",
    "df_prepared = df.drop(columns=['report_dt', 'report_dt_for_agggs', 'report_dt_agggs'], inplace=True)\n",
    "df_prepared"
   ],
   "outputs": [
    {
     "name": "stdout",
     "output_type": "stream",
     "text": [
      "city\n",
      "Ufa         73762\n",
      "Moscow      73272\n",
      "Smolensk    72966\n",
      "Name: count, dtype: int64\n"
     ]
    }
   ],
   "execution_count": 160
  },
  {
   "metadata": {
    "ExecuteTime": {
     "end_time": "2025-03-21T12:19:48.355709Z",
     "start_time": "2025-03-21T12:19:48.344572Z"
    }
   },
   "cell_type": "code",
   "source": "df.info()",
   "outputs": [
    {
     "name": "stdout",
     "output_type": "stream",
     "text": [
      "<class 'pandas.core.frame.DataFrame'>\n",
      "RangeIndex: 220000 entries, 0 to 219999\n",
      "Data columns (total 19 columns):\n",
      " #   Column             Non-Null Count   Dtype  \n",
      "---  ------             --------------   -----  \n",
      " 0   user_id            220000 non-null  int64  \n",
      " 1   t_flag             220000 non-null  int64  \n",
      " 2   target             220000 non-null  int64  \n",
      " 3   x1                 220000 non-null  float64\n",
      " 4   x2                 220000 non-null  float64\n",
      " 5   x3                 220000 non-null  float64\n",
      " 6   x4                 220000 non-null  float64\n",
      " 7   x5                 220000 non-null  float64\n",
      " 8   x6                 220000 non-null  float64\n",
      " 9   x7                 220000 non-null  float64\n",
      " 10  x8                 220000 non-null  float64\n",
      " 11  x9                 220000 non-null  float64\n",
      " 12  age                220000 non-null  int64  \n",
      " 13  m                  220000 non-null  int32  \n",
      " 14  dow                220000 non-null  int32  \n",
      " 15  d_diff             220000 non-null  int64  \n",
      " 16  campaing_id_iddqd  220000 non-null  float64\n",
      " 17  city_Smolensk      220000 non-null  float64\n",
      " 18  city_Ufa           220000 non-null  float64\n",
      "dtypes: float64(12), int32(2), int64(5)\n",
      "memory usage: 30.2 MB\n"
     ]
    }
   ],
   "execution_count": 166
  },
  {
   "metadata": {
    "ExecuteTime": {
     "end_time": "2025-03-21T12:20:30.518389Z",
     "start_time": "2025-03-21T12:20:30.483840Z"
    }
   },
   "cell_type": "code",
   "source": [
    "# Выделение признаков для моделирования\n",
    "features = [col for col in df.columns if col.startswith('x')] + ['m', 'dow', 'd_diff', 'age']  # Числовые признаки: x-переменные, временные характеристики и возраст\n",
    "categorical_features = [ 'city_Smolensk', 'city_Ufa', 'campaing_id_iddqd']  # Категориальные признаки: флаги кампаний и городов\n",
    "\n",
    "# Формирование матрицы признаков и целевой переменной\n",
    "X = df[features + categorical_features]  # Объединение всех признаков в матрицу X\n",
    "y = df['target']  # Целевая переменная (факт конверсии/покупки)\n",
    "treatment = df['t_flag']  # Флаг принадлежности к тестовой группе для uplift-моделирования"
   ],
   "outputs": [],
   "execution_count": 167
  },
  {
   "metadata": {
    "ExecuteTime": {
     "end_time": "2025-03-21T12:22:15.350509Z",
     "start_time": "2025-03-21T12:22:15.279931Z"
    }
   },
   "cell_type": "code",
   "source": [
    "X_train, X_test, y_train, y_test, treat_train, treat_test = train_test_split(X, y, treatment, test_size=0.25, random_state=42, stratify=treatment)\n",
    "X_train.shape, X_test.shape"
   ],
   "outputs": [
    {
     "data": {
      "text/plain": [
       "((165000, 16), (55000, 16))"
      ]
     },
     "execution_count": 169,
     "metadata": {},
     "output_type": "execute_result"
    }
   ],
   "execution_count": 169
  },
  {
   "metadata": {
    "ExecuteTime": {
     "end_time": "2025-03-21T12:23:26.963369Z",
     "start_time": "2025-03-21T12:23:26.909863Z"
    }
   },
   "cell_type": "code",
   "source": [
    "# Масштабирование числовых признаков (нормализация в диапазон [0, 1])\n",
    "scaler = MinMaxScaler()  # Инициализация масштабирующего преобразователя MinMaxScaler\n",
    "numeric_features = [col for col in features if col not in categorical_features]  # Определение списка только числовых признаков\n",
    "X_train[numeric_features] = scaler.fit_transform(X_train[numeric_features])  # Обучение масштабирования на тренировочных данных и применение\n",
    "X_test[numeric_features] = scaler.transform(X_test[numeric_features])  # Применение того же масштабирования к тестовым данным"
   ],
   "outputs": [],
   "execution_count": 170
  },
  {
   "metadata": {
    "ExecuteTime": {
     "end_time": "2025-03-21T12:31:58.530250Z",
     "start_time": "2025-03-21T12:31:51.146851Z"
    }
   },
   "cell_type": "code",
   "source": [
    "!pip uninstall xgboost -y\n",
    "!pip install xgboost --no-cache-dir\n",
    "!pip install --no-cache-dir --upgrade xgboost\n",
    "!pip install --no-cache-dir --upgrade causalml\n"
   ],
   "outputs": [
    {
     "name": "stdout",
     "output_type": "stream",
     "text": [
      "Found existing installation: xgboost 3.0.0\r\n",
      "Uninstalling xgboost-3.0.0:\r\n",
      "  Successfully uninstalled xgboost-3.0.0\r\n",
      "Collecting xgboost\r\n",
      "  Downloading xgboost-3.0.0-py3-none-macosx_12_0_arm64.whl.metadata (2.1 kB)\r\n",
      "Requirement already satisfied: numpy in /Users/duke/miniconda3/envs/HSE-AI-HW-11/lib/python3.11/site-packages (from xgboost) (1.23.5)\r\n",
      "Requirement already satisfied: scipy in /Users/duke/miniconda3/envs/HSE-AI-HW-11/lib/python3.11/site-packages (from xgboost) (1.15.2)\r\n",
      "Downloading xgboost-3.0.0-py3-none-macosx_12_0_arm64.whl (2.0 MB)\r\n",
      "\u001B[2K   \u001B[90m━━━━━━━━━━━━━━━━━━━━━━━━━━━━━━━━━━━━━━━━\u001B[0m \u001B[32m2.0/2.0 MB\u001B[0m \u001B[31m10.9 MB/s\u001B[0m eta \u001B[36m0:00:00\u001B[0m \u001B[36m0:00:01\u001B[0m\r\n",
      "\u001B[?25hInstalling collected packages: xgboost\r\n",
      "Successfully installed xgboost-3.0.0\r\n",
      "Requirement already satisfied: xgboost in /Users/duke/miniconda3/envs/HSE-AI-HW-11/lib/python3.11/site-packages (3.0.0)\r\n",
      "Requirement already satisfied: numpy in /Users/duke/miniconda3/envs/HSE-AI-HW-11/lib/python3.11/site-packages (from xgboost) (1.23.5)\r\n",
      "Requirement already satisfied: scipy in /Users/duke/miniconda3/envs/HSE-AI-HW-11/lib/python3.11/site-packages (from xgboost) (1.15.2)\r\n",
      "Requirement already satisfied: causalml in /Users/duke/miniconda3/envs/HSE-AI-HW-11/lib/python3.11/site-packages (0.15.2)\r\n",
      "Collecting causalml\r\n",
      "  Downloading causalml-0.15.3-cp311-cp311-macosx_11_0_arm64.whl.metadata (10 kB)\r\n",
      "Requirement already satisfied: forestci==0.6 in /Users/duke/miniconda3/envs/HSE-AI-HW-11/lib/python3.11/site-packages (from causalml) (0.6)\r\n",
      "Requirement already satisfied: pathos==0.2.9 in /Users/duke/miniconda3/envs/HSE-AI-HW-11/lib/python3.11/site-packages (from causalml) (0.2.9)\r\n",
      "Requirement already satisfied: pip>=10.0 in /Users/duke/miniconda3/envs/HSE-AI-HW-11/lib/python3.11/site-packages (from causalml) (24.2)\r\n",
      "Requirement already satisfied: numpy>=1.18.5 in /Users/duke/miniconda3/envs/HSE-AI-HW-11/lib/python3.11/site-packages (from causalml) (1.23.5)\r\n",
      "Requirement already satisfied: scipy>=1.4.1 in /Users/duke/miniconda3/envs/HSE-AI-HW-11/lib/python3.11/site-packages (from causalml) (1.15.2)\r\n",
      "Requirement already satisfied: matplotlib in /Users/duke/miniconda3/envs/HSE-AI-HW-11/lib/python3.11/site-packages (from causalml) (3.10.0)\r\n",
      "Requirement already satisfied: pandas>=0.24.1 in /Users/duke/miniconda3/envs/HSE-AI-HW-11/lib/python3.11/site-packages (from causalml) (2.2.3)\r\n",
      "Collecting scikit-learn>=1.5.2 (from causalml)\r\n",
      "  Downloading scikit_learn-1.6.1-cp311-cp311-macosx_12_0_arm64.whl.metadata (31 kB)\r\n",
      "Requirement already satisfied: statsmodels>=0.9.0 in /Users/duke/miniconda3/envs/HSE-AI-HW-11/lib/python3.11/site-packages (from causalml) (0.14.4)\r\n",
      "Requirement already satisfied: Cython in /Users/duke/miniconda3/envs/HSE-AI-HW-11/lib/python3.11/site-packages (from causalml) (0.29.34)\r\n",
      "Requirement already satisfied: seaborn in /Users/duke/miniconda3/envs/HSE-AI-HW-11/lib/python3.11/site-packages (from causalml) (0.13.2)\r\n",
      "Requirement already satisfied: xgboost in /Users/duke/miniconda3/envs/HSE-AI-HW-11/lib/python3.11/site-packages (from causalml) (3.0.0)\r\n",
      "Requirement already satisfied: pydotplus in /Users/duke/miniconda3/envs/HSE-AI-HW-11/lib/python3.11/site-packages (from causalml) (2.0.2)\r\n",
      "Requirement already satisfied: tqdm in /Users/duke/miniconda3/envs/HSE-AI-HW-11/lib/python3.11/site-packages (from causalml) (4.67.1)\r\n",
      "Requirement already satisfied: shap in /Users/duke/miniconda3/envs/HSE-AI-HW-11/lib/python3.11/site-packages (from causalml) (0.47.0)\r\n",
      "Requirement already satisfied: dill in /Users/duke/miniconda3/envs/HSE-AI-HW-11/lib/python3.11/site-packages (from causalml) (0.3.9)\r\n",
      "Requirement already satisfied: lightgbm in /Users/duke/miniconda3/envs/HSE-AI-HW-11/lib/python3.11/site-packages (from causalml) (4.6.0)\r\n",
      "Requirement already satisfied: packaging in /Users/duke/miniconda3/envs/HSE-AI-HW-11/lib/python3.11/site-packages (from causalml) (24.2)\r\n",
      "Requirement already satisfied: graphviz in /Users/duke/miniconda3/envs/HSE-AI-HW-11/lib/python3.11/site-packages (from causalml) (0.20.1)\r\n",
      "Requirement already satisfied: ppft>=1.7.6.5 in /Users/duke/miniconda3/envs/HSE-AI-HW-11/lib/python3.11/site-packages (from pathos==0.2.9->causalml) (1.7.6.9)\r\n",
      "Requirement already satisfied: pox>=0.3.1 in /Users/duke/miniconda3/envs/HSE-AI-HW-11/lib/python3.11/site-packages (from pathos==0.2.9->causalml) (0.3.5)\r\n",
      "Requirement already satisfied: multiprocess>=0.70.13 in /Users/duke/miniconda3/envs/HSE-AI-HW-11/lib/python3.11/site-packages (from pathos==0.2.9->causalml) (0.70.17)\r\n",
      "Requirement already satisfied: python-dateutil>=2.8.2 in /Users/duke/miniconda3/envs/HSE-AI-HW-11/lib/python3.11/site-packages (from pandas>=0.24.1->causalml) (2.9.0.post0)\r\n",
      "Requirement already satisfied: pytz>=2020.1 in /Users/duke/miniconda3/envs/HSE-AI-HW-11/lib/python3.11/site-packages (from pandas>=0.24.1->causalml) (2024.1)\r\n",
      "Requirement already satisfied: tzdata>=2022.7 in /Users/duke/miniconda3/envs/HSE-AI-HW-11/lib/python3.11/site-packages (from pandas>=0.24.1->causalml) (2023.3)\r\n",
      "Requirement already satisfied: joblib>=1.2.0 in /Users/duke/miniconda3/envs/HSE-AI-HW-11/lib/python3.11/site-packages (from scikit-learn>=1.5.2->causalml) (1.4.2)\r\n",
      "Requirement already satisfied: threadpoolctl>=3.1.0 in /Users/duke/miniconda3/envs/HSE-AI-HW-11/lib/python3.11/site-packages (from scikit-learn>=1.5.2->causalml) (3.5.0)\r\n",
      "Requirement already satisfied: patsy>=0.5.6 in /Users/duke/miniconda3/envs/HSE-AI-HW-11/lib/python3.11/site-packages (from statsmodels>=0.9.0->causalml) (1.0.1)\r\n",
      "Requirement already satisfied: contourpy>=1.0.1 in /Users/duke/miniconda3/envs/HSE-AI-HW-11/lib/python3.11/site-packages (from matplotlib->causalml) (1.3.1)\r\n",
      "Requirement already satisfied: cycler>=0.10 in /Users/duke/miniconda3/envs/HSE-AI-HW-11/lib/python3.11/site-packages (from matplotlib->causalml) (0.11.0)\r\n",
      "Requirement already satisfied: fonttools>=4.22.0 in /Users/duke/miniconda3/envs/HSE-AI-HW-11/lib/python3.11/site-packages (from matplotlib->causalml) (4.55.3)\r\n",
      "Requirement already satisfied: kiwisolver>=1.3.1 in /Users/duke/miniconda3/envs/HSE-AI-HW-11/lib/python3.11/site-packages (from matplotlib->causalml) (1.4.8)\r\n",
      "Requirement already satisfied: pillow>=8 in /Users/duke/miniconda3/envs/HSE-AI-HW-11/lib/python3.11/site-packages (from matplotlib->causalml) (11.1.0)\r\n",
      "Requirement already satisfied: pyparsing>=2.3.1 in /Users/duke/miniconda3/envs/HSE-AI-HW-11/lib/python3.11/site-packages (from matplotlib->causalml) (3.2.0)\r\n",
      "Requirement already satisfied: slicer==0.0.8 in /Users/duke/miniconda3/envs/HSE-AI-HW-11/lib/python3.11/site-packages (from shap->causalml) (0.0.8)\r\n",
      "Requirement already satisfied: numba>=0.54 in /Users/duke/miniconda3/envs/HSE-AI-HW-11/lib/python3.11/site-packages (from shap->causalml) (0.60.0)\r\n",
      "Requirement already satisfied: cloudpickle in /Users/duke/miniconda3/envs/HSE-AI-HW-11/lib/python3.11/site-packages (from shap->causalml) (3.1.1)\r\n",
      "Requirement already satisfied: typing-extensions in /Users/duke/miniconda3/envs/HSE-AI-HW-11/lib/python3.11/site-packages (from shap->causalml) (4.12.2)\r\n",
      "Requirement already satisfied: llvmlite<0.44,>=0.43.0dev0 in /Users/duke/miniconda3/envs/HSE-AI-HW-11/lib/python3.11/site-packages (from numba>=0.54->shap->causalml) (0.43.0)\r\n",
      "Requirement already satisfied: six>=1.5 in /Users/duke/miniconda3/envs/HSE-AI-HW-11/lib/python3.11/site-packages (from python-dateutil>=2.8.2->pandas>=0.24.1->causalml) (1.16.0)\r\n",
      "Downloading causalml-0.15.3-cp311-cp311-macosx_11_0_arm64.whl (2.9 MB)\r\n",
      "\u001B[2K   \u001B[90m━━━━━━━━━━━━━━━━━━━━━━━━━━━━━━━━━━━━━━━━\u001B[0m \u001B[32m2.9/2.9 MB\u001B[0m \u001B[31m11.1 MB/s\u001B[0m eta \u001B[36m0:00:00\u001B[0ma \u001B[36m0:00:01\u001B[0m\r\n",
      "\u001B[?25hDownloading scikit_learn-1.6.1-cp311-cp311-macosx_12_0_arm64.whl (11.1 MB)\r\n",
      "\u001B[2K   \u001B[90m━━━━━━━━━━━━━━━━━━━━━━━━━━━━━━━━━━━━━━━━\u001B[0m \u001B[32m11.1/11.1 MB\u001B[0m \u001B[31m11.2 MB/s\u001B[0m eta \u001B[36m0:00:00\u001B[0m \u001B[36m0:00:01\u001B[0m\r\n",
      "\u001B[?25hInstalling collected packages: scikit-learn, causalml\r\n",
      "  Attempting uninstall: scikit-learn\r\n",
      "    Found existing installation: scikit-learn 1.2.2\r\n",
      "    Uninstalling scikit-learn-1.2.2:\r\n",
      "      Successfully uninstalled scikit-learn-1.2.2\r\n",
      "  Attempting uninstall: causalml\r\n",
      "    Found existing installation: causalml 0.15.2\r\n",
      "    Uninstalling causalml-0.15.2:\r\n",
      "      Successfully uninstalled causalml-0.15.2\r\n",
      "Successfully installed causalml-0.15.3 scikit-learn-1.6.1\r\n"
     ]
    }
   ],
   "execution_count": 176
  },
  {
   "metadata": {
    "ExecuteTime": {
     "end_time": "2025-03-21T12:36:23.918636Z",
     "start_time": "2025-03-21T12:36:23.791311Z"
    }
   },
   "cell_type": "code",
   "source": [
    "from causalml.inference.tree import UpliftRandomForestClassifier\n",
    "# не заводится у меня в окружении, все доступные методы перепробовал("
   ],
   "outputs": [
    {
     "ename": "ImportError",
     "evalue": "cannot import name 'make_jcargs' from 'xgboost.core' (/Users/duke/miniconda3/envs/HSE-AI-HW-11/lib/python3.11/site-packages/xgboost/core.py)",
     "output_type": "error",
     "traceback": [
      "\u001B[0;31m---------------------------------------------------------------------------\u001B[0m",
      "\u001B[0;31mImportError\u001B[0m                               Traceback (most recent call last)",
      "Cell \u001B[0;32mIn[178], line 1\u001B[0m\n\u001B[0;32m----> 1\u001B[0m \u001B[38;5;28;01mfrom\u001B[39;00m \u001B[38;5;21;01mcausalml\u001B[39;00m\u001B[38;5;21;01m.\u001B[39;00m\u001B[38;5;21;01minference\u001B[39;00m\u001B[38;5;21;01m.\u001B[39;00m\u001B[38;5;21;01mtree\u001B[39;00m \u001B[38;5;28;01mimport\u001B[39;00m UpliftRandomForestClassifier\n",
      "File \u001B[0;32m~/miniconda3/envs/HSE-AI-HW-11/lib/python3.11/site-packages/causalml/inference/tree/__init__.py:1\u001B[0m\n\u001B[0;32m----> 1\u001B[0m \u001B[38;5;28;01mfrom\u001B[39;00m \u001B[38;5;21;01m.\u001B[39;00m\u001B[38;5;21;01mcausal\u001B[39;00m\u001B[38;5;21;01m.\u001B[39;00m\u001B[38;5;21;01mcausaltree\u001B[39;00m \u001B[38;5;28;01mimport\u001B[39;00m CausalTreeRegressor\n\u001B[1;32m      2\u001B[0m \u001B[38;5;28;01mfrom\u001B[39;00m \u001B[38;5;21;01m.\u001B[39;00m\u001B[38;5;21;01mcausal\u001B[39;00m\u001B[38;5;21;01m.\u001B[39;00m\u001B[38;5;21;01mcausalforest\u001B[39;00m \u001B[38;5;28;01mimport\u001B[39;00m CausalRandomForestRegressor\n\u001B[1;32m      3\u001B[0m \u001B[38;5;28;01mfrom\u001B[39;00m \u001B[38;5;21;01m.\u001B[39;00m\u001B[38;5;21;01mplot\u001B[39;00m \u001B[38;5;28;01mimport\u001B[39;00m uplift_tree_string, uplift_tree_plot, plot_dist_tree_leaves_values\n",
      "File \u001B[0;32m~/miniconda3/envs/HSE-AI-HW-11/lib/python3.11/site-packages/causalml/inference/tree/causal/causaltree.py:14\u001B[0m\n\u001B[1;32m     11\u001B[0m \u001B[38;5;28;01mfrom\u001B[39;00m \u001B[38;5;21;01msklearn\u001B[39;00m\u001B[38;5;21;01m.\u001B[39;00m\u001B[38;5;21;01mutils\u001B[39;00m \u001B[38;5;28;01mimport\u001B[39;00m check_array\n\u001B[1;32m     12\u001B[0m \u001B[38;5;28;01mfrom\u001B[39;00m \u001B[38;5;21;01msklearn\u001B[39;00m\u001B[38;5;21;01m.\u001B[39;00m\u001B[38;5;21;01mutils\u001B[39;00m\u001B[38;5;21;01m.\u001B[39;00m\u001B[38;5;21;01mvalidation\u001B[39;00m \u001B[38;5;28;01mimport\u001B[39;00m check_is_fitted\n\u001B[0;32m---> 14\u001B[0m \u001B[38;5;28;01mfrom\u001B[39;00m \u001B[38;5;21;01mcausalml\u001B[39;00m\u001B[38;5;21;01m.\u001B[39;00m\u001B[38;5;21;01minference\u001B[39;00m\u001B[38;5;21;01m.\u001B[39;00m\u001B[38;5;21;01mmeta\u001B[39;00m\u001B[38;5;21;01m.\u001B[39;00m\u001B[38;5;21;01mutils\u001B[39;00m \u001B[38;5;28;01mimport\u001B[39;00m check_treatment_vector\n\u001B[1;32m     16\u001B[0m \u001B[38;5;28;01mfrom\u001B[39;00m \u001B[38;5;21;01m.\u001B[39;00m\u001B[38;5;21;01m_tree\u001B[39;00m \u001B[38;5;28;01mimport\u001B[39;00m BaseCausalDecisionTree\n\u001B[1;32m     17\u001B[0m \u001B[38;5;28;01mfrom\u001B[39;00m \u001B[38;5;21;01m.\u001B[39;00m\u001B[38;5;21;01m.\u001B[39;00m\u001B[38;5;21;01mutils\u001B[39;00m \u001B[38;5;28;01mimport\u001B[39;00m get_tree_leaves_mask, timeit\n",
      "File \u001B[0;32m~/miniconda3/envs/HSE-AI-HW-11/lib/python3.11/site-packages/causalml/inference/meta/__init__.py:1\u001B[0m\n\u001B[0;32m----> 1\u001B[0m \u001B[38;5;28;01mfrom\u001B[39;00m \u001B[38;5;21;01m.\u001B[39;00m\u001B[38;5;21;01mslearner\u001B[39;00m \u001B[38;5;28;01mimport\u001B[39;00m LRSRegressor, BaseSLearner, BaseSRegressor, BaseSClassifier\n\u001B[1;32m      2\u001B[0m \u001B[38;5;28;01mfrom\u001B[39;00m \u001B[38;5;21;01m.\u001B[39;00m\u001B[38;5;21;01mtlearner\u001B[39;00m \u001B[38;5;28;01mimport\u001B[39;00m (\n\u001B[1;32m      3\u001B[0m     XGBTRegressor,\n\u001B[1;32m      4\u001B[0m     MLPTRegressor,\n\u001B[0;32m   (...)\u001B[0m\n\u001B[1;32m      7\u001B[0m     BaseTClassifier,\n\u001B[1;32m      8\u001B[0m )\n\u001B[1;32m      9\u001B[0m \u001B[38;5;28;01mfrom\u001B[39;00m \u001B[38;5;21;01m.\u001B[39;00m\u001B[38;5;21;01mxlearner\u001B[39;00m \u001B[38;5;28;01mimport\u001B[39;00m BaseXLearner, BaseXRegressor, BaseXClassifier\n",
      "File \u001B[0;32m~/miniconda3/envs/HSE-AI-HW-11/lib/python3.11/site-packages/causalml/inference/meta/slearner.py:9\u001B[0m\n\u001B[1;32m      6\u001B[0m \u001B[38;5;28;01mimport\u001B[39;00m \u001B[38;5;21;01mstatsmodels\u001B[39;00m\u001B[38;5;21;01m.\u001B[39;00m\u001B[38;5;21;01mapi\u001B[39;00m \u001B[38;5;28;01mas\u001B[39;00m \u001B[38;5;21;01msm\u001B[39;00m\n\u001B[1;32m      7\u001B[0m \u001B[38;5;28;01mfrom\u001B[39;00m \u001B[38;5;21;01mcopy\u001B[39;00m \u001B[38;5;28;01mimport\u001B[39;00m deepcopy\n\u001B[0;32m----> 9\u001B[0m \u001B[38;5;28;01mfrom\u001B[39;00m \u001B[38;5;21;01mcausalml\u001B[39;00m\u001B[38;5;21;01m.\u001B[39;00m\u001B[38;5;21;01minference\u001B[39;00m\u001B[38;5;21;01m.\u001B[39;00m\u001B[38;5;21;01mmeta\u001B[39;00m\u001B[38;5;21;01m.\u001B[39;00m\u001B[38;5;21;01mbase\u001B[39;00m \u001B[38;5;28;01mimport\u001B[39;00m BaseLearner\n\u001B[1;32m     10\u001B[0m \u001B[38;5;28;01mfrom\u001B[39;00m \u001B[38;5;21;01mcausalml\u001B[39;00m\u001B[38;5;21;01m.\u001B[39;00m\u001B[38;5;21;01minference\u001B[39;00m\u001B[38;5;21;01m.\u001B[39;00m\u001B[38;5;21;01mmeta\u001B[39;00m\u001B[38;5;21;01m.\u001B[39;00m\u001B[38;5;21;01mutils\u001B[39;00m \u001B[38;5;28;01mimport\u001B[39;00m check_treatment_vector, convert_pd_to_np\n\u001B[1;32m     11\u001B[0m \u001B[38;5;28;01mfrom\u001B[39;00m \u001B[38;5;21;01mcausalml\u001B[39;00m\u001B[38;5;21;01m.\u001B[39;00m\u001B[38;5;21;01mmetrics\u001B[39;00m \u001B[38;5;28;01mimport\u001B[39;00m regression_metrics, classification_metrics\n",
      "File \u001B[0;32m~/miniconda3/envs/HSE-AI-HW-11/lib/python3.11/site-packages/causalml/inference/meta/base.py:6\u001B[0m\n\u001B[1;32m      3\u001B[0m \u001B[38;5;28;01mimport\u001B[39;00m \u001B[38;5;21;01mnumpy\u001B[39;00m \u001B[38;5;28;01mas\u001B[39;00m \u001B[38;5;21;01mnp\u001B[39;00m\n\u001B[1;32m      4\u001B[0m \u001B[38;5;28;01mimport\u001B[39;00m \u001B[38;5;21;01mpandas\u001B[39;00m \u001B[38;5;28;01mas\u001B[39;00m \u001B[38;5;21;01mpd\u001B[39;00m\n\u001B[0;32m----> 6\u001B[0m \u001B[38;5;28;01mfrom\u001B[39;00m \u001B[38;5;21;01mcausalml\u001B[39;00m\u001B[38;5;21;01m.\u001B[39;00m\u001B[38;5;21;01minference\u001B[39;00m\u001B[38;5;21;01m.\u001B[39;00m\u001B[38;5;21;01mmeta\u001B[39;00m\u001B[38;5;21;01m.\u001B[39;00m\u001B[38;5;21;01mexplainer\u001B[39;00m \u001B[38;5;28;01mimport\u001B[39;00m Explainer\n\u001B[1;32m      7\u001B[0m \u001B[38;5;28;01mfrom\u001B[39;00m \u001B[38;5;21;01mcausalml\u001B[39;00m\u001B[38;5;21;01m.\u001B[39;00m\u001B[38;5;21;01minference\u001B[39;00m\u001B[38;5;21;01m.\u001B[39;00m\u001B[38;5;21;01mmeta\u001B[39;00m\u001B[38;5;21;01m.\u001B[39;00m\u001B[38;5;21;01mutils\u001B[39;00m \u001B[38;5;28;01mimport\u001B[39;00m check_p_conditions, convert_pd_to_np\n\u001B[1;32m      8\u001B[0m \u001B[38;5;28;01mfrom\u001B[39;00m \u001B[38;5;21;01mcausalml\u001B[39;00m\u001B[38;5;21;01m.\u001B[39;00m\u001B[38;5;21;01mpropensity\u001B[39;00m \u001B[38;5;28;01mimport\u001B[39;00m compute_propensity_score\n",
      "File \u001B[0;32m~/miniconda3/envs/HSE-AI-HW-11/lib/python3.11/site-packages/causalml/inference/meta/explainer.py:9\u001B[0m\n\u001B[1;32m      6\u001B[0m \u001B[38;5;28;01mfrom\u001B[39;00m \u001B[38;5;21;01msklearn\u001B[39;00m\u001B[38;5;21;01m.\u001B[39;00m\u001B[38;5;21;01mmodel_selection\u001B[39;00m \u001B[38;5;28;01mimport\u001B[39;00m train_test_split\n\u001B[1;32m      7\u001B[0m \u001B[38;5;28;01mfrom\u001B[39;00m \u001B[38;5;21;01mcopy\u001B[39;00m \u001B[38;5;28;01mimport\u001B[39;00m deepcopy\n\u001B[0;32m----> 9\u001B[0m \u001B[38;5;28;01mfrom\u001B[39;00m \u001B[38;5;21;01mcausalml\u001B[39;00m\u001B[38;5;21;01m.\u001B[39;00m\u001B[38;5;21;01minference\u001B[39;00m\u001B[38;5;21;01m.\u001B[39;00m\u001B[38;5;21;01mmeta\u001B[39;00m\u001B[38;5;21;01m.\u001B[39;00m\u001B[38;5;21;01mutils\u001B[39;00m \u001B[38;5;28;01mimport\u001B[39;00m convert_pd_to_np\n\u001B[1;32m     11\u001B[0m VALID_METHODS \u001B[38;5;241m=\u001B[39m (\u001B[38;5;124m\"\u001B[39m\u001B[38;5;124mauto\u001B[39m\u001B[38;5;124m\"\u001B[39m, \u001B[38;5;124m\"\u001B[39m\u001B[38;5;124mpermutation\u001B[39m\u001B[38;5;124m\"\u001B[39m, \u001B[38;5;124m\"\u001B[39m\u001B[38;5;124mshapley\u001B[39m\u001B[38;5;124m\"\u001B[39m)\n\u001B[1;32m     14\u001B[0m \u001B[38;5;28;01mclass\u001B[39;00m \u001B[38;5;21;01mExplainer\u001B[39;00m:\n",
      "File \u001B[0;32m~/miniconda3/envs/HSE-AI-HW-11/lib/python3.11/site-packages/causalml/inference/meta/utils.py:5\u001B[0m\n\u001B[1;32m      2\u001B[0m \u001B[38;5;28;01mimport\u001B[39;00m \u001B[38;5;21;01mnumpy\u001B[39;00m \u001B[38;5;28;01mas\u001B[39;00m \u001B[38;5;21;01mnp\u001B[39;00m\n\u001B[1;32m      4\u001B[0m \u001B[38;5;28;01mfrom\u001B[39;00m \u001B[38;5;21;01mpackaging\u001B[39;00m \u001B[38;5;28;01mimport\u001B[39;00m version\n\u001B[0;32m----> 5\u001B[0m \u001B[38;5;28;01mfrom\u001B[39;00m \u001B[38;5;21;01mxgboost\u001B[39;00m \u001B[38;5;28;01mimport\u001B[39;00m __version__ \u001B[38;5;28;01mas\u001B[39;00m xgboost_version\n\u001B[1;32m      8\u001B[0m \u001B[38;5;28;01mdef\u001B[39;00m \u001B[38;5;21mconvert_pd_to_np\u001B[39m(\u001B[38;5;241m*\u001B[39margs):\n\u001B[1;32m      9\u001B[0m     output \u001B[38;5;241m=\u001B[39m [obj\u001B[38;5;241m.\u001B[39mto_numpy() \u001B[38;5;28;01mif\u001B[39;00m \u001B[38;5;28mhasattr\u001B[39m(obj, \u001B[38;5;124m\"\u001B[39m\u001B[38;5;124mto_numpy\u001B[39m\u001B[38;5;124m\"\u001B[39m) \u001B[38;5;28;01melse\u001B[39;00m obj \u001B[38;5;28;01mfor\u001B[39;00m obj \u001B[38;5;129;01min\u001B[39;00m args]\n",
      "File \u001B[0;32m~/miniconda3/envs/HSE-AI-HW-11/lib/python3.11/site-packages/xgboost/__init__.py:6\u001B[0m\n\u001B[1;32m      0\u001B[0m <Error retrieving source code with stack_data see ipython/ipython#13598>\n",
      "File \u001B[0;32m~/miniconda3/envs/HSE-AI-HW-11/lib/python3.11/site-packages/xgboost/tracker.py:9\u001B[0m\n\u001B[1;32m      6\u001B[0m \u001B[38;5;28;01mfrom\u001B[39;00m \u001B[38;5;21;01menum\u001B[39;00m \u001B[38;5;28;01mimport\u001B[39;00m IntEnum, unique\n\u001B[1;32m      7\u001B[0m \u001B[38;5;28;01mfrom\u001B[39;00m \u001B[38;5;21;01mtyping\u001B[39;00m \u001B[38;5;28;01mimport\u001B[39;00m Dict, Optional, Union\n\u001B[0;32m----> 9\u001B[0m \u001B[38;5;28;01mfrom\u001B[39;00m \u001B[38;5;21;01m.\u001B[39;00m\u001B[38;5;21;01mcore\u001B[39;00m \u001B[38;5;28;01mimport\u001B[39;00m _LIB, _check_call, _deprecate_positional_args, make_jcargs\n\u001B[1;32m     12\u001B[0m \u001B[38;5;28;01mdef\u001B[39;00m \u001B[38;5;21mget_family\u001B[39m(addr: \u001B[38;5;28mstr\u001B[39m) \u001B[38;5;241m-\u001B[39m\u001B[38;5;241m>\u001B[39m \u001B[38;5;28mint\u001B[39m:\n\u001B[1;32m     13\u001B[0m \u001B[38;5;250m    \u001B[39m\u001B[38;5;124;03m\"\"\"Get network family from address.\"\"\"\u001B[39;00m\n",
      "\u001B[0;31mImportError\u001B[0m: cannot import name 'make_jcargs' from 'xgboost.core' (/Users/duke/miniconda3/envs/HSE-AI-HW-11/lib/python3.11/site-packages/xgboost/core.py)"
     ]
    }
   ],
   "execution_count": 178
  },
  {
   "cell_type": "markdown",
   "metadata": {
    "id": "IG98Ll0W25YF"
   },
   "source": [
    "<h2>4. Подготовка ответа в требуемом формате и подготовка выводов (6 баллов)</h2>\n",
    "\n",
    "a) Сделайте скоринг нужных клиентов, подготовьте ответ в требуемом формате\n",
    "\n",
    "б) Сделайте краткую аналитику того, какой канал взаимодействия наиболее предпочтителен\n",
    "\n",
    "в) Сделайте выводы по проделанной работе"
   ]
  },
  {
   "cell_type": "markdown",
   "source": [
    "**Комментарий по заданиям и оцениванию:**\n",
    "\n",
    "* Подготовлен только ответ - **1 балл**\n",
    "* Подготовлен содержательный вывод по проделанной работе - **4 балла**\n",
    "* Корректно принято решение об отправке/не отправке коммуникации клиентам в зависимости от значений Uplift - **1 балл**"
   ],
   "metadata": {
    "id": "I1SQE2JRMNsA"
   }
  },
  {
   "cell_type": "code",
   "source": [
    "# ваш код здесь"
   ],
   "metadata": {
    "id": "0HmitRRX4nVY"
   },
   "execution_count": null,
   "outputs": []
  },
  {
   "cell_type": "markdown",
   "source": [
    "### ваши выводы здесь"
   ],
   "metadata": {
    "id": "LGavtbmn4oj1"
   }
  }
 ],
 "metadata": {
  "language_info": {
   "name": "python"
  },
  "colab": {
   "provenance": [],
   "include_colab_link": true
  },
  "kernelspec": {
   "name": "python3",
   "display_name": "Python 3 (ipykernel)",
   "language": "python"
  }
 },
 "nbformat": 4,
 "nbformat_minor": 0
}
